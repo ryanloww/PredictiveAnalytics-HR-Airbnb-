{
 "cells": [
  {
   "cell_type": "code",
   "execution_count": 1,
   "metadata": {},
   "outputs": [],
   "source": [
    "# import the required packages\n",
    "import numpy as np \n",
    "import pandas as pd\n",
    "from sklearn.model_selection import train_test_split\n",
    "from sklearn.tree import DecisionTreeClassifier, DecisionTreeRegressor\n",
    "from sklearn. ensemble import RandomForestClassifier, BaggingClassifier, AdaBoostClassifier, VotingClassifier, RandomForestRegressor,AdaBoostRegressor, VotingRegressor\n",
    "\n",
    "from sklearn.linear_model import LogisticRegression, LinearRegression\n",
    "from sklearn.model_selection import cross_val_score, cross_validate\n",
    "from sklearn.model_selection import GridSearchCV\n",
    "from sklearn.svm import SVC\n",
    "from sklearn.svm import SVR\n",
    "from sklearn.neural_network import MLPClassifier, MLPRegressor\n",
    "from sklearn.metrics import accuracy_score\n",
    "from sklearn import metrics\n",
    "from sklearn import tree \n",
    "import matplotlib.pyplot as plt\n",
    "import statsmodels.api as sm\n",
    "from xgboost import XGBClassifier\n",
    "from sklearn.metrics import mean_squared_error\n",
    "from xgboost import XGBRegressor\n",
    "from math import sqrt\n",
    "%matplotlib inline"
   ]
  },
  {
   "cell_type": "code",
   "execution_count": 1,
   "metadata": {},
   "outputs": [
    {
     "data": {
      "text/html": [
       "<style>.container { width:100% !important; }</style>"
      ],
      "text/plain": [
       "<IPython.core.display.HTML object>"
      ]
     },
     "metadata": {},
     "output_type": "display_data"
    }
   ],
   "source": [
    "from IPython.core.display import display, HTML\n",
    "display(HTML(\"<style>.container { width:100% !important; }</style>\"))"
   ]
  },
  {
   "cell_type": "markdown",
   "metadata": {},
   "source": [
    "### 1.1 Load and Sample the data"
   ]
  },
  {
   "cell_type": "code",
   "execution_count": 93,
   "metadata": {
    "scrolled": true
   },
   "outputs": [
    {
     "data": {
      "text/html": [
       "<div>\n",
       "<style scoped>\n",
       "    .dataframe tbody tr th:only-of-type {\n",
       "        vertical-align: middle;\n",
       "    }\n",
       "\n",
       "    .dataframe tbody tr th {\n",
       "        vertical-align: top;\n",
       "    }\n",
       "\n",
       "    .dataframe thead th {\n",
       "        text-align: right;\n",
       "    }\n",
       "</style>\n",
       "<table border=\"1\" class=\"dataframe\">\n",
       "  <thead>\n",
       "    <tr style=\"text-align: right;\">\n",
       "      <th></th>\n",
       "      <th>department</th>\n",
       "      <th>region</th>\n",
       "      <th>education</th>\n",
       "      <th>gender</th>\n",
       "      <th>no_of_trainings</th>\n",
       "      <th>age</th>\n",
       "      <th>previous_year_rating</th>\n",
       "      <th>length_of_service</th>\n",
       "      <th>KPIs_met &gt;80%</th>\n",
       "      <th>awards_won?</th>\n",
       "      <th>avg_training_score</th>\n",
       "      <th>is_promoted</th>\n",
       "    </tr>\n",
       "  </thead>\n",
       "  <tbody>\n",
       "    <tr>\n",
       "      <th>0</th>\n",
       "      <td>9</td>\n",
       "      <td>7</td>\n",
       "      <td>3</td>\n",
       "      <td>0</td>\n",
       "      <td>1</td>\n",
       "      <td>35</td>\n",
       "      <td>5.0</td>\n",
       "      <td>3</td>\n",
       "      <td>1</td>\n",
       "      <td>0</td>\n",
       "      <td>50</td>\n",
       "      <td>1</td>\n",
       "    </tr>\n",
       "    <tr>\n",
       "      <th>1</th>\n",
       "      <td>9</td>\n",
       "      <td>28</td>\n",
       "      <td>3</td>\n",
       "      <td>1</td>\n",
       "      <td>1</td>\n",
       "      <td>33</td>\n",
       "      <td>5.0</td>\n",
       "      <td>6</td>\n",
       "      <td>1</td>\n",
       "      <td>0</td>\n",
       "      <td>51</td>\n",
       "      <td>1</td>\n",
       "    </tr>\n",
       "    <tr>\n",
       "      <th>2</th>\n",
       "      <td>9</td>\n",
       "      <td>4</td>\n",
       "      <td>2</td>\n",
       "      <td>1</td>\n",
       "      <td>1</td>\n",
       "      <td>50</td>\n",
       "      <td>4.0</td>\n",
       "      <td>17</td>\n",
       "      <td>1</td>\n",
       "      <td>0</td>\n",
       "      <td>47</td>\n",
       "      <td>1</td>\n",
       "    </tr>\n",
       "    <tr>\n",
       "      <th>3</th>\n",
       "      <td>5</td>\n",
       "      <td>31</td>\n",
       "      <td>3</td>\n",
       "      <td>1</td>\n",
       "      <td>1</td>\n",
       "      <td>30</td>\n",
       "      <td>3.0</td>\n",
       "      <td>7</td>\n",
       "      <td>1</td>\n",
       "      <td>0</td>\n",
       "      <td>84</td>\n",
       "      <td>1</td>\n",
       "    </tr>\n",
       "    <tr>\n",
       "      <th>4</th>\n",
       "      <td>6</td>\n",
       "      <td>22</td>\n",
       "      <td>2</td>\n",
       "      <td>1</td>\n",
       "      <td>1</td>\n",
       "      <td>34</td>\n",
       "      <td>5.0</td>\n",
       "      <td>7</td>\n",
       "      <td>1</td>\n",
       "      <td>0</td>\n",
       "      <td>78</td>\n",
       "      <td>1</td>\n",
       "    </tr>\n",
       "  </tbody>\n",
       "</table>\n",
       "</div>"
      ],
      "text/plain": [
       "   department  region  education  gender  no_of_trainings  age  \\\n",
       "0           9       7          3       0                1   35   \n",
       "1           9      28          3       1                1   33   \n",
       "2           9       4          2       1                1   50   \n",
       "3           5      31          3       1                1   30   \n",
       "4           6      22          2       1                1   34   \n",
       "\n",
       "   previous_year_rating  length_of_service  KPIs_met >80%  awards_won?  \\\n",
       "0                   5.0                  3              1            0   \n",
       "1                   5.0                  6              1            0   \n",
       "2                   4.0                 17              1            0   \n",
       "3                   3.0                  7              1            0   \n",
       "4                   5.0                  7              1            0   \n",
       "\n",
       "   avg_training_score  is_promoted  \n",
       "0                  50            1  \n",
       "1                  51            1  \n",
       "2                  47            1  \n",
       "3                  84            1  \n",
       "4                  78            1  "
      ]
     },
     "execution_count": 93,
     "metadata": {},
     "output_type": "execute_result"
    }
   ],
   "source": [
    "# Load dataset into a DataFrame\n",
    "df = pd.read_csv('hr_data_new.csv')\n",
    "\n",
    "# Create a copy of the DataFrame\n",
    "df_hr = df.copy()\n",
    "\n",
    "# Show overview of the dataset\n",
    "df_hr.head()"
   ]
  },
  {
   "cell_type": "code",
   "execution_count": 94,
   "metadata": {},
   "outputs": [],
   "source": [
    "y_data = df_hr['is_promoted']\n",
    "x_data = df_hr.drop(['is_promoted'], axis = 1)"
   ]
  },
  {
   "cell_type": "code",
   "execution_count": 95,
   "metadata": {},
   "outputs": [],
   "source": [
    "x_train, x_test, y_train, y_test = train_test_split(x_data, y_data, test_size=0.33, random_state=6)\n",
    "#test data"
   ]
  },
  {
   "cell_type": "markdown",
   "metadata": {},
   "source": [
    "### 1.2 Build the Model(s)"
   ]
  },
  {
   "cell_type": "markdown",
   "metadata": {},
   "source": [
    "Decision Tree"
   ]
  },
  {
   "cell_type": "code",
   "execution_count": 15,
   "metadata": {},
   "outputs": [
    {
     "name": "stdout",
     "output_type": "stream",
     "text": [
      "train_score:  [1.         1.         0.99985562 0.99985564 0.99985564]\n",
      "test_score:  [0.75577367 0.77829099 0.77078522 0.7677643  0.7689197 ]\n",
      "cross val training accuracy is: 0.9999133782479145\n",
      "cross val testing accuracy is: 0.7683067764431512\n"
     ]
    }
   ],
   "source": [
    "decision_tree = DecisionTreeClassifier(random_state = 6)\n",
    "decision_tree.fit(x_train, y_train)\n",
    "\n",
    "# Evaluate the Model using K-folds Cross validation\n",
    "results  = cross_validate(decision_tree, x_data, y_data, scoring='accuracy', cv=5, return_train_score = True)\n",
    "print('train_score: ', results['train_score'])\n",
    "print('test_score: ', results['test_score'])\n",
    "print('cross val training accuracy is:', sum(results['train_score'])/len(results['train_score']))\n",
    "print('cross val testing accuracy is:', sum(results['test_score'])/len(results['test_score']))\n",
    "\n"
   ]
  },
  {
   "cell_type": "markdown",
   "metadata": {},
   "source": [
    "Logistic Regression"
   ]
  },
  {
   "cell_type": "code",
   "execution_count": 17,
   "metadata": {
    "scrolled": true
   },
   "outputs": [
    {
     "name": "stderr",
     "output_type": "stream",
     "text": [
      "F:\\school\\anaconda\\envs\\myenv\\lib\\site-packages\\sklearn\\linear_model\\_logistic.py:764: ConvergenceWarning: lbfgs failed to converge (status=1):\n",
      "STOP: TOTAL NO. of ITERATIONS REACHED LIMIT.\n",
      "\n",
      "Increase the number of iterations (max_iter) or scale the data as shown in:\n",
      "    https://scikit-learn.org/stable/modules/preprocessing.html\n",
      "Please also refer to the documentation for alternative solver options:\n",
      "    https://scikit-learn.org/stable/modules/linear_model.html#logistic-regression\n",
      "  extra_warning_msg=_LOGISTIC_SOLVER_CONVERGENCE_MSG)\n",
      "F:\\school\\anaconda\\envs\\myenv\\lib\\site-packages\\sklearn\\linear_model\\_logistic.py:764: ConvergenceWarning: lbfgs failed to converge (status=1):\n",
      "STOP: TOTAL NO. of ITERATIONS REACHED LIMIT.\n",
      "\n",
      "Increase the number of iterations (max_iter) or scale the data as shown in:\n",
      "    https://scikit-learn.org/stable/modules/preprocessing.html\n",
      "Please also refer to the documentation for alternative solver options:\n",
      "    https://scikit-learn.org/stable/modules/linear_model.html#logistic-regression\n",
      "  extra_warning_msg=_LOGISTIC_SOLVER_CONVERGENCE_MSG)\n",
      "F:\\school\\anaconda\\envs\\myenv\\lib\\site-packages\\sklearn\\linear_model\\_logistic.py:764: ConvergenceWarning: lbfgs failed to converge (status=1):\n",
      "STOP: TOTAL NO. of ITERATIONS REACHED LIMIT.\n",
      "\n",
      "Increase the number of iterations (max_iter) or scale the data as shown in:\n",
      "    https://scikit-learn.org/stable/modules/preprocessing.html\n",
      "Please also refer to the documentation for alternative solver options:\n",
      "    https://scikit-learn.org/stable/modules/linear_model.html#logistic-regression\n",
      "  extra_warning_msg=_LOGISTIC_SOLVER_CONVERGENCE_MSG)\n"
     ]
    },
    {
     "name": "stdout",
     "output_type": "stream",
     "text": [
      "train_score:  [0.73014727 0.73130234 0.73548946 0.73076368 0.73177422]\n",
      "test_score:  [0.7095843  0.73094688 0.71939954 0.74119006 0.74523397]\n",
      "cross val training accuracy is: 0.7318953930726193\n",
      "cross val testing accuracy is: 0.7292709496573153\n"
     ]
    },
    {
     "name": "stderr",
     "output_type": "stream",
     "text": [
      "F:\\school\\anaconda\\envs\\myenv\\lib\\site-packages\\sklearn\\linear_model\\_logistic.py:764: ConvergenceWarning: lbfgs failed to converge (status=1):\n",
      "STOP: TOTAL NO. of ITERATIONS REACHED LIMIT.\n",
      "\n",
      "Increase the number of iterations (max_iter) or scale the data as shown in:\n",
      "    https://scikit-learn.org/stable/modules/preprocessing.html\n",
      "Please also refer to the documentation for alternative solver options:\n",
      "    https://scikit-learn.org/stable/modules/linear_model.html#logistic-regression\n",
      "  extra_warning_msg=_LOGISTIC_SOLVER_CONVERGENCE_MSG)\n",
      "F:\\school\\anaconda\\envs\\myenv\\lib\\site-packages\\sklearn\\linear_model\\_logistic.py:764: ConvergenceWarning: lbfgs failed to converge (status=1):\n",
      "STOP: TOTAL NO. of ITERATIONS REACHED LIMIT.\n",
      "\n",
      "Increase the number of iterations (max_iter) or scale the data as shown in:\n",
      "    https://scikit-learn.org/stable/modules/preprocessing.html\n",
      "Please also refer to the documentation for alternative solver options:\n",
      "    https://scikit-learn.org/stable/modules/linear_model.html#logistic-regression\n",
      "  extra_warning_msg=_LOGISTIC_SOLVER_CONVERGENCE_MSG)\n"
     ]
    }
   ],
   "source": [
    "lg = LogisticRegression(random_state = 6)\n",
    "lg.fit(x_train,y_train)\n",
    "\n",
    "results  = cross_validate(lg, x_data, y_data, scoring='accuracy', cv=5, return_train_score = True)\n",
    "print('train_score: ', results['train_score'])\n",
    "print('test_score: ', results['test_score'])\n",
    "print('cross val training accuracy is:', sum(results['train_score'])/len(results['train_score']))\n",
    "print('cross val testing accuracy is:', sum(results['test_score'])/len(results['test_score']))"
   ]
  },
  {
   "cell_type": "markdown",
   "metadata": {},
   "source": [
    "Artifical Neutral Network"
   ]
  },
  {
   "cell_type": "code",
   "execution_count": 19,
   "metadata": {},
   "outputs": [
    {
     "name": "stdout",
     "output_type": "stream",
     "text": [
      "train_score:  [0.76147849 0.76321109 0.7596015  0.75848131 0.74967518]\n",
      "test_score:  [0.73383372 0.75750577 0.75692841 0.74638937 0.74985557]\n",
      "cross val training accuracy is: 0.7584895132402801\n",
      "cross val testing accuracy is: 0.7489025687003601\n"
     ]
    }
   ],
   "source": [
    "mlp = MLPClassifier(random_state =6)\n",
    "mlp.fit(x_train,y_train)\n",
    "\n",
    "results = cross_validate(mlp, x_data, y_data, scoring='accuracy', cv=5, return_train_score = True)\n",
    "print('train_score: ', results['train_score'])\n",
    "print('test_score: ', results['test_score'])\n",
    "print('cross val training accuracy is:', sum(results['train_score'])/len(results['train_score']))\n",
    "print('cross val testing accuracy is:', sum(results['test_score'])/len(results['test_score']))"
   ]
  },
  {
   "cell_type": "markdown",
   "metadata": {},
   "source": [
    "Random Forest"
   ]
  },
  {
   "cell_type": "code",
   "execution_count": 21,
   "metadata": {
    "scrolled": true
   },
   "outputs": [
    {
     "name": "stdout",
     "output_type": "stream",
     "text": [
      "train_score:  [1.         1.         0.99985562 0.99985564 0.99985564]\n",
      "test_score:  [0.79387991 0.80196305 0.79503464 0.82495667 0.80589255]\n",
      "cross val training accuracy is: 0.9999133782479145\n",
      "cross val testing accuracy is: 0.8043453636512823\n"
     ]
    }
   ],
   "source": [
    "rf = RandomForestClassifier(random_state = 6)\n",
    "rf.fit(x_train,y_train)\n",
    "\n",
    "results  = cross_validate(rf, x_data, y_data, scoring='accuracy', cv=5, return_train_score = True)\n",
    "print('train_score: ', results['train_score'])\n",
    "print('test_score: ', results['test_score'])\n",
    "print('cross val training accuracy is:', sum(results['train_score'])/len(results['train_score']))\n",
    "print('cross val testing accuracy is:', sum(results['test_score'])/len(results['test_score']))"
   ]
  },
  {
   "cell_type": "markdown",
   "metadata": {},
   "source": [
    "AdaBoost"
   ]
  },
  {
   "cell_type": "code",
   "execution_count": 23,
   "metadata": {},
   "outputs": [
    {
     "name": "stdout",
     "output_type": "stream",
     "text": [
      "train_score:  [0.77923766 0.76956396 0.76840889 0.77493865 0.77190703]\n",
      "test_score:  [0.76270208 0.76501155 0.77136259 0.7718082  0.77527441]\n",
      "cross val training accuracy is: 0.7728112374912983\n",
      "cross val testing accuracy is: 0.7692317647357052\n"
     ]
    }
   ],
   "source": [
    "adb = AdaBoostClassifier(random_state = 6)\n",
    "adb.fit(x_train,y_train)\n",
    "\n",
    "results  = cross_validate(adb, x_data, y_data, scoring='accuracy', cv=5, return_train_score = True)\n",
    "print('train_score: ', results['train_score'])\n",
    "print('test_score: ', results['test_score'])\n",
    "print('cross val training accuracy is:', sum(results['train_score'])/len(results['train_score']))\n",
    "print('cross val testing accuracy is:', sum(results['test_score'])/len(results['test_score']))"
   ]
  },
  {
   "cell_type": "markdown",
   "metadata": {},
   "source": [
    "XGBoost"
   ]
  },
  {
   "cell_type": "code",
   "execution_count": 25,
   "metadata": {
    "scrolled": false
   },
   "outputs": [
    {
     "name": "stdout",
     "output_type": "stream",
     "text": [
      "train_score:  [0.82717297 0.82385215 0.82385215 0.82142342 0.82171214]\n",
      "test_score:  [0.80773672 0.81581986 0.81755196 0.82957828 0.81917966]\n",
      "cross val training accuracy is: 0.8236025661115646\n",
      "cross val testing accuracy is: 0.8179732976839936\n"
     ]
    }
   ],
   "source": [
    "xgbc = XGBClassifier(random_state = 6)\n",
    "xgbc.fit(x_train,y_train)\n",
    "\n",
    "results  = cross_validate(xgbc, x_data, y_data, scoring='accuracy', cv=5, return_train_score = True)\n",
    "print('train_score: ', results['train_score'])\n",
    "print('test_score: ', results['test_score'])\n",
    "print('cross val training accuracy is:', sum(results['train_score'])/len(results['train_score']))\n",
    "print('cross val testing accuracy is:', sum(results['test_score'])/len(results['test_score']))\n",
    "\n"
   ]
  },
  {
   "cell_type": "markdown",
   "metadata": {},
   "source": [
    "Support Vector Machine"
   ]
  },
  {
   "cell_type": "code",
   "execution_count": 27,
   "metadata": {
    "scrolled": true
   },
   "outputs": [
    {
     "name": "stdout",
     "output_type": "stream",
     "text": [
      "train_score:  [0.68047935 0.68307826 0.67990182 0.67937058 0.67980367]\n",
      "test_score:  [0.67378753 0.66916859 0.68822171 0.67186597 0.68399769]\n",
      "cross val training accuracy is: 0.680526734789324\n",
      "cross val testing accuracy is: 0.6774082983444136\n"
     ]
    }
   ],
   "source": [
    "svclassifier = SVC(random_state = 6)\n",
    "svclassifier.fit(x_train,y_train)\n",
    "\n",
    "results  = cross_validate(svclassifier, x_data, y_data, scoring='accuracy', cv=5, return_train_score = True)\n",
    "print('train_score: ', results['train_score'])\n",
    "print('test_score: ', results['test_score'])\n",
    "print('cross val training accuracy is:', sum(results['train_score'])/len(results['train_score']))\n",
    "print('cross val testing accuracy is:', sum(results['test_score'])/len(results['test_score']))"
   ]
  },
  {
   "cell_type": "markdown",
   "metadata": {},
   "source": [
    "### 1.3 Evaluate and Improve the Model(s)"
   ]
  },
  {
   "cell_type": "markdown",
   "metadata": {},
   "source": [
    "Random Forest"
   ]
  },
  {
   "cell_type": "code",
   "execution_count": 28,
   "metadata": {
    "scrolled": true
   },
   "outputs": [
    {
     "name": "stdout",
     "output_type": "stream",
     "text": [
      "0.8214383681354676\n",
      "{'criterion': 'gini', 'max_depth': 10, 'max_features': None, 'min_samples_leaf': 1, 'min_samples_split': 5, 'n_estimators': 200}\n"
     ]
    }
   ],
   "source": [
    "rf = RandomForestClassifier(random_state = 6, n_jobs=-1)\n",
    "\n",
    "param_grid = { \"criterion\" : [\"gini\", \"entropy\"],\n",
    "              \"n_estimators\": [200, 500, 750],\n",
    "              \"max_depth\": [5, 10, 15], \n",
    "              \"min_samples_leaf\" : [1, 5, 10], \n",
    "              \"min_samples_split\": [1, 5 ,10],\n",
    "              \"max_features\": [\"auto\" \"sqrt\", \"log2\",None]}\n",
    "\n",
    "gs = GridSearchCV(estimator=rf, param_grid=param_grid, scoring='accuracy', cv=5, n_jobs=-1)\n",
    "\n",
    "gs = gs.fit(x_data, y_data)\n",
    "print(gs.best_score_)\n",
    "print(gs.best_params_)"
   ]
  },
  {
   "cell_type": "code",
   "execution_count": 29,
   "metadata": {},
   "outputs": [
    {
     "name": "stdout",
     "output_type": "stream",
     "text": [
      "0.8214386349718421\n",
      "{'n_estimators': 150}\n"
     ]
    }
   ],
   "source": [
    "rf = RandomForestClassifier(criterion = 'gini', random_state = 6, n_jobs=-1, max_features = None, max_depth = 10, min_samples_leaf = 1, min_samples_split = 5)\n",
    "\n",
    "param_grid = {\"n_estimators\": [125,135,145,150,155,165,175,200]}\n",
    "gs = GridSearchCV(estimator=rf, param_grid=param_grid, scoring='accuracy', cv=5, n_jobs=-1)\n",
    "\n",
    "gs = gs.fit(x_data, y_data)\n",
    "print(gs.best_score_)\n",
    "print(gs.best_params_)"
   ]
  },
  {
   "cell_type": "code",
   "execution_count": 30,
   "metadata": {},
   "outputs": [
    {
     "data": {
      "text/plain": [
       "RandomForestClassifier(max_depth=10, max_features=None, min_samples_split=5,\n",
       "                       n_estimators=150, n_jobs=-1, random_state=6)"
      ]
     },
     "execution_count": 30,
     "metadata": {},
     "output_type": "execute_result"
    }
   ],
   "source": [
    "rf = RandomForestClassifier(criterion = 'gini', max_depth = 10, max_features = None, min_samples_leaf = 1, min_samples_split = 5, n_estimators=150, random_state = 6, n_jobs = -1)\n",
    "rf.fit(x_train,y_train)"
   ]
  },
  {
   "cell_type": "code",
   "execution_count": 31,
   "metadata": {},
   "outputs": [
    {
     "name": "stdout",
     "output_type": "stream",
     "text": [
      "train_score:  [0.85518337 0.853162   0.8514294  0.84957413 0.855493  ]\n",
      "test_score:  [0.80831409 0.81581986 0.82448037 0.83188908 0.82668977]\n",
      "cross val training accuracy is: 0.852968378078873\n",
      "cross val testing accuracy is: 0.8214386349718421\n"
     ]
    }
   ],
   "source": [
    "results  = cross_validate(rf, x_data, y_data, scoring='accuracy', cv=5, return_train_score = True)\n",
    "print('train_score: ', results['train_score'])\n",
    "print('test_score: ', results['test_score'])\n",
    "print('cross val training accuracy is:', sum(results['train_score'])/len(results['train_score']))\n",
    "print('cross val testing accuracy is:', sum(results['test_score'])/len(results['test_score']))"
   ]
  },
  {
   "cell_type": "code",
   "execution_count": 32,
   "metadata": {},
   "outputs": [],
   "source": [
    "\n",
    "depth_range = range(4,21)\n",
    "\n",
    "train_acc = []\n",
    "test_acc = []\n",
    "cross_val_train =[]\n",
    "cross_val_test =[]\n",
    "\n",
    "for d in depth_range:\n",
    "    # Create Random Forest Model\n",
    "    rf_reg = RandomForestClassifier(criterion = 'gini', max_depth = d, max_features = None, min_samples_leaf = 1, min_samples_split = 5, n_estimators=150, random_state = 6, n_jobs = -1)\n",
    "    rf_reg.fit(x_train, y_train.ravel()) \n",
    "    train_acc.append(accuracy_score(rf_reg.predict(x_train), y_train))\n",
    "    test_acc.append(accuracy_score(rf_reg.predict(x_test), y_test))\n",
    "    \n",
    "    results  = cross_validate(rf_reg, x_data, y_data.ravel(), scoring='accuracy', cv=5, return_train_score = True)\n",
    "    cross_val_train.append(sum(results['train_score'])/len(results['train_score']))\n",
    "    cross_val_test.append(sum(results['test_score'])/len(results['test_score']))\n",
    "    "
   ]
  },
  {
   "cell_type": "code",
   "execution_count": 33,
   "metadata": {
    "scrolled": true
   },
   "outputs": [
    {
     "data": {
      "image/png": "[encoded data removed]",
      "text/plain": [
       "<Figure size 432x288 with 1 Axes>"
      ]
     },
     "metadata": {
      "needs_background": "light"
     },
     "output_type": "display_data"
    }
   ],
   "source": [
    "plt.plot(depth_range, cross_val_train, 'bo-', label ='cross val training acc')\n",
    "plt.plot(depth_range, cross_val_test, 'ro-', label = 'cross val testing acc')\n",
    "\n",
    "plt.xlabel('max_depth', fontsize='x-large')\n",
    "plt.ylabel('Accuracy', fontsize='x-large')\n",
    "\n",
    "plt.legend(loc='best', shadow=True, fontsize='x-large')\n",
    "plt.show()"
   ]
  },
  {
   "cell_type": "code",
   "execution_count": 34,
   "metadata": {},
   "outputs": [],
   "source": [
    "leaf_range = range(1,10)\n",
    "\n",
    "train_acc = []\n",
    "test_acc = []\n",
    "cross_val_train =[]\n",
    "cross_val_test =[]\n",
    "\n",
    "for d in leaf_range:\n",
    "    # Create Random Forest Model\n",
    "    rf_reg = RandomForestClassifier(criterion = 'gini', max_depth = 10, max_features = None, min_samples_leaf = d, min_samples_split = 5, n_estimators=150, random_state = 6, n_jobs = -1)\n",
    "    rf_reg.fit(x_train, y_train.ravel()) \n",
    "    train_acc.append(accuracy_score(rf_reg.predict(x_train), y_train))\n",
    "    test_acc.append(accuracy_score(rf_reg.predict(x_test), y_test))\n",
    "    \n",
    "    results  = cross_validate(rf_reg, x_data, y_data.ravel(), scoring='accuracy', cv=5, return_train_score = True)\n",
    "    cross_val_train.append(sum(results['train_score'])/len(results['train_score']))\n",
    "    cross_val_test.append(sum(results['test_score'])/len(results['test_score']))\n"
   ]
  },
  {
   "cell_type": "code",
   "execution_count": 35,
   "metadata": {},
   "outputs": [
    {
     "data": {
      "image/png": "[encoded data removed]",
      "text/plain": [
       "<Figure size 432x288 with 1 Axes>"
      ]
     },
     "metadata": {
      "needs_background": "light"
     },
     "output_type": "display_data"
    }
   ],
   "source": [
    "plt.plot(leaf_range, cross_val_train, 'bo-', label ='cross val training acc')\n",
    "plt.plot(leaf_range, cross_val_test, 'ro-', label = 'cross val testing acc')\n",
    "\n",
    "plt.xlabel('min_samples_leaf', fontsize='x-large')\n",
    "plt.ylabel('Accuracy', fontsize='x-large')\n",
    "\n",
    "plt.legend(loc='best', shadow=True, fontsize='x-large')\n",
    "plt.show()"
   ]
  },
  {
   "cell_type": "code",
   "execution_count": 36,
   "metadata": {},
   "outputs": [],
   "source": [
    "split_range = range(2,10)\n",
    "\n",
    "train_acc = []\n",
    "test_acc = []\n",
    "cross_val_train =[]\n",
    "cross_val_test =[]\n",
    "\n",
    "for d in split_range:\n",
    "    # Create Random Forest Model\n",
    "    rf_reg = RandomForestClassifier(criterion = 'gini', max_depth = 10, max_features = None, min_samples_leaf = 3, min_samples_split = d, n_estimators=150, random_state = 6, n_jobs = -1)\n",
    "    rf_reg.fit(x_train, y_train.ravel()) \n",
    "    train_acc.append(accuracy_score(rf_reg.predict(x_train), y_train))\n",
    "    test_acc.append(accuracy_score(rf_reg.predict(x_test), y_test))\n",
    "    \n",
    "    results  = cross_validate(rf_reg, x_data, y_data.ravel(), scoring='accuracy', cv=5, return_train_score = True)\n",
    "    cross_val_train.append(sum(results['train_score'])/len(results['train_score']))\n",
    "    cross_val_test.append(sum(results['test_score'])/len(results['test_score']))\n"
   ]
  },
  {
   "cell_type": "code",
   "execution_count": 37,
   "metadata": {
    "scrolled": true
   },
   "outputs": [
    {
     "data": {
      "image/png": "[encoded data removed]",
      "text/plain": [
       "<Figure size 432x288 with 1 Axes>"
      ]
     },
     "metadata": {
      "needs_background": "light"
     },
     "output_type": "display_data"
    }
   ],
   "source": [
    "plt.plot(split_range, cross_val_train, 'bo-', label ='cross val training acc')\n",
    "plt.plot(split_range, cross_val_test, 'ro-', label = 'cross val testing acc')\n",
    "\n",
    "plt.xlabel('min_samples_split', fontsize='x-large')\n",
    "plt.ylabel('Accuracy', fontsize='x-large')\n",
    "\n",
    "plt.legend(loc='best', shadow=True, fontsize='x-large')\n",
    "plt.show()"
   ]
  },
  {
   "cell_type": "code",
   "execution_count": 53,
   "metadata": {},
   "outputs": [],
   "source": [
    "\n",
    "n_range = range(140,160)\n",
    "\n",
    "train_acc = []\n",
    "test_acc = []\n",
    "cross_val_train =[]\n",
    "cross_val_test =[]\n",
    "\n",
    "for d in n_range:\n",
    "    # Create Random Forest Model\n",
    "    rf_reg = RandomForestClassifier(criterion = 'gini', max_depth = 10, max_features = None, min_samples_leaf = 3, min_samples_split = 6, n_estimators=d, random_state = 6, n_jobs = -1)\n",
    "    rf_reg.fit(x_train, y_train.ravel()) \n",
    "    train_acc.append(accuracy_score(rf_reg.predict(x_train), y_train))\n",
    "    test_acc.append(accuracy_score(rf_reg.predict(x_test), y_test))\n",
    "    \n",
    "    results  = cross_validate(rf_reg, x_data, y_data.ravel(), scoring='accuracy', cv=5, return_train_score = True)\n",
    "    cross_val_train.append(sum(results['train_score'])/len(results['train_score']))\n",
    "    cross_val_test.append(sum(results['test_score'])/len(results['test_score']))\n",
    "    "
   ]
  },
  {
   "cell_type": "code",
   "execution_count": 54,
   "metadata": {
    "scrolled": true
   },
   "outputs": [
    {
     "data": {
      "image/png": "[encoded data removed]",
      "text/plain": [
       "<Figure size 432x288 with 1 Axes>"
      ]
     },
     "metadata": {
      "needs_background": "light"
     },
     "output_type": "display_data"
    }
   ],
   "source": [
    "plt.plot(n_range, cross_val_train, 'bo-', label ='cross val training acc')\n",
    "plt.plot(n_range, cross_val_test, 'ro-', label = 'cross val testing acc')\n",
    "\n",
    "plt.xlabel('n_estimators', fontsize='x-large')\n",
    "plt.ylabel('Accuracy', fontsize='x-large')\n",
    "\n",
    "plt.legend(loc='best', shadow=True, fontsize='x-large')\n",
    "plt.show()"
   ]
  },
  {
   "cell_type": "code",
   "execution_count": 96,
   "metadata": {
    "scrolled": true
   },
   "outputs": [
    {
     "name": "stdout",
     "output_type": "stream",
     "text": [
      "train_score:  [0.85027433 0.84796419 0.84579844 0.84495453 0.85015158]\n",
      "test_score:  [0.80831409 0.8169746  0.82621247 0.83073368 0.82668977]\n",
      "cross val training accuracy is: 0.8478286137422311\n",
      "cross val testing accuracy is: 0.8217849218769805\n"
     ]
    }
   ],
   "source": [
    "rf = RandomForestClassifier(criterion = 'gini', max_depth = 10, max_features = None, min_samples_leaf = 3,\n",
    "                            min_samples_split = 6, n_estimators=141, random_state = 6, n_jobs = -1)\n",
    "rf.fit(x_train,y_train)\n",
    "results  = cross_validate(rf, x_data, y_data, scoring='accuracy', cv=5, return_train_score = True)\n",
    "print('train_score: ', results['train_score'])\n",
    "print('test_score: ', results['test_score'])\n",
    "print('cross val training accuracy is:', sum(results['train_score'])/len(results['train_score']))\n",
    "print('cross val testing accuracy is:', sum(results['test_score'])/len(results['test_score']))"
   ]
  },
  {
   "cell_type": "code",
   "execution_count": 39,
   "metadata": {},
   "outputs": [
    {
     "data": {
      "text/html": [
       "<div>\n",
       "<style scoped>\n",
       "    .dataframe tbody tr th:only-of-type {\n",
       "        vertical-align: middle;\n",
       "    }\n",
       "\n",
       "    .dataframe tbody tr th {\n",
       "        vertical-align: top;\n",
       "    }\n",
       "\n",
       "    .dataframe thead th {\n",
       "        text-align: right;\n",
       "    }\n",
       "</style>\n",
       "<table border=\"1\" class=\"dataframe\">\n",
       "  <thead>\n",
       "    <tr style=\"text-align: right;\">\n",
       "      <th></th>\n",
       "      <th>feature</th>\n",
       "      <th>importance</th>\n",
       "    </tr>\n",
       "  </thead>\n",
       "  <tbody>\n",
       "    <tr>\n",
       "      <th>10</th>\n",
       "      <td>avg_training_score</td>\n",
       "      <td>0.293027</td>\n",
       "    </tr>\n",
       "    <tr>\n",
       "      <th>8</th>\n",
       "      <td>KPIs_met &gt;80%</td>\n",
       "      <td>0.241356</td>\n",
       "    </tr>\n",
       "    <tr>\n",
       "      <th>0</th>\n",
       "      <td>department</td>\n",
       "      <td>0.208994</td>\n",
       "    </tr>\n",
       "    <tr>\n",
       "      <th>6</th>\n",
       "      <td>previous_year_rating</td>\n",
       "      <td>0.120181</td>\n",
       "    </tr>\n",
       "    <tr>\n",
       "      <th>5</th>\n",
       "      <td>age</td>\n",
       "      <td>0.035561</td>\n",
       "    </tr>\n",
       "    <tr>\n",
       "      <th>1</th>\n",
       "      <td>region</td>\n",
       "      <td>0.030470</td>\n",
       "    </tr>\n",
       "    <tr>\n",
       "      <th>7</th>\n",
       "      <td>length_of_service</td>\n",
       "      <td>0.028403</td>\n",
       "    </tr>\n",
       "    <tr>\n",
       "      <th>9</th>\n",
       "      <td>awards_won?</td>\n",
       "      <td>0.025861</td>\n",
       "    </tr>\n",
       "    <tr>\n",
       "      <th>2</th>\n",
       "      <td>education</td>\n",
       "      <td>0.006832</td>\n",
       "    </tr>\n",
       "    <tr>\n",
       "      <th>3</th>\n",
       "      <td>gender</td>\n",
       "      <td>0.004739</td>\n",
       "    </tr>\n",
       "    <tr>\n",
       "      <th>4</th>\n",
       "      <td>no_of_trainings</td>\n",
       "      <td>0.004575</td>\n",
       "    </tr>\n",
       "  </tbody>\n",
       "</table>\n",
       "</div>"
      ],
      "text/plain": [
       "                 feature  importance\n",
       "10    avg_training_score    0.293027\n",
       "8          KPIs_met >80%    0.241356\n",
       "0             department    0.208994\n",
       "6   previous_year_rating    0.120181\n",
       "5                    age    0.035561\n",
       "1                 region    0.030470\n",
       "7      length_of_service    0.028403\n",
       "9            awards_won?    0.025861\n",
       "2              education    0.006832\n",
       "3                 gender    0.004739\n",
       "4        no_of_trainings    0.004575"
      ]
     },
     "execution_count": 39,
     "metadata": {},
     "output_type": "execute_result"
    }
   ],
   "source": [
    "pd.concat((pd.DataFrame(x_train.columns, columns = ['feature']), \n",
    "           pd.DataFrame(rf.feature_importances_, columns = ['importance'])), \n",
    "          axis = 1).sort_values(by='importance', ascending = False)"
   ]
  },
  {
   "cell_type": "markdown",
   "metadata": {},
   "source": [
    "XGBoost"
   ]
  },
  {
   "cell_type": "code",
   "execution_count": 51,
   "metadata": {},
   "outputs": [
    {
     "name": "stdout",
     "output_type": "stream",
     "text": [
      "0.8253652656422819\n",
      "{'colsample_bytree': 0.8, 'gamma': 10, 'learning_rate': 0.1, 'max_depth': 10, 'min_child_weight': 5, 'n_estimators': 700, 'subsample': 0.8}\n"
     ]
    }
   ],
   "source": [
    "\n",
    "xgb = XGBClassifier(random_state = 6)\n",
    "\n",
    "param_grid = { \"n_estimators\" : [200,400,700],\n",
    "            \"max_depth\": [1,5,10,15],\n",
    "            \"min_child_weight\": [1,5,10],\n",
    "            \"gamma\": [10,1,0.1],\n",
    "            \"subsample\": [0.4,0.6,0.8],\n",
    "            \"colsample_bytree\": [0.4,0.6,0.8],\n",
    "             \"learning_rate\": [0.01,0.1]}\n",
    "\n",
    "\n",
    "gs = GridSearchCV(estimator=xgb, param_grid=param_grid, scoring='accuracy', cv=5, n_jobs=-1)\n",
    "\n",
    "gs = gs.fit(x_data, y_data)\n",
    "print(gs.best_score_)\n",
    "print(gs.best_params_)"
   ]
  },
  {
   "cell_type": "code",
   "execution_count": 52,
   "metadata": {},
   "outputs": [],
   "source": [
    "gamma_range = range(5,15)\n",
    "\n",
    "train_acc = []\n",
    "test_acc = []\n",
    "cross_val_train =[]\n",
    "cross_val_test =[]\n",
    "\n",
    "for d in gamma_range:\n",
    "    xgb = XGBClassifier( gamma = d, subsample =0.8, max_depth = 10, min_child_weight = 5, colsample_bytree = 0.8, learning_rate = 0.1, random_state = 6)\n",
    "    xgb.fit(x_train, y_train.ravel()) \n",
    "    train_acc.append(accuracy_score(xgb.predict(x_train), y_train))\n",
    "    test_acc.append(accuracy_score(xgb.predict(x_test), y_test))\n",
    "    \n",
    "    results  = cross_validate(xgb, x_data, y_data.ravel(), scoring='accuracy', cv=5, return_train_score = True)\n",
    "    cross_val_train.append(sum(results['train_score'])/len(results['train_score']))\n",
    "    cross_val_test.append(sum(results['test_score'])/len(results['test_score']))\n"
   ]
  },
  {
   "cell_type": "code",
   "execution_count": 53,
   "metadata": {},
   "outputs": [
    {
     "data": {
      "image/png": "[encoded data removed]",
      "text/plain": [
       "<Figure size 432x288 with 1 Axes>"
      ]
     },
     "metadata": {
      "needs_background": "light"
     },
     "output_type": "display_data"
    }
   ],
   "source": [
    "plt.plot(gamma_range, cross_val_train, 'bo-', label ='cross val training acc')\n",
    "plt.plot(gamma_range, cross_val_test, 'ro-', label = 'cross val testing acc')\n",
    "\n",
    "plt.xlabel('Gamma', fontsize='x-large')\n",
    "plt.ylabel('Accuracy', fontsize='x-large')\n",
    "\n",
    "plt.legend(loc='best', shadow=True, fontsize='x-large')\n",
    "plt.show()"
   ]
  },
  {
   "cell_type": "code",
   "execution_count": 54,
   "metadata": {},
   "outputs": [],
   "source": [
    "depth_range = range(6,20)\n",
    "\n",
    "train_acc = []\n",
    "test_acc = []\n",
    "cross_val_train =[]\n",
    "cross_val_test =[]\n",
    "\n",
    "for d in depth_range:\n",
    "    xgb = XGBClassifier(gamma = 9, subsample =0.8, max_depth = d, min_child_weight = 5, colsample_bytree = 0.8, learning_rate = 0.1, random_state = 6)\n",
    "    xgb.fit(x_train, y_train.ravel()) \n",
    "    train_acc.append(accuracy_score(xgb.predict(x_train), y_train))\n",
    "    test_acc.append(accuracy_score(xgb.predict(x_test), y_test))\n",
    "    \n",
    "    results  = cross_validate(xgb, x_data, y_data.ravel(), scoring='accuracy', cv=5, return_train_score = True)\n",
    "    cross_val_train.append(sum(results['train_score'])/len(results['train_score']))\n",
    "    cross_val_test.append(sum(results['test_score'])/len(results['test_score']))\n"
   ]
  },
  {
   "cell_type": "code",
   "execution_count": 55,
   "metadata": {},
   "outputs": [
    {
     "data": {
      "image/png": "[encoded data removed]",
      "text/plain": [
       "<Figure size 432x288 with 1 Axes>"
      ]
     },
     "metadata": {
      "needs_background": "light"
     },
     "output_type": "display_data"
    }
   ],
   "source": [
    "plt.plot(depth_range, cross_val_train, 'bo-', label ='cross val training acc')\n",
    "plt.plot(depth_range, cross_val_test, 'ro-', label = 'cross val testing acc')\n",
    "\n",
    "plt.xlabel('Max_depth', fontsize='x-large')\n",
    "plt.ylabel('Accuracy', fontsize='x-large')\n",
    "\n",
    "plt.legend(loc='best', shadow=True, fontsize='x-large')\n",
    "plt.show()"
   ]
  },
  {
   "cell_type": "code",
   "execution_count": 56,
   "metadata": {},
   "outputs": [],
   "source": [
    "weight_range = range(1,10)\n",
    "\n",
    "train_acc = []\n",
    "test_acc = []\n",
    "cross_val_train =[]\n",
    "cross_val_test =[]\n",
    "\n",
    "for d in weight_range:\n",
    "    xgb = XGBClassifier(gamma = 9, subsample =0.8, max_depth = 13, min_child_weight = d, colsample_bytree = 0.8, learning_rate = 0.1, random_state = 6)\n",
    "    xgb.fit(x_train, y_train.ravel()) \n",
    "    train_acc.append(accuracy_score(xgb.predict(x_train), y_train))\n",
    "    test_acc.append(accuracy_score(xgb.predict(x_test), y_test))\n",
    "    \n",
    "    results  = cross_validate(xgb, x_data, y_data.ravel(), scoring='accuracy', cv=5, return_train_score = True)\n",
    "    cross_val_train.append(sum(results['train_score'])/len(results['train_score']))\n",
    "    cross_val_test.append(sum(results['test_score'])/len(results['test_score']))\n"
   ]
  },
  {
   "cell_type": "code",
   "execution_count": 57,
   "metadata": {},
   "outputs": [
    {
     "data": {
      "image/png": "[encoded data removed]",
      "text/plain": [
       "<Figure size 432x288 with 1 Axes>"
      ]
     },
     "metadata": {
      "needs_background": "light"
     },
     "output_type": "display_data"
    }
   ],
   "source": [
    "plt.plot(weight_range, cross_val_train, 'bo-', label ='cross val training acc')\n",
    "plt.plot(weight_range, cross_val_test, 'ro-', label = 'cross val testing acc')\n",
    "\n",
    "plt.xlabel('Min_Child_Weight', fontsize='x-large')\n",
    "plt.ylabel('Accuracy', fontsize='x-large')\n",
    "\n",
    "plt.legend(loc='best', shadow=True, fontsize='x-large')\n",
    "plt.show()"
   ]
  },
  {
   "cell_type": "code",
   "execution_count": 58,
   "metadata": {},
   "outputs": [],
   "source": [
    "subsample_range = [0.5,0.6,0.7,0.8,0.9,1]\n",
    "\n",
    "train_acc = []\n",
    "test_acc = []\n",
    "cross_val_train =[]\n",
    "cross_val_test =[]\n",
    "\n",
    "for d in subsample_range:\n",
    "    xgb = XGBClassifier(gamma = 9, subsample =d, max_depth = 13, min_child_weight = 5, colsample_bytree = 0.8, learning_rate = 0.1, random_state = 6)\n",
    "    xgb.fit(x_train, y_train.ravel()) \n",
    "    train_acc.append(accuracy_score(xgb.predict(x_train), y_train))\n",
    "    test_acc.append(accuracy_score(xgb.predict(x_test), y_test))\n",
    "    \n",
    "    results  = cross_validate(xgb, x_data, y_data.ravel(), scoring='accuracy', cv=5, return_train_score = True)\n",
    "    cross_val_train.append(sum(results['train_score'])/len(results['train_score']))\n",
    "    cross_val_test.append(sum(results['test_score'])/len(results['test_score']))"
   ]
  },
  {
   "cell_type": "code",
   "execution_count": 59,
   "metadata": {},
   "outputs": [
    {
     "data": {
      "image/png": "[encoded data removed]",
      "text/plain": [
       "<Figure size 432x288 with 1 Axes>"
      ]
     },
     "metadata": {
      "needs_background": "light"
     },
     "output_type": "display_data"
    }
   ],
   "source": [
    "plt.plot(subsample_range, cross_val_train, 'bo-', label ='cross val training acc')\n",
    "plt.plot(subsample_range, cross_val_test, 'ro-', label = 'cross val testing acc')\n",
    "\n",
    "plt.xlabel('subsample', fontsize='x-large')\n",
    "plt.ylabel('Accuracy', fontsize='x-large')\n",
    "\n",
    "plt.legend(loc='best', shadow=True, fontsize='x-small')\n",
    "plt.show()"
   ]
  },
  {
   "cell_type": "code",
   "execution_count": 60,
   "metadata": {},
   "outputs": [],
   "source": [
    "colsample_range = np.arange(0.5,1,0.1)\n",
    "\n",
    "train_acc = []\n",
    "test_acc = []\n",
    "cross_val_train =[]\n",
    "cross_val_test =[]\n",
    "\n",
    "for d in colsample_range:\n",
    "    xgb = XGBClassifier(gamma = 9, subsample = 0.8, max_depth = 13, min_child_weight = 5, colsample_bytree = d, learning_rate = 0.1, random_state = 6)\n",
    "    xgb.fit(x_train, y_train.ravel()) \n",
    "    train_acc.append(accuracy_score(xgb.predict(x_train), y_train))\n",
    "    test_acc.append(accuracy_score(xgb.predict(x_test), y_test))\n",
    "    \n",
    "    results  = cross_validate(xgb, x_data, y_data.ravel(), scoring='accuracy', cv=5, return_train_score = True)\n",
    "    cross_val_train.append(sum(results['train_score'])/len(results['train_score']))\n",
    "    cross_val_test.append(sum(results['test_score'])/len(results['test_score']))"
   ]
  },
  {
   "cell_type": "code",
   "execution_count": 61,
   "metadata": {
    "scrolled": true
   },
   "outputs": [
    {
     "data": {
      "image/png": "[encoded data removed]",
      "text/plain": [
       "<Figure size 432x288 with 1 Axes>"
      ]
     },
     "metadata": {
      "needs_background": "light"
     },
     "output_type": "display_data"
    }
   ],
   "source": [
    "plt.plot(colsample_range, cross_val_train, 'bo-', label ='cross val training acc')\n",
    "plt.plot(colsample_range, cross_val_test, 'ro-', label = 'cross val testing acc')\n",
    "\n",
    "plt.xlabel('colsample', fontsize='x-large')\n",
    "plt.ylabel('Accuracy', fontsize='x-large')\n",
    "\n",
    "plt.legend(loc='best', shadow=True, fontsize='x-large')\n",
    "plt.show()"
   ]
  },
  {
   "cell_type": "code",
   "execution_count": 15,
   "metadata": {},
   "outputs": [],
   "source": [
    "learning_range = [0.01,0.05,0.1,0.2,0.3,0.4,0.5,0.6,0.7,0.8]\n",
    "\n",
    "train_acc = []\n",
    "test_acc = []\n",
    "cross_val_train =[]\n",
    "cross_val_test =[]\n",
    "\n",
    "for d in learning_range:\n",
    "    xgb = XGBClassifier(gamma = 9, subsample = 0.8, max_depth = 13, min_child_weight = 5, colsample_bytree = 0.8, learning_rate = d, random_state = 6)\n",
    "    xgb.fit(x_train, y_train.ravel()) \n",
    "    train_acc.append(accuracy_score(xgb.predict(x_train), y_train))\n",
    "    test_acc.append(accuracy_score(xgb.predict(x_test), y_test))\n",
    "    \n",
    "    results  = cross_validate(xgb, x_data, y_data.ravel(), scoring='accuracy', cv=5, return_train_score = True)\n",
    "    cross_val_train.append(sum(results['train_score'])/len(results['train_score']))\n",
    "    cross_val_test.append(sum(results['test_score'])/len(results['test_score']))"
   ]
  },
  {
   "cell_type": "code",
   "execution_count": 16,
   "metadata": {},
   "outputs": [
    {
     "data": {
      "image/png": "[encoded data removed]",
      "text/plain": [
       "<Figure size 432x288 with 1 Axes>"
      ]
     },
     "metadata": {
      "needs_background": "light"
     },
     "output_type": "display_data"
    }
   ],
   "source": [
    "plt.plot(learning_range, cross_val_train, 'bo-', label ='cross val training acc')\n",
    "plt.plot(learning_range, cross_val_test, 'ro-', label = 'cross val testing acc')\n",
    "\n",
    "plt.xlabel('learning_range', fontsize='x-large')\n",
    "plt.ylabel('Accuracy', fontsize='x-large')\n",
    "\n",
    "plt.legend(loc='best', shadow=True, fontsize='x-large')\n",
    "plt.show()"
   ]
  },
  {
   "cell_type": "code",
   "execution_count": 62,
   "metadata": {
    "scrolled": true
   },
   "outputs": [
    {
     "name": "stdout",
     "output_type": "stream",
     "text": [
      "0.8254808057924841\n",
      "{'n_estimators': 750}\n"
     ]
    }
   ],
   "source": [
    "\n",
    "xgb = XGBClassifier(max_depth = 13, min_child_weight = 5, subsample = 0.8, colsample_bytree = 0.8, gamma = 9, learning_rate = 0.1, random_state = 6)\n",
    "\n",
    "param_grid = { \"n_estimators\" : [100,150,600,700,750,800,850,900,1000]}\n",
    "\n",
    "\n",
    "gs = GridSearchCV(estimator=xgb, param_grid=param_grid, scoring='accuracy', cv=5, n_jobs=-1)\n",
    "\n",
    "gs = gs.fit(x_data, y_data)\n",
    "print(gs.best_score_)\n",
    "print(gs.best_params_)"
   ]
  },
  {
   "cell_type": "code",
   "execution_count": 90,
   "metadata": {},
   "outputs": [
    {
     "name": "stdout",
     "output_type": "stream",
     "text": [
      "0.8254808057924841\n",
      "{'n_estimators': 750}\n"
     ]
    }
   ],
   "source": [
    "\n",
    "xgb = XGBClassifier(max_depth = 13, min_child_weight = 5, subsample = 0.8, colsample_bytree = 0.8, gamma = 9, learning_rate = 0.1, random_state = 6)\n",
    "\n",
    "param_grid = { \"n_estimators\" : [730,740,750,760,770]}\n",
    "\n",
    "\n",
    "gs = GridSearchCV(estimator=xgb, param_grid=param_grid, scoring='accuracy', cv=5, n_jobs=-1)\n",
    "\n",
    "gs = gs.fit(x_data, y_data)\n",
    "print(gs.best_score_)\n",
    "print(gs.best_params_)"
   ]
  },
  {
   "cell_type": "code",
   "execution_count": 91,
   "metadata": {},
   "outputs": [],
   "source": [
    "n_range = range(740,760)\n",
    "\n",
    "train_acc = []\n",
    "test_acc = []\n",
    "cross_val_train =[]\n",
    "cross_val_test =[]\n",
    "\n",
    "for d in n_range:\n",
    "    xgb = XGBClassifier(gamma = 9, subsample = 0.8, max_depth = 13, min_child_weight = 5, colsample_bytree = 0.8, learning_rate = 0.1 , random_state = 6, n_estimator = d)\n",
    "    xgb.fit(x_train, y_train.ravel()) \n",
    "    train_acc.append(accuracy_score(xgb.predict(x_train), y_train))\n",
    "    test_acc.append(accuracy_score(xgb.predict(x_test), y_test))\n",
    "    \n",
    "    results  = cross_validate(xgb, x_data, y_data.ravel(), scoring='accuracy', cv=5, return_train_score = True)\n",
    "    cross_val_train.append(sum(results['train_score'])/len(results['train_score']))\n",
    "    cross_val_test.append(sum(results['test_score'])/len(results['test_score']))"
   ]
  },
  {
   "cell_type": "code",
   "execution_count": 92,
   "metadata": {},
   "outputs": [
    {
     "data": {
      "image/png": "[encoded data removed]",
      "text/plain": [
       "<Figure size 432x288 with 1 Axes>"
      ]
     },
     "metadata": {
      "needs_background": "light"
     },
     "output_type": "display_data"
    }
   ],
   "source": [
    "plt.plot(n_range, cross_val_train, 'bo-', label ='cross val training acc')\n",
    "plt.plot(n_range, cross_val_test, 'ro-', label = 'cross val testing acc')\n",
    "\n",
    "plt.xlabel('estimator range', fontsize='x-large')\n",
    "plt.ylabel('Accuracy', fontsize='x-large')\n",
    "\n",
    "plt.legend(loc='best', shadow=True, fontsize='x-large')\n",
    "plt.show()"
   ]
  },
  {
   "cell_type": "code",
   "execution_count": 20,
   "metadata": {
    "scrolled": false
   },
   "outputs": [
    {
     "name": "stdout",
     "output_type": "stream",
     "text": [
      "train_score:  [0.84334392 0.84334392 0.84449899 0.84192291 0.84726433]\n",
      "test_score:  [0.8187067  0.81928406 0.8256351  0.84055459 0.82322357]\n",
      "cross val training accuracy is: 0.844074814113822\n",
      "cross val testing accuracy is: 0.8254808057924841\n"
     ]
    }
   ],
   "source": [
    "xgb = XGBClassifier(n_estimators = 750,max_depth = 13, min_child_weight = 5, subsample = 0.8, colsample_bytree = 0.8,\n",
    "                    gamma = 9, learning_rate = 0.1, random_state = 6)\n",
    "xgb.fit(x_train,y_train)\n",
    "results  = cross_validate(xgb, x_data, y_data, scoring='accuracy', cv=5, return_train_score = True)\n",
    "print('train_score: ', results['train_score'])\n",
    "print('test_score: ', results['test_score'])\n",
    "print('cross val training accuracy is:', sum(results['train_score'])/len(results['train_score']))\n",
    "print('cross val testing accuracy is:', sum(results['test_score'])/len(results['test_score']))"
   ]
  },
  {
   "cell_type": "code",
   "execution_count": 64,
   "metadata": {
    "scrolled": false
   },
   "outputs": [
    {
     "data": {
      "text/html": [
       "<div>\n",
       "<style scoped>\n",
       "    .dataframe tbody tr th:only-of-type {\n",
       "        vertical-align: middle;\n",
       "    }\n",
       "\n",
       "    .dataframe tbody tr th {\n",
       "        vertical-align: top;\n",
       "    }\n",
       "\n",
       "    .dataframe thead th {\n",
       "        text-align: right;\n",
       "    }\n",
       "</style>\n",
       "<table border=\"1\" class=\"dataframe\">\n",
       "  <thead>\n",
       "    <tr style=\"text-align: right;\">\n",
       "      <th></th>\n",
       "      <th>feature</th>\n",
       "      <th>importance</th>\n",
       "    </tr>\n",
       "  </thead>\n",
       "  <tbody>\n",
       "    <tr>\n",
       "      <th>8</th>\n",
       "      <td>KPIs_met &gt;80%</td>\n",
       "      <td>0.408471</td>\n",
       "    </tr>\n",
       "    <tr>\n",
       "      <th>6</th>\n",
       "      <td>previous_year_rating</td>\n",
       "      <td>0.128788</td>\n",
       "    </tr>\n",
       "    <tr>\n",
       "      <th>10</th>\n",
       "      <td>avg_training_score</td>\n",
       "      <td>0.121908</td>\n",
       "    </tr>\n",
       "    <tr>\n",
       "      <th>9</th>\n",
       "      <td>awards_won?</td>\n",
       "      <td>0.103404</td>\n",
       "    </tr>\n",
       "    <tr>\n",
       "      <th>0</th>\n",
       "      <td>department</td>\n",
       "      <td>0.099669</td>\n",
       "    </tr>\n",
       "    <tr>\n",
       "      <th>4</th>\n",
       "      <td>no_of_trainings</td>\n",
       "      <td>0.027638</td>\n",
       "    </tr>\n",
       "    <tr>\n",
       "      <th>5</th>\n",
       "      <td>age</td>\n",
       "      <td>0.024793</td>\n",
       "    </tr>\n",
       "    <tr>\n",
       "      <th>1</th>\n",
       "      <td>region</td>\n",
       "      <td>0.024747</td>\n",
       "    </tr>\n",
       "    <tr>\n",
       "      <th>7</th>\n",
       "      <td>length_of_service</td>\n",
       "      <td>0.024599</td>\n",
       "    </tr>\n",
       "    <tr>\n",
       "      <th>2</th>\n",
       "      <td>education</td>\n",
       "      <td>0.019307</td>\n",
       "    </tr>\n",
       "    <tr>\n",
       "      <th>3</th>\n",
       "      <td>gender</td>\n",
       "      <td>0.016677</td>\n",
       "    </tr>\n",
       "  </tbody>\n",
       "</table>\n",
       "</div>"
      ],
      "text/plain": [
       "                 feature  importance\n",
       "8          KPIs_met >80%    0.408471\n",
       "6   previous_year_rating    0.128788\n",
       "10    avg_training_score    0.121908\n",
       "9            awards_won?    0.103404\n",
       "0             department    0.099669\n",
       "4        no_of_trainings    0.027638\n",
       "5                    age    0.024793\n",
       "1                 region    0.024747\n",
       "7      length_of_service    0.024599\n",
       "2              education    0.019307\n",
       "3                 gender    0.016677"
      ]
     },
     "execution_count": 64,
     "metadata": {},
     "output_type": "execute_result"
    }
   ],
   "source": [
    "pd.concat((pd.DataFrame(x_train.columns, columns = ['feature']), \n",
    "           pd.DataFrame(xgb.feature_importances_, columns = ['importance'])), \n",
    "          axis = 1).sort_values(by='importance', ascending = False)"
   ]
  },
  {
   "cell_type": "markdown",
   "metadata": {},
   "source": [
    "Scaling"
   ]
  },
  {
   "cell_type": "code",
   "execution_count": 96,
   "metadata": {},
   "outputs": [
    {
     "data": {
      "text/html": [
       "<div>\n",
       "<style scoped>\n",
       "    .dataframe tbody tr th:only-of-type {\n",
       "        vertical-align: middle;\n",
       "    }\n",
       "\n",
       "    .dataframe tbody tr th {\n",
       "        vertical-align: top;\n",
       "    }\n",
       "\n",
       "    .dataframe thead th {\n",
       "        text-align: right;\n",
       "    }\n",
       "</style>\n",
       "<table border=\"1\" class=\"dataframe\">\n",
       "  <thead>\n",
       "    <tr style=\"text-align: right;\">\n",
       "      <th></th>\n",
       "      <th>department</th>\n",
       "      <th>region</th>\n",
       "      <th>education</th>\n",
       "      <th>gender</th>\n",
       "      <th>no_of_trainings</th>\n",
       "      <th>age</th>\n",
       "      <th>previous_year_rating</th>\n",
       "      <th>length_of_service</th>\n",
       "      <th>KPIs_met &gt;80%</th>\n",
       "      <th>awards_won?</th>\n",
       "      <th>avg_training_score</th>\n",
       "      <th>is_promoted</th>\n",
       "    </tr>\n",
       "  </thead>\n",
       "  <tbody>\n",
       "    <tr>\n",
       "      <th>0</th>\n",
       "      <td>9</td>\n",
       "      <td>7</td>\n",
       "      <td>3</td>\n",
       "      <td>0</td>\n",
       "      <td>1</td>\n",
       "      <td>35</td>\n",
       "      <td>5.0</td>\n",
       "      <td>3</td>\n",
       "      <td>1</td>\n",
       "      <td>0</td>\n",
       "      <td>50</td>\n",
       "      <td>1</td>\n",
       "    </tr>\n",
       "    <tr>\n",
       "      <th>1</th>\n",
       "      <td>9</td>\n",
       "      <td>28</td>\n",
       "      <td>3</td>\n",
       "      <td>1</td>\n",
       "      <td>1</td>\n",
       "      <td>33</td>\n",
       "      <td>5.0</td>\n",
       "      <td>6</td>\n",
       "      <td>1</td>\n",
       "      <td>0</td>\n",
       "      <td>51</td>\n",
       "      <td>1</td>\n",
       "    </tr>\n",
       "    <tr>\n",
       "      <th>2</th>\n",
       "      <td>9</td>\n",
       "      <td>4</td>\n",
       "      <td>2</td>\n",
       "      <td>1</td>\n",
       "      <td>1</td>\n",
       "      <td>50</td>\n",
       "      <td>4.0</td>\n",
       "      <td>17</td>\n",
       "      <td>1</td>\n",
       "      <td>0</td>\n",
       "      <td>47</td>\n",
       "      <td>1</td>\n",
       "    </tr>\n",
       "    <tr>\n",
       "      <th>3</th>\n",
       "      <td>5</td>\n",
       "      <td>31</td>\n",
       "      <td>3</td>\n",
       "      <td>1</td>\n",
       "      <td>1</td>\n",
       "      <td>30</td>\n",
       "      <td>3.0</td>\n",
       "      <td>7</td>\n",
       "      <td>1</td>\n",
       "      <td>0</td>\n",
       "      <td>84</td>\n",
       "      <td>1</td>\n",
       "    </tr>\n",
       "    <tr>\n",
       "      <th>4</th>\n",
       "      <td>6</td>\n",
       "      <td>22</td>\n",
       "      <td>2</td>\n",
       "      <td>1</td>\n",
       "      <td>1</td>\n",
       "      <td>34</td>\n",
       "      <td>5.0</td>\n",
       "      <td>7</td>\n",
       "      <td>1</td>\n",
       "      <td>0</td>\n",
       "      <td>78</td>\n",
       "      <td>1</td>\n",
       "    </tr>\n",
       "  </tbody>\n",
       "</table>\n",
       "</div>"
      ],
      "text/plain": [
       "   department  region  education  gender  no_of_trainings  age  \\\n",
       "0           9       7          3       0                1   35   \n",
       "1           9      28          3       1                1   33   \n",
       "2           9       4          2       1                1   50   \n",
       "3           5      31          3       1                1   30   \n",
       "4           6      22          2       1                1   34   \n",
       "\n",
       "   previous_year_rating  length_of_service  KPIs_met >80%  awards_won?  \\\n",
       "0                   5.0                  3              1            0   \n",
       "1                   5.0                  6              1            0   \n",
       "2                   4.0                 17              1            0   \n",
       "3                   3.0                  7              1            0   \n",
       "4                   5.0                  7              1            0   \n",
       "\n",
       "   avg_training_score  is_promoted  \n",
       "0                  50            1  \n",
       "1                  51            1  \n",
       "2                  47            1  \n",
       "3                  84            1  \n",
       "4                  78            1  "
      ]
     },
     "execution_count": 96,
     "metadata": {},
     "output_type": "execute_result"
    }
   ],
   "source": [
    "# Load dataset into a DataFrame\n",
    "df = pd.read_csv('hr_data_new.csv')\n",
    "\n",
    "# Create a copy of the DataFrame\n",
    "df_scaled_hr = df.copy()\n",
    "\n",
    "# Show overview of the dataset\n",
    "df_scaled_hr.head()"
   ]
  },
  {
   "cell_type": "code",
   "execution_count": 104,
   "metadata": {},
   "outputs": [],
   "source": [
    "df_scaled_hr[\"department\"] = (df_scaled_hr[\"department\"] - df_scaled_hr[\"department\"].min()) / (df_scaled_hr[\"department\"].max()-df_scaled_hr[\"department\"].min())\n",
    "df_scaled_hr[\"region\"] = (df_scaled_hr[\"region\"] - df_scaled_hr[\"region\"].min()) / (df_scaled_hr[\"region\"].max()-df_scaled_hr[\"region\"].min())\n",
    "df_scaled_hr[\"education\"] = (df_scaled_hr[\"education\"] - df_scaled_hr[\"education\"].min()) / (df_scaled_hr[\"education\"].max()-df_scaled_hr[\"education\"].min())\n",
    "df_scaled_hr[\"no_of_trainings\"] = (df_scaled_hr[\"no_of_trainings\"] - df_scaled_hr[\"no_of_trainings\"].min()) / (df_scaled_hr[\"no_of_trainings\"].max()-df_scaled_hr[\"no_of_trainings\"].min())\n",
    "df_scaled_hr[\"age\"] = (df_scaled_hr[\"age\"] - df_scaled_hr[\"age\"].min()) / (df_scaled_hr[\"age\"].max()-df_scaled_hr[\"age\"].min())\n",
    "df_scaled_hr[\"previous_year_rating\"] = (df_scaled_hr[\"previous_year_rating\"] - df_scaled_hr[\"previous_year_rating\"].min()) / (df_scaled_hr[\"previous_year_rating\"].max()-df_scaled_hr[\"previous_year_rating\"].min())\n",
    "df_scaled_hr[\"length_of_service\"] = (df_scaled_hr[\"length_of_service\"] - df_scaled_hr[\"length_of_service\"].min()) / (df_scaled_hr[\"length_of_service\"].max()-df_scaled_hr[\"length_of_service\"].min())\n",
    "df_scaled_hr[\"avg_training_score\"] = (df_scaled_hr[\"avg_training_score\"] - df_scaled_hr[\"avg_training_score\"].min()) / (df_scaled_hr[\"avg_training_score\"].max()-df_scaled_hr[\"avg_training_score\"].min())"
   ]
  },
  {
   "cell_type": "code",
   "execution_count": 105,
   "metadata": {},
   "outputs": [],
   "source": [
    "y_scaled_data = df_scaled_hr['is_promoted']\n",
    "x_scaled_data = df_scaled_hr.drop(['is_promoted'], axis = 1)"
   ]
  },
  {
   "cell_type": "code",
   "execution_count": 106,
   "metadata": {},
   "outputs": [],
   "source": [
    "x_scaled_train, x_scaled_test, y_scaled_train, y_scaled_test = train_test_split(x_scaled_data, y_scaled_data, test_size=0.33, random_state=6)\n",
    "#test data"
   ]
  },
  {
   "cell_type": "code",
   "execution_count": 107,
   "metadata": {
    "scrolled": true
   },
   "outputs": [
    {
     "name": "stdout",
     "output_type": "stream",
     "text": [
      "train_score:  [0.85012995 0.84810858 0.84550967 0.84553198 0.85044031]\n",
      "test_score:  [0.80831409 0.81408776 0.82736721 0.83073368 0.82553437]\n",
      "cross val training accuracy is: 0.8479440955159581\n",
      "cross val testing accuracy is: 0.8212074212532503\n"
     ]
    }
   ],
   "source": [
    "rf = RandomForestClassifier(criterion = 'gini', max_depth = 10, max_features = None, min_samples_leaf = 3, min_samples_split = 6, n_estimators=150, random_state = 6, n_jobs = -1)\n",
    "rf.fit(x_scaled_train,y_scaled_train)\n",
    "results  = cross_validate(rf, x_scaled_data, y_scaled_data, scoring='accuracy', cv=5, return_train_score = True)\n",
    "print('train_score: ', results['train_score'])\n",
    "print('test_score: ', results['test_score'])\n",
    "print('cross val training accuracy is:', sum(results['train_score'])/len(results['train_score']))\n",
    "print('cross val testing accuracy is:', sum(results['test_score'])/len(results['test_score']))"
   ]
  },
  {
   "cell_type": "code",
   "execution_count": 108,
   "metadata": {},
   "outputs": [
    {
     "name": "stdout",
     "output_type": "stream",
     "text": [
      "train_score:  [0.84334392 0.84334392 0.84449899 0.84192291 0.84726433]\n",
      "test_score:  [0.8187067  0.81928406 0.8256351  0.84055459 0.82322357]\n",
      "cross val training accuracy is: 0.844074814113822\n",
      "cross val testing accuracy is: 0.8254808057924841\n"
     ]
    }
   ],
   "source": [
    "xgb = XGBClassifier(n_estimators = 750,max_depth = 13, min_child_weight = 5, subsample = 0.8, colsample_bytree = 0.8, gamma = 9, learning_rate = 0.1, random_state = 6)\n",
    "xgb.fit(x_scaled_train,y_scaled_train)\n",
    "results  = cross_validate(xgb, x_scaled_data, y_scaled_data, scoring='accuracy', cv=5, return_train_score = True)\n",
    "print('train_score: ', results['train_score'])\n",
    "print('test_score: ', results['test_score'])\n",
    "print('cross val training accuracy is:', sum(results['train_score'])/len(results['train_score']))\n",
    "print('cross val testing accuracy is:', sum(results['test_score'])/len(results['test_score']))"
   ]
  },
  {
   "cell_type": "code",
   "execution_count": 46,
   "metadata": {
    "scrolled": false
   },
   "outputs": [
    {
     "name": "stderr",
     "output_type": "stream",
     "text": [
      "F:\\school\\anaconda\\envs\\myenv\\lib\\site-packages\\sklearn\\neural_network\\_multilayer_perceptron.py:585: ConvergenceWarning: Stochastic Optimizer: Maximum iterations (200) reached and the optimization hasn't converged yet.\n",
      "  % self.max_iter, ConvergenceWarning)\n",
      "F:\\school\\anaconda\\envs\\myenv\\lib\\site-packages\\sklearn\\neural_network\\_multilayer_perceptron.py:585: ConvergenceWarning: Stochastic Optimizer: Maximum iterations (200) reached and the optimization hasn't converged yet.\n",
      "  % self.max_iter, ConvergenceWarning)\n",
      "F:\\school\\anaconda\\envs\\myenv\\lib\\site-packages\\sklearn\\neural_network\\_multilayer_perceptron.py:585: ConvergenceWarning: Stochastic Optimizer: Maximum iterations (200) reached and the optimization hasn't converged yet.\n",
      "  % self.max_iter, ConvergenceWarning)\n",
      "F:\\school\\anaconda\\envs\\myenv\\lib\\site-packages\\sklearn\\neural_network\\_multilayer_perceptron.py:585: ConvergenceWarning: Stochastic Optimizer: Maximum iterations (200) reached and the optimization hasn't converged yet.\n",
      "  % self.max_iter, ConvergenceWarning)\n",
      "F:\\school\\anaconda\\envs\\myenv\\lib\\site-packages\\sklearn\\neural_network\\_multilayer_perceptron.py:585: ConvergenceWarning: Stochastic Optimizer: Maximum iterations (200) reached and the optimization hasn't converged yet.\n",
      "  % self.max_iter, ConvergenceWarning)\n"
     ]
    },
    {
     "name": "stdout",
     "output_type": "stream",
     "text": [
      "train_score:  [0.82154202 0.81692174 0.81013572 0.81550455 0.81694817]\n",
      "test_score:  [0.78579677 0.79734411 0.80369515 0.80820335 0.80935875]\n",
      "cross val training accuracy is: 0.8162104402910415\n",
      "cross val testing accuracy is: 0.8008796261088719\n"
     ]
    },
    {
     "name": "stderr",
     "output_type": "stream",
     "text": [
      "F:\\school\\anaconda\\envs\\myenv\\lib\\site-packages\\sklearn\\neural_network\\_multilayer_perceptron.py:585: ConvergenceWarning: Stochastic Optimizer: Maximum iterations (200) reached and the optimization hasn't converged yet.\n",
      "  % self.max_iter, ConvergenceWarning)\n"
     ]
    }
   ],
   "source": [
    "mlp = MLPClassifier(random_state =6)\n",
    "mlp.fit(x_scaled_train,y_scaled_train)\n",
    "results  = cross_validate(mlp, x_scaled_data, y_scaled_data, scoring='accuracy', cv=5, return_train_score = True)\n",
    "print('train_score: ', results['train_score'])\n",
    "print('test_score: ', results['test_score'])\n",
    "print('cross val training accuracy is:', sum(results['train_score'])/len(results['train_score']))\n",
    "print('cross val testing accuracy is:', sum(results['test_score'])/len(results['test_score']))"
   ]
  },
  {
   "cell_type": "code",
   "execution_count": 39,
   "metadata": {
    "scrolled": true
   },
   "outputs": [
    {
     "name": "stdout",
     "output_type": "stream",
     "text": [
      "train_score:  [0.84334392 0.84334392 0.84449899 0.84192291 0.84726433]\n",
      "test_score:  [0.8187067  0.81928406 0.8256351  0.84055459 0.82322357]\n",
      "cross val training accuracy is: 0.844074814113822\n",
      "cross val testing accuracy is: 0.8254808057924841\n"
     ]
    }
   ],
   "source": [
    "xgb = XGBClassifier(n_estimators = 750,max_depth = 13, min_child_weight = 5, subsample = 0.8, colsample_bytree = 0.8, gamma = 9, learning_rate = 0.1, random_state = 6)\n",
    "xgb.fit(x_scaled_train,y_scaled_train)\n",
    "results  = cross_validate(xgb, x_scaled_data, y_scaled_data, scoring='accuracy', cv=5, return_train_score = True)\n",
    "print('train_score: ', results['train_score'])\n",
    "print('test_score: ', results['test_score'])\n",
    "print('cross val training accuracy is:', sum(results['train_score'])/len(results['train_score']))\n",
    "print('cross val testing accuracy is:', sum(results['test_score'])/len(results['test_score']))"
   ]
  },
  {
   "cell_type": "markdown",
   "metadata": {},
   "source": [
    "SVC"
   ]
  },
  {
   "cell_type": "code",
   "execution_count": 20,
   "metadata": {},
   "outputs": [
    {
     "data": {
      "text/plain": [
       "SVC(random_state=6)"
      ]
     },
     "execution_count": 20,
     "metadata": {},
     "output_type": "execute_result"
    }
   ],
   "source": [
    "svclassifier = SVC(random_state = 6)\n",
    "svclassifier.fit(x_scaled_train,y_scaled_train)"
   ]
  },
  {
   "cell_type": "code",
   "execution_count": 21,
   "metadata": {},
   "outputs": [
    {
     "name": "stdout",
     "output_type": "stream",
     "text": [
      "train_score:  [0.79829627 0.79771874 0.80002888 0.7967374  0.79976902]\n",
      "test_score:  [0.77655889 0.80080831 0.80484988 0.80069324 0.79202773]\n",
      "cross val training accuracy is: 0.7985100633432245\n",
      "cross val testing accuracy is: 0.7949876121213092\n"
     ]
    }
   ],
   "source": [
    "results  = cross_validate(svclassifier, x_scaled_data, y_scaled_data, scoring='accuracy', cv=5, return_train_score = True)\n",
    "print('train_score: ', results['train_score'])\n",
    "print('test_score: ', results['test_score'])\n",
    "print('cross val training accuracy is:', sum(results['train_score'])/len(results['train_score']))\n",
    "print('cross val testing accuracy is:', sum(results['test_score'])/len(results['test_score']))"
   ]
  },
  {
   "cell_type": "code",
   "execution_count": 40,
   "metadata": {},
   "outputs": [
    {
     "name": "stdout",
     "output_type": "stream",
     "text": [
      "0.8113894436861843\n",
      "{'C': 100, 'class_weight': 'balanced', 'kernel': 'rbf'}\n"
     ]
    }
   ],
   "source": [
    "\n",
    "svclassifier = SVC(random_state = 6)\n",
    "\n",
    "param_grid = { \"C\" : [1,10,100,1000],\n",
    "              \"kernel\": ['rbf','poly','sigmoid'],\n",
    "              \"class_weight\": ['balanced', None]}\n",
    "\n",
    "\n",
    "gs = GridSearchCV(estimator=svclassifier, param_grid=param_grid, scoring='accuracy', cv=5, n_jobs=-1)\n",
    "\n",
    "gs = gs.fit(x_scaled_data, y_scaled_data)\n",
    "print(gs.best_score_)\n",
    "print(gs.best_params_)"
   ]
  },
  {
   "cell_type": "code",
   "execution_count": 47,
   "metadata": {},
   "outputs": [
    {
     "name": "stdout",
     "output_type": "stream",
     "text": [
      "0.8116207241138698\n",
      "{'C': 50, 'gamma': 'scale'}\n"
     ]
    }
   ],
   "source": [
    "svclassifier = SVC(random_state = 6, kernel = 'rbf', class_weight = 'balanced' )\n",
    "\n",
    "param_grid = { \"C\" : [50,100,150],\n",
    "              'gamma': [1000,100,10,1,0.1,0.01,0.001,0.0001,'scale','auto']}\n",
    "\n",
    "\n",
    "gs = GridSearchCV(estimator=svclassifier, param_grid=param_grid, scoring='accuracy', cv=5, n_jobs=-1)\n",
    "\n",
    "gs = gs.fit(x_scaled_data, y_scaled_data)\n",
    "print(gs.best_score_)\n",
    "print(gs.best_params_)"
   ]
  },
  {
   "cell_type": "code",
   "execution_count": 50,
   "metadata": {},
   "outputs": [
    {
     "name": "stdout",
     "output_type": "stream",
     "text": [
      "0.8119669443099145\n",
      "{'C': 60}\n"
     ]
    }
   ],
   "source": [
    "svclassifier = SVC(random_state = 6, kernel = 'rbf', class_weight = 'balanced', gamma = 'scale' )\n",
    "\n",
    "param_grid = { \"C\" : [10,20,30,40,50,60,70,80,90]}\n",
    "\n",
    "\n",
    "gs = GridSearchCV(estimator=svclassifier, param_grid=param_grid, scoring='accuracy', cv=5, n_jobs=-1)\n",
    "\n",
    "gs = gs.fit(x_scaled_data, y_scaled_data)\n",
    "print(gs.best_score_)\n",
    "print(gs.best_params_)"
   ]
  },
  {
   "cell_type": "code",
   "execution_count": 45,
   "metadata": {},
   "outputs": [
    {
     "name": "stdout",
     "output_type": "stream",
     "text": [
      "train_score:  [0.86081432 0.85619405 0.85446145 0.85044031 0.85621481]\n",
      "test_score:  [0.78983834 0.80023095 0.81408776 0.81744656 0.81455806]\n",
      "cross val training accuracy is: 0.8556249883015404\n",
      "cross val testing accuracy is: 0.807232333097183\n"
     ]
    }
   ],
   "source": [
    "svc = SVC(C=100, kernel = 'rbf', gamma = 1, class_weight = 'balanced', random_state = 6)\n",
    "svc.fit(x_scaled_train,y_scaled_train)\n",
    "results  = cross_validate(svc, x_scaled_data, y_scaled_data, scoring='accuracy', cv=5, return_train_score = True)\n",
    "print('train_score: ', results['train_score'])\n",
    "print('test_score: ', results['test_score'])\n",
    "print('cross val training accuracy is:', sum(results['train_score'])/len(results['train_score']))\n",
    "print('cross val testing accuracy is:', sum(results['test_score'])/len(results['test_score']))"
   ]
  },
  {
   "cell_type": "code",
   "execution_count": 51,
   "metadata": {},
   "outputs": [],
   "source": [
    "C_range = range(55,65)\n",
    "\n",
    "train_acc = []\n",
    "test_acc = []\n",
    "cross_val_train =[]\n",
    "cross_val_test =[]\n",
    "\n",
    "for d in C_range:\n",
    "    # Create SVC\n",
    "    svc = SVC(C=d, kernel = 'rbf', gamma = 'scale', class_weight = 'balanced')\n",
    "    svc.fit(x_scaled_train, y_scaled_train.ravel()) \n",
    "    train_acc.append(accuracy_score(svc.predict(x_train), y_train))\n",
    "    test_acc.append(accuracy_score(svc.predict(x_test), y_test))\n",
    "    \n",
    "    results  = cross_validate(svc, x_scaled_data, y_scaled_data.ravel(), scoring='accuracy', cv=5, return_train_score = True)\n",
    "    cross_val_train.append(sum(results['train_score'])/len(results['train_score']))\n",
    "    cross_val_test.append(sum(results['test_score'])/len(results['test_score']))\n"
   ]
  },
  {
   "cell_type": "code",
   "execution_count": 52,
   "metadata": {
    "scrolled": false
   },
   "outputs": [
    {
     "data": {
      "image/png": "[encoded data removed]",
      "text/plain": [
       "<Figure size 432x288 with 1 Axes>"
      ]
     },
     "metadata": {
      "needs_background": "light"
     },
     "output_type": "display_data"
    }
   ],
   "source": [
    "plt.plot(C_range, cross_val_train, 'bo-', label ='cross val training acc')\n",
    "plt.plot(C_range, cross_val_test, 'ro-', label = 'cross val testing acc')\n",
    "\n",
    "plt.xlabel('C', fontsize='x-large')\n",
    "plt.ylabel('Accuracy', fontsize='x-large')\n",
    "\n",
    "plt.legend(loc='best', shadow=True, fontsize='x-large')\n",
    "plt.show()"
   ]
  },
  {
   "cell_type": "code",
   "execution_count": 53,
   "metadata": {
    "scrolled": false
   },
   "outputs": [
    {
     "name": "stdout",
     "output_type": "stream",
     "text": [
      "train_score:  [0.83684666 0.83179324 0.83237078 0.83008517 0.83398297]\n",
      "test_score:  [0.79965358 0.81293303 0.81351039 0.82553437 0.80820335]\n",
      "cross val training accuracy is: 0.8330157647086583\n",
      "cross val testing accuracy is: 0.8119669443099145\n"
     ]
    }
   ],
   "source": [
    "svc = SVC(C=60, kernel = 'rbf', gamma = 'scale',class_weight = 'balanced', random_state = 6)\n",
    "svc.fit(x_scaled_train,y_scaled_train)\n",
    "results  = cross_validate(svc, x_scaled_data, y_scaled_data, scoring='accuracy', cv=5, return_train_score = True)\n",
    "print('train_score: ', results['train_score'])\n",
    "print('test_score: ', results['test_score'])\n",
    "print('cross val training accuracy is:', sum(results['train_score'])/len(results['train_score']))\n",
    "print('cross val testing accuracy is:', sum(results['test_score'])/len(results['test_score']))"
   ]
  },
  {
   "cell_type": "markdown",
   "metadata": {},
   "source": [
    "voting classifier"
   ]
  },
  {
   "cell_type": "code",
   "execution_count": 46,
   "metadata": {},
   "outputs": [],
   "source": [
    "svc = SVC(C=60, kernel = 'rbf', gamma = 'scale',class_weight = 'balanced', random_state = 6)\n",
    "xgb = XGBClassifier(n_estimators = 750,max_depth = 13, min_child_weight = 5, subsample = 0.8, colsample_bytree = 0.8, gamma = 9, learning_rate = 0.1, random_state = 6)\n",
    "rf = RandomForestClassifier(criterion = 'gini', max_depth = 10, max_features = None, min_samples_leaf = 3, min_samples_split = 6, n_estimators=150, random_state = 6, n_jobs = -1)"
   ]
  },
  {
   "cell_type": "code",
   "execution_count": 47,
   "metadata": {},
   "outputs": [],
   "source": [
    "evc = VotingClassifier(estimators = [('xgb', xgb),('svc',svc),('rf', rf)], voting = 'hard')"
   ]
  },
  {
   "cell_type": "code",
   "execution_count": 48,
   "metadata": {
    "scrolled": true
   },
   "outputs": [
    {
     "data": {
      "text/plain": [
       "VotingClassifier(estimators=[('xgb',\n",
       "                              XGBClassifier(colsample_bytree=0.8, gamma=9,\n",
       "                                            max_depth=13, min_child_weight=5,\n",
       "                                            n_estimators=750, random_state=6,\n",
       "                                            subsample=0.8)),\n",
       "                             ('svc',\n",
       "                              SVC(C=60, class_weight='balanced',\n",
       "                                  random_state=6)),\n",
       "                             ('rf',\n",
       "                              RandomForestClassifier(max_depth=10,\n",
       "                                                     max_features=None,\n",
       "                                                     min_samples_leaf=3,\n",
       "                                                     min_samples_split=6,\n",
       "                                                     n_estimators=150,\n",
       "                                                     n_jobs=-1,\n",
       "                                                     random_state=6))])"
      ]
     },
     "execution_count": 48,
     "metadata": {},
     "output_type": "execute_result"
    }
   ],
   "source": [
    "evc.fit(x_train,y_train)\n"
   ]
  },
  {
   "cell_type": "code",
   "execution_count": 49,
   "metadata": {
    "scrolled": false
   },
   "outputs": [
    {
     "name": "stdout",
     "output_type": "stream",
     "text": [
      "The training accuracy is 0.8422413793103448\n",
      "The testing accuracy is 0.8243526941917425\n"
     ]
    }
   ],
   "source": [
    "print(\"The training accuracy is\", evc.score(x_train,y_train))\n",
    "print(\"The testing accuracy is\", evc.score(x_test, y_test))"
   ]
  },
  {
   "cell_type": "markdown",
   "metadata": {},
   "source": [
    "## 2. Airbnb Singapore"
   ]
  },
  {
   "cell_type": "markdown",
   "metadata": {},
   "source": [
    "### 2.1 Load and Sample the data"
   ]
  },
  {
   "cell_type": "code",
   "execution_count": 10,
   "metadata": {},
   "outputs": [
    {
     "data": {
      "text/html": [
       "<div>\n",
       "<style scoped>\n",
       "    .dataframe tbody tr th:only-of-type {\n",
       "        vertical-align: middle;\n",
       "    }\n",
       "\n",
       "    .dataframe tbody tr th {\n",
       "        vertical-align: top;\n",
       "    }\n",
       "\n",
       "    .dataframe thead th {\n",
       "        text-align: right;\n",
       "    }\n",
       "</style>\n",
       "<table border=\"1\" class=\"dataframe\">\n",
       "  <thead>\n",
       "    <tr style=\"text-align: right;\">\n",
       "      <th></th>\n",
       "      <th>neighbourhood</th>\n",
       "      <th>latitude</th>\n",
       "      <th>longitude</th>\n",
       "      <th>room_type</th>\n",
       "      <th>price</th>\n",
       "      <th>minimum_nights</th>\n",
       "      <th>number_of_reviews</th>\n",
       "      <th>last_review</th>\n",
       "      <th>reviews_per_month</th>\n",
       "      <th>calculated_host_listings_count</th>\n",
       "      <th>availability_365</th>\n",
       "    </tr>\n",
       "  </thead>\n",
       "  <tbody>\n",
       "    <tr>\n",
       "      <th>0</th>\n",
       "      <td>7</td>\n",
       "      <td>1.33235</td>\n",
       "      <td>103.78521</td>\n",
       "      <td>2</td>\n",
       "      <td>81</td>\n",
       "      <td>2.0</td>\n",
       "      <td>18</td>\n",
       "      <td>1</td>\n",
       "      <td>0.28</td>\n",
       "      <td>1</td>\n",
       "      <td>365</td>\n",
       "    </tr>\n",
       "    <tr>\n",
       "      <th>1</th>\n",
       "      <td>14</td>\n",
       "      <td>1.28875</td>\n",
       "      <td>103.80814</td>\n",
       "      <td>2</td>\n",
       "      <td>44</td>\n",
       "      <td>15.0</td>\n",
       "      <td>18</td>\n",
       "      <td>1</td>\n",
       "      <td>0.23</td>\n",
       "      <td>32</td>\n",
       "      <td>331</td>\n",
       "    </tr>\n",
       "    <tr>\n",
       "      <th>2</th>\n",
       "      <td>14</td>\n",
       "      <td>1.28837</td>\n",
       "      <td>103.81099</td>\n",
       "      <td>2</td>\n",
       "      <td>40</td>\n",
       "      <td>2.0</td>\n",
       "      <td>10</td>\n",
       "      <td>1</td>\n",
       "      <td>0.11</td>\n",
       "      <td>32</td>\n",
       "      <td>276</td>\n",
       "    </tr>\n",
       "    <tr>\n",
       "      <th>3</th>\n",
       "      <td>6</td>\n",
       "      <td>1.31125</td>\n",
       "      <td>103.83816</td>\n",
       "      <td>2</td>\n",
       "      <td>65</td>\n",
       "      <td>2.0</td>\n",
       "      <td>125</td>\n",
       "      <td>1</td>\n",
       "      <td>1.35</td>\n",
       "      <td>6</td>\n",
       "      <td>336</td>\n",
       "    </tr>\n",
       "    <tr>\n",
       "      <th>4</th>\n",
       "      <td>14</td>\n",
       "      <td>1.28976</td>\n",
       "      <td>103.80896</td>\n",
       "      <td>2</td>\n",
       "      <td>44</td>\n",
       "      <td>2.0</td>\n",
       "      <td>13</td>\n",
       "      <td>1</td>\n",
       "      <td>0.15</td>\n",
       "      <td>32</td>\n",
       "      <td>340</td>\n",
       "    </tr>\n",
       "  </tbody>\n",
       "</table>\n",
       "</div>"
      ],
      "text/plain": [
       "   neighbourhood  latitude  longitude  room_type  price  minimum_nights  \\\n",
       "0              7   1.33235  103.78521          2     81             2.0   \n",
       "1             14   1.28875  103.80814          2     44            15.0   \n",
       "2             14   1.28837  103.81099          2     40             2.0   \n",
       "3              6   1.31125  103.83816          2     65             2.0   \n",
       "4             14   1.28976  103.80896          2     44             2.0   \n",
       "\n",
       "   number_of_reviews  last_review  reviews_per_month  \\\n",
       "0                 18            1               0.28   \n",
       "1                 18            1               0.23   \n",
       "2                 10            1               0.11   \n",
       "3                125            1               1.35   \n",
       "4                 13            1               0.15   \n",
       "\n",
       "   calculated_host_listings_count  availability_365  \n",
       "0                               1               365  \n",
       "1                              32               331  \n",
       "2                              32               276  \n",
       "3                               6               336  \n",
       "4                              32               340  "
      ]
     },
     "execution_count": 10,
     "metadata": {},
     "output_type": "execute_result"
    }
   ],
   "source": [
    "# Load dataset into a DataFrame\n",
    "df = pd.read_csv('listings_new.csv')\n",
    "\n",
    "# Create a copy of the DataFrame\n",
    "df_list = df.copy()\n",
    "\n",
    "# Show overview of the dataset\n",
    "df_list.head()"
   ]
  },
  {
   "cell_type": "code",
   "execution_count": 11,
   "metadata": {},
   "outputs": [],
   "source": [
    "y_list = df_list['price']\n",
    "x_list = df_list.drop(['price'], axis = 1)"
   ]
  },
  {
   "cell_type": "code",
   "execution_count": 12,
   "metadata": {},
   "outputs": [],
   "source": [
    "x_train, x_test, y_train, y_test = train_test_split(x_list, y_list, test_size=0.33, random_state=6)\n",
    "#test data"
   ]
  },
  {
   "cell_type": "markdown",
   "metadata": {},
   "source": [
    "### 2.2 Build the Model(s)"
   ]
  },
  {
   "cell_type": "markdown",
   "metadata": {},
   "source": [
    "Decision Tree"
   ]
  },
  {
   "cell_type": "code",
   "execution_count": 85,
   "metadata": {},
   "outputs": [
    {
     "name": "stdout",
     "output_type": "stream",
     "text": [
      "train_score:  [-0. -0. -0. -0. -0.]\n",
      "test_score:  [-75.44036966 -74.56871268 -74.45218896 -80.05503216 -79.8577826 ]\n",
      "cross val training root mean squared error (RMSE) is: 0.0\n",
      "cross val testing root mean squared error (RMSE) is: 76.8748172112448\n"
     ]
    }
   ],
   "source": [
    "decision_tree = DecisionTreeRegressor(random_state = 6)\n",
    "decision_tree.fit(x_train, y_train.ravel())\n",
    "\n",
    "# Evaluate the Model using K-folds Cross validation\n",
    "results  = (cross_validate(decision_tree, x_list, y_list.ravel(), scoring='neg_root_mean_squared_error', cv=5, return_train_score = True))\n",
    "print('train_score: ', results['train_score'])\n",
    "print('test_score: ', results['test_score'])\n",
    "print('cross val training root mean squared error (RMSE) is:', sum(-results['train_score'])/len(results['train_score']))\n",
    "print('cross val testing root mean squared error (RMSE) is:', sum(-results['test_score'])/len(results['test_score']))"
   ]
  },
  {
   "cell_type": "markdown",
   "metadata": {},
   "source": [
    "Linear Regression"
   ]
  },
  {
   "cell_type": "code",
   "execution_count": 87,
   "metadata": {},
   "outputs": [
    {
     "name": "stdout",
     "output_type": "stream",
     "text": [
      "train_score:  [-67.27789001 -66.58757559 -65.80087962 -64.76052557 -65.33363098]\n",
      "test_score:  [-61.43355025 -63.95575919 -67.16590403 -71.30979501 -68.93044306]\n",
      "cross val training root mean squared error (RMSE) is: 65.952100352966\n",
      "cross val testing root mean squared error (RMSE) is: 66.55909030856908\n"
     ]
    }
   ],
   "source": [
    "lg = LinearRegression()\n",
    "lg.fit(x_train,y_train.ravel())\n",
    "\n",
    "# Evaluate the Model using K-folds Cross validation\n",
    "results  = (cross_validate(lg, x_list, y_list.ravel(), scoring='neg_root_mean_squared_error', cv=5, return_train_score = True))\n",
    "print('train_score: ', results['train_score'])\n",
    "print('test_score: ', results['test_score'])\n",
    "print('cross val training root mean squared error (RMSE) is:', sum(-results['train_score'])/len(results['train_score']))\n",
    "print('cross val testing root mean squared error (RMSE) is:', sum(-results['test_score'])/len(results['test_score']))"
   ]
  },
  {
   "cell_type": "markdown",
   "metadata": {},
   "source": [
    "adaboost"
   ]
  },
  {
   "cell_type": "code",
   "execution_count": 45,
   "metadata": {},
   "outputs": [
    {
     "name": "stdout",
     "output_type": "stream",
     "text": [
      "train_score:  [-67.22505655 -66.6281162  -66.19333434 -66.43076429 -67.31155354]\n",
      "test_score:  [-66.98294357 -68.55590336 -66.53166583 -71.94517149 -70.2579021 ]\n",
      "cross val training root mean squared error (RMSE) is: 66.75776498602632\n",
      "cross val testing root mean squared error (RMSE) is: 68.85471726785622\n"
     ]
    }
   ],
   "source": [
    "adb = AdaBoostRegressor(random_state = 6)\n",
    "adb.fit(x_train,y_train.ravel())\n",
    "\n",
    "# Evaluate the Model using K-folds Cross validation\n",
    "results  = (cross_validate(adb, x_list, y_list.ravel(), scoring='neg_root_mean_squared_error', cv=5, return_train_score = True))\n",
    "print('train_score: ', results['train_score'])\n",
    "print('test_score: ', results['test_score'])\n",
    "print('cross val training root mean squared error (RMSE) is:', sum(-results['train_score'])/len(results['train_score']))\n",
    "print('cross val testing root mean squared error (RMSE) is:', sum(-results['test_score'])/len(results['test_score']))"
   ]
  },
  {
   "cell_type": "markdown",
   "metadata": {},
   "source": [
    "Random Forest"
   ]
  },
  {
   "cell_type": "code",
   "execution_count": 89,
   "metadata": {},
   "outputs": [
    {
     "name": "stdout",
     "output_type": "stream",
     "text": [
      "train_score:  [-18.43569181 -18.33274456 -18.32026833 -17.95573069 -18.1378978 ]\n",
      "test_score:  [-53.54040917 -53.90357526 -54.500251   -59.99246376 -58.87565732]\n",
      "cross val training root mean squared error (RMSE) is: 18.236466639422684\n",
      "cross val testing root mean squared error (RMSE) is: 56.16247130326134\n"
     ]
    }
   ],
   "source": [
    "# Create Random Forest Model\n",
    "rf_reg = RandomForestRegressor(random_state = 6)\n",
    "# Y_train is a 1D array, use ravel() to change the shape of Y_train to (n_samples,) before feed it into fit function\n",
    "rf_reg.fit(x_train, y_train.ravel()) \n",
    "\n",
    "# Evaluate the Model using K-folds Cross validation\n",
    "results  = (cross_validate(rf_reg, x_list, y_list.ravel(), scoring='neg_root_mean_squared_error', cv=5, return_train_score = True))\n",
    "print('train_score: ', results['train_score'])\n",
    "print('test_score: ', results['test_score'])\n",
    "print('cross val training root mean squared error (RMSE) is:', sum(-results['train_score'])/len(results['train_score']))\n",
    "print('cross val testing root mean squared error (RMSE) is:', sum(-results['test_score'])/len(results['test_score']))"
   ]
  },
  {
   "cell_type": "markdown",
   "metadata": {},
   "source": [
    "XGBoost"
   ]
  },
  {
   "cell_type": "code",
   "execution_count": 95,
   "metadata": {
    "scrolled": true
   },
   "outputs": [
    {
     "name": "stdout",
     "output_type": "stream",
     "text": [
      "[16:01:54] WARNING: src/objective/regression_obj.cu:152: reg:linear is now deprecated in favor of reg:squarederror.\n",
      "[16:01:54] WARNING: src/objective/regression_obj.cu:152: reg:linear is now deprecated in favor of reg:squarederror.\n",
      "[16:01:55] WARNING: src/objective/regression_obj.cu:152: reg:linear is now deprecated in favor of reg:squarederror.\n",
      "[16:01:55] WARNING: src/objective/regression_obj.cu:152: reg:linear is now deprecated in favor of reg:squarederror.\n",
      "[16:01:55] WARNING: src/objective/regression_obj.cu:152: reg:linear is now deprecated in favor of reg:squarederror.\n",
      "train_score:  [-54.33664369 -53.87647498 -53.45702323 -52.8637003  -53.33673768]\n",
      "test_score:  [-54.06087921 -58.60260517 -58.97397712 -63.19227144 -61.54794712]\n",
      "cross val training root mean squared error (RMSE) is: 53.5741159751765\n",
      "cross val testing root mean squared error (RMSE) is: 59.27553601119431\n"
     ]
    }
   ],
   "source": [
    "xgbr = XGBRegressor(random_state = 6)\n",
    "xgbr.fit(x_train,y_train.ravel())\n",
    "\n",
    "results  = (cross_validate(xgbr, x_list, y_list.ravel(), scoring='neg_root_mean_squared_error', cv=5, return_train_score = True))\n",
    "print('train_score: ', results['train_score'])\n",
    "print('test_score: ', results['test_score'])\n",
    "print('cross val training root mean squared error (RMSE) is:', sum(-results['train_score'])/len(results['train_score']))\n",
    "print('cross val testing root mean squared error (RMSE) is:', sum(-results['test_score'])/len(results['test_score']))"
   ]
  },
  {
   "cell_type": "code",
   "execution_count": 8,
   "metadata": {
    "scrolled": false
   },
   "outputs": [
    {
     "name": "stderr",
     "output_type": "stream",
     "text": [
      "F:\\school\\anaconda\\envs\\myenv\\lib\\site-packages\\sklearn\\neural_network\\_multilayer_perceptron.py:585: ConvergenceWarning: Stochastic Optimizer: Maximum iterations (200) reached and the optimization hasn't converged yet.\n",
      "  % self.max_iter, ConvergenceWarning)\n",
      "F:\\school\\anaconda\\envs\\myenv\\lib\\site-packages\\sklearn\\neural_network\\_multilayer_perceptron.py:585: ConvergenceWarning: Stochastic Optimizer: Maximum iterations (200) reached and the optimization hasn't converged yet.\n",
      "  % self.max_iter, ConvergenceWarning)\n",
      "F:\\school\\anaconda\\envs\\myenv\\lib\\site-packages\\sklearn\\neural_network\\_multilayer_perceptron.py:585: ConvergenceWarning: Stochastic Optimizer: Maximum iterations (200) reached and the optimization hasn't converged yet.\n",
      "  % self.max_iter, ConvergenceWarning)\n",
      "F:\\school\\anaconda\\envs\\myenv\\lib\\site-packages\\sklearn\\neural_network\\_multilayer_perceptron.py:585: ConvergenceWarning: Stochastic Optimizer: Maximum iterations (200) reached and the optimization hasn't converged yet.\n",
      "  % self.max_iter, ConvergenceWarning)\n"
     ]
    },
    {
     "name": "stdout",
     "output_type": "stream",
     "text": [
      "train_score:  [-64.5403494  -63.39156507 -62.47164164 -61.74762234 -62.29032307]\n",
      "test_score:  [-60.74025224 -62.04036246 -65.84233332 -69.2239394  -67.72303999]\n",
      "cross val training root mean squared error (RMSE) is: 62.88830030401816\n",
      "cross val testing root mean squared error (RMSE) is: 65.11398548164912\n"
     ]
    },
    {
     "name": "stderr",
     "output_type": "stream",
     "text": [
      "F:\\school\\anaconda\\envs\\myenv\\lib\\site-packages\\sklearn\\neural_network\\_multilayer_perceptron.py:585: ConvergenceWarning: Stochastic Optimizer: Maximum iterations (200) reached and the optimization hasn't converged yet.\n",
      "  % self.max_iter, ConvergenceWarning)\n"
     ]
    }
   ],
   "source": [
    "mlp = MLPRegressor(random_state =6)\n",
    "mlp.fit(x_train,y_train.ravel())\n",
    "\n",
    "# Evaluate the Model using K-folds Cross validation\n",
    "results  = (cross_validate(mlp, x_list, y_list.ravel(), scoring='neg_root_mean_squared_error', cv=5, return_train_score = True))\n",
    "print('train_score: ', results['train_score'])\n",
    "print('test_score: ', results['test_score'])\n",
    "print('cross val training root mean squared error (RMSE) is:', sum(-results['train_score'])/len(results['train_score']))\n",
    "print('cross val testing root mean squared error (RMSE) is:', sum(-results['test_score'])/len(results['test_score']))"
   ]
  },
  {
   "cell_type": "code",
   "execution_count": 9,
   "metadata": {},
   "outputs": [
    {
     "name": "stdout",
     "output_type": "stream",
     "text": [
      "train_score:  [-86.00051196 -84.66561209 -84.85804834 -84.97434627 -83.78717259]\n",
      "test_score:  [-76.20986477 -83.25910192 -87.70240508 -86.73057002 -93.39742697]\n",
      "cross val training root mean squared error (RMSE) is: 84.85713825128315\n",
      "cross val testing root mean squared error (RMSE) is: 85.45987375183971\n"
     ]
    }
   ],
   "source": [
    "svr = SVR()\n",
    "svr.fit(x_train,y_train.ravel())\n",
    "results  = (cross_validate(svr, x_list, y_list.ravel(), scoring='neg_root_mean_squared_error', cv=5, return_train_score = True))\n",
    "print('train_score: ', results['train_score'])\n",
    "print('test_score: ', results['test_score'])\n",
    "print('cross val training root mean squared error (RMSE) is:', sum(-results['train_score'])/len(results['train_score']))\n",
    "print('cross val testing root mean squared error (RMSE) is:', sum(-results['test_score'])/len(results['test_score']))"
   ]
  },
  {
   "cell_type": "markdown",
   "metadata": {},
   "source": [
    "### 2.3 Evaluate and Improve the Model(s)"
   ]
  },
  {
   "cell_type": "markdown",
   "metadata": {},
   "source": [
    "Random Forest"
   ]
  },
  {
   "cell_type": "code",
   "execution_count": 99,
   "metadata": {
    "scrolled": true
   },
   "outputs": [
    {
     "name": "stdout",
     "output_type": "stream",
     "text": [
      "-55.20402661757871\n",
      "{'max_depth': 15, 'max_features': 'log2', 'min_samples_leaf': 1, 'min_samples_split': 5, 'n_estimators': 750}\n"
     ]
    }
   ],
   "source": [
    "rf = RandomForestRegressor(random_state = 6, n_jobs=-1)\n",
    "\n",
    "param_grid = {\"n_estimators\": [200, 500, 750],\n",
    "              \"max_depth\": [5, 10, 15], \n",
    "              \"min_samples_leaf\" : [1, 5, 10], \n",
    "              \"min_samples_split\": [1, 5 ,10],\n",
    "              \"max_features\": [\"auto\" \"sqrt\", \"log2\",None]}\n",
    "\n",
    "gs = GridSearchCV(estimator=rf, param_grid=param_grid, scoring='neg_root_mean_squared_error', cv=5, n_jobs=-1)\n",
    "\n",
    "gs = gs.fit(x_list, y_list)\n",
    "print(gs.best_score_)\n",
    "print(gs.best_params_)"
   ]
  },
  {
   "cell_type": "code",
   "execution_count": 100,
   "metadata": {},
   "outputs": [
    {
     "name": "stdout",
     "output_type": "stream",
     "text": [
      "-55.10612397871862\n",
      "{'max_depth': 21, 'n_estimators': 1000}\n"
     ]
    }
   ],
   "source": [
    "rf = RandomForestRegressor(random_state = 6, n_jobs=-1, max_features = 'log2', min_samples_split = 5, min_samples_leaf = 1)\n",
    "\n",
    "param_grid = {\"n_estimators\": [750,1000,1250],\n",
    "              \"max_depth\": [12,15,18,21]}\n",
    "\n",
    "gs = GridSearchCV(estimator=rf, param_grid=param_grid, scoring='neg_root_mean_squared_error', cv=5, n_jobs=-1)\n",
    "\n",
    "gs = gs.fit(x_list, y_list)\n",
    "print(gs.best_score_)\n",
    "print(gs.best_params_)"
   ]
  },
  {
   "cell_type": "code",
   "execution_count": 46,
   "metadata": {},
   "outputs": [
    {
     "name": "stdout",
     "output_type": "stream",
     "text": [
      "-55.07126477389183\n",
      "{'max_depth': 25, 'n_estimators': 900}\n"
     ]
    }
   ],
   "source": [
    "rf = RandomForestRegressor(random_state = 6, n_jobs=-1, max_features = 'log2', min_samples_split = 5, min_samples_leaf = 1)\n",
    "\n",
    "param_grid = {\"n_estimators\": [900,1000,1100],\n",
    "             \"max_depth\": [20,21,22,25]}\n",
    "\n",
    "gs = GridSearchCV(estimator=rf, param_grid=param_grid, scoring='neg_root_mean_squared_error', cv=5, n_jobs=-1)\n",
    "\n",
    "gs = gs.fit(x_list, y_list)\n",
    "print(gs.best_score_)\n",
    "print(gs.best_params_)"
   ]
  },
  {
   "cell_type": "code",
   "execution_count": 48,
   "metadata": {},
   "outputs": [
    {
     "name": "stdout",
     "output_type": "stream",
     "text": [
      "-55.05899847585988\n",
      "{'max_depth': 25, 'n_estimators': 950}\n"
     ]
    }
   ],
   "source": [
    "rf = RandomForestRegressor(random_state = 6, n_jobs=-1, max_features = 'log2', min_samples_split = 5, min_samples_leaf = 1)\n",
    "\n",
    "param_grid = {\"n_estimators\": [850,900,950],\n",
    "             \"max_depth\": [25,28,31]}\n",
    "\n",
    "gs = GridSearchCV(estimator=rf, param_grid=param_grid, scoring='neg_root_mean_squared_error', cv=5, n_jobs=-1)\n",
    "\n",
    "gs = gs.fit(x_list, y_list)\n",
    "print(gs.best_score_)\n",
    "print(gs.best_params_)"
   ]
  },
  {
   "cell_type": "code",
   "execution_count": 49,
   "metadata": {},
   "outputs": [
    {
     "name": "stdout",
     "output_type": "stream",
     "text": [
      "-55.05899847585988\n",
      "{'n_estimators': 950}\n"
     ]
    }
   ],
   "source": [
    "rf = RandomForestRegressor(random_state = 6, n_jobs=-1, max_features = 'log2', min_samples_split = 5, min_samples_leaf = 1, max_depth = 25)\n",
    "\n",
    "param_grid = {\"n_estimators\": [930,940,950,960,970]}\n",
    "\n",
    "gs = GridSearchCV(estimator=rf, param_grid=param_grid, scoring='neg_root_mean_squared_error', cv=5, n_jobs=-1)\n",
    "\n",
    "gs = gs.fit(x_list, y_list)\n",
    "print(gs.best_score_)\n",
    "print(gs.best_params_)"
   ]
  },
  {
   "cell_type": "code",
   "execution_count": 7,
   "metadata": {
    "scrolled": false
   },
   "outputs": [
    {
     "data": {
      "image/png": "[encoded data removed]",
      "text/plain": [
       "<Figure size 432x288 with 1 Axes>"
      ]
     },
     "metadata": {
      "needs_background": "light"
     },
     "output_type": "display_data"
    }
   ],
   "source": [
    "depth_range = range(23,28)\n",
    "\n",
    "train_acc = []\n",
    "test_acc = []\n",
    "cross_val_train =[]\n",
    "cross_val_test =[]\n",
    "\n",
    "for d in depth_range:\n",
    "    rf = RandomForestRegressor(random_state = 6, n_jobs=-1, max_features = 'log2', min_samples_split = 5, min_samples_leaf = 9, max_depth = d, n_estimators = 950)\n",
    "    rf.fit(x_train, y_train.ravel()) \n",
    "    train_acc.append(sqrt(mean_squared_error(rf.predict(x_train), y_train.ravel())))\n",
    "    test_acc.append(sqrt(mean_squared_error(rf.predict(x_test), y_test.ravel())))\n",
    "    \n",
    "    results  = cross_validate(rf, x_list, y_list.ravel(), scoring='neg_root_mean_squared_error', cv=5, return_train_score = True)\n",
    "    cross_val_train.append(-sum(results['train_score'])/len(results['train_score']))\n",
    "    cross_val_test.append(-sum(results['test_score'])/len(results['test_score']))\n",
    "\n",
    "\n",
    "plt.plot(depth_range, cross_val_train, 'bo-', label ='cross val training rmse')\n",
    "plt.plot(depth_range, cross_val_test, 'ro-', label = 'cross val testing rmse')\n",
    "\n",
    "plt.xlabel('Max_Depth', fontsize='x-large')\n",
    "plt.ylabel('Root Mean Squared Error', fontsize='x-large')\n",
    "\n",
    "plt.legend(loc='best', shadow=True, fontsize='x-large')\n",
    "plt.show()"
   ]
  },
  {
   "cell_type": "code",
   "execution_count": 9,
   "metadata": {
    "scrolled": false
   },
   "outputs": [
    {
     "data": {
      "image/png": "[encoded data removed]",
      "text/plain": [
       "<Figure size 432x288 with 1 Axes>"
      ]
     },
     "metadata": {
      "needs_background": "light"
     },
     "output_type": "display_data"
    }
   ],
   "source": [
    "leaf_range = [0.5,1,2,3,4,5,6,7,8,9,10,11,12,13,14,15]\n",
    "\n",
    "train_acc = []\n",
    "test_acc = []\n",
    "cross_val_train =[]\n",
    "cross_val_test =[]\n",
    "\n",
    "for d in leaf_range:\n",
    "    rf = RandomForestRegressor(random_state = 6, n_jobs=-1, max_features = 'log2', min_samples_split = 5,\n",
    "                               min_samples_leaf = d, max_depth = 25, n_estimators = 950)\n",
    "    rf.fit(x_train, y_train.ravel()) \n",
    "    train_acc.append(sqrt(mean_squared_error(rf.predict(x_train), y_train.ravel())))\n",
    "    test_acc.append(sqrt(mean_squared_error(rf.predict(x_test), y_test.ravel())))\n",
    "    \n",
    "    results  = cross_validate(rf, x_list, y_list.ravel(), scoring='neg_root_mean_squared_error', cv=5, return_train_score = True)\n",
    "    cross_val_train.append(-sum(results['train_score'])/len(results['train_score']))\n",
    "    cross_val_test.append(-sum(results['test_score'])/len(results['test_score']))\n",
    "\n",
    "\n",
    "plt.plot(leaf_range, cross_val_train, 'bo-', label ='cross val training rmse')\n",
    "plt.plot(leaf_range, cross_val_test, 'ro-', label = 'cross val testing rmse')\n",
    "\n",
    "plt.xlabel('Min_Samples_Leaf', fontsize='x-large')\n",
    "plt.ylabel('Root Mean Squared Error', fontsize='x-large')\n",
    "\n",
    "plt.legend(loc='best', shadow=True, fontsize='x-large')\n",
    "plt.show()"
   ]
  },
  {
   "cell_type": "code",
   "execution_count": 15,
   "metadata": {},
   "outputs": [
    {
     "data": {
      "image/png": "[encoded data removed]",
      "text/plain": [
       "<Figure size 432x288 with 1 Axes>"
      ]
     },
     "metadata": {
      "needs_background": "light"
     },
     "output_type": "display_data"
    }
   ],
   "source": [
    "leaf_range = range(2,65,4)\n",
    "\n",
    "train_acc = []\n",
    "test_acc = []\n",
    "cross_val_train =[]\n",
    "cross_val_test =[]\n",
    "\n",
    "for d in leaf_range:\n",
    "    rf = RandomForestRegressor(random_state = 6, n_jobs=-1, max_features = 'log2', min_samples_split = 5,\n",
    "                               min_samples_leaf = d, max_depth = 25, n_estimators = 950)\n",
    "    rf.fit(x_train, y_train.ravel()) \n",
    "    train_acc.append(sqrt(mean_squared_error(rf.predict(x_train), y_train.ravel())))\n",
    "    test_acc.append(sqrt(mean_squared_error(rf.predict(x_test), y_test.ravel())))\n",
    "    \n",
    "    results  = cross_validate(rf, x_list, y_list.ravel(), scoring='neg_root_mean_squared_error', cv=5, return_train_score = True)\n",
    "    cross_val_train.append(-sum(results['train_score'])/len(results['train_score']))\n",
    "    cross_val_test.append(-sum(results['test_score'])/len(results['test_score']))\n",
    "\n",
    "plt.plot(leaf_range, cross_val_train, 'bo-', label ='cross val training rmse')\n",
    "plt.plot(leaf_range, cross_val_test, 'ro-', label = 'cross val testing rmse')\n",
    "\n",
    "plt.xlabel('Min_Samples_Leaf', fontsize='x-large')\n",
    "plt.ylabel('Root Mean Squared Error', fontsize='x-large')\n",
    "\n",
    "plt.legend(loc='best', shadow=True, fontsize='x-large')\n",
    "plt.show()"
   ]
  },
  {
   "cell_type": "code",
   "execution_count": 72,
   "metadata": {},
   "outputs": [
    {
     "name": "stdout",
     "output_type": "stream",
     "text": [
      "train_score:  [-59.16999705 -58.29201806 -57.9923426  -57.53296181 -57.77414892]\n",
      "test_score:  [-55.8445374  -61.75583396 -61.7983576  -64.61378622 -63.91939271]\n",
      "cross val training root mean squared error (RMSE) is: 58.15229368712254\n",
      "cross val testing root mean squared error (RMSE) is: 61.58638157909354\n"
     ]
    }
   ],
   "source": [
    "# Create Random Forest Model\n",
    "rf_reg = RandomForestRegressor(random_state = 6, n_jobs=-1, max_features = 'log2', min_samples_split = 5, min_samples_leaf = 64, max_depth = 25, n_estimators = 950)\n",
    "# Y_train is a 1D array, use ravel() to change the shape of Y_train to (n_samples,) before feed it into fit function\n",
    "rf_reg.fit(x_train, y_train.ravel())\n",
    "results  = (cross_validate(rf_reg, x_list, y_list.ravel(), scoring='neg_root_mean_squared_error', cv=5, return_train_score = True))\n",
    "print('train_score: ', results['train_score'])\n",
    "print('test_score: ', results['test_score'])\n",
    "print('cross val training root mean squared error (RMSE) is:', sum(-results['train_score'])/len(results['train_score']))\n",
    "print('cross val testing root mean squared error (RMSE) is:', sum(-results['test_score'])/len(results['test_score']))"
   ]
  },
  {
   "cell_type": "code",
   "execution_count": 13,
   "metadata": {
    "scrolled": true
   },
   "outputs": [
    {
     "data": {
      "image/png": "[encoded data removed]",
      "text/plain": [
       "<Figure size 432x288 with 1 Axes>"
      ]
     },
     "metadata": {
      "needs_background": "light"
     },
     "output_type": "display_data"
    }
   ],
   "source": [
    "split_range = range(2,10)\n",
    "\n",
    "train_acc = []\n",
    "test_acc = []\n",
    "cross_val_train =[]\n",
    "cross_val_test =[]\n",
    "\n",
    "for d in split_range:\n",
    "    rf = RandomForestRegressor(random_state = 6, n_jobs=-1, max_features = 'log2', min_samples_split = d,\n",
    "                               min_samples_leaf = 64, max_depth = 25, n_estimators = 950)\n",
    "    rf.fit(x_train, y_train.ravel()) \n",
    "    train_acc.append(sqrt(mean_squared_error(rf.predict(x_train), y_train.ravel())))\n",
    "    test_acc.append(sqrt(mean_squared_error(rf.predict(x_test), y_test.ravel())))\n",
    "    \n",
    "    results  = cross_validate(rf, x_list, y_list.ravel(), scoring='neg_root_mean_squared_error', cv=5, return_train_score = True)\n",
    "    cross_val_train.append(-sum(results['train_score'])/len(results['train_score']))\n",
    "    cross_val_test.append(-sum(results['test_score'])/len(results['test_score']))\n",
    "\n",
    "\n",
    "plt.plot(split_range, cross_val_train, 'bo-', label ='cross val training rmse')\n",
    "plt.plot(split_range, cross_val_test, 'ro-', label = 'cross val testing rmse')\n",
    "\n",
    "plt.xlabel('Min_Samples_Split', fontsize='x-large')\n",
    "plt.ylabel('Root Mean Squared Error', fontsize='x-large')\n",
    "\n",
    "plt.legend(loc='best', shadow=True, fontsize='x-large')\n",
    "plt.show()"
   ]
  },
  {
   "cell_type": "code",
   "execution_count": 15,
   "metadata": {
    "scrolled": true
   },
   "outputs": [
    {
     "data": {
      "image/png": "[encoded data removed]",
      "text/plain": [
       "<Figure size 432x288 with 1 Axes>"
      ]
     },
     "metadata": {
      "needs_background": "light"
     },
     "output_type": "display_data"
    }
   ],
   "source": [
    "estimator_range = range(945,955)\n",
    "\n",
    "train_acc = []\n",
    "test_acc = []\n",
    "cross_val_train =[]\n",
    "cross_val_test =[]\n",
    "\n",
    "for d in estimator_range:\n",
    "    rf = RandomForestRegressor(random_state = 6, n_jobs=-1, max_features = 'log2', min_samples_split = 5,\n",
    "                               min_samples_leaf = 64, max_depth = 25, n_estimators = d)\n",
    "    rf.fit(x_train, y_train.ravel()) \n",
    "    train_acc.append(sqrt(mean_squared_error(rf.predict(x_train), y_train.ravel())))\n",
    "    test_acc.append(sqrt(mean_squared_error(rf.predict(x_test), y_test.ravel())))\n",
    "    \n",
    "    results  = cross_validate(rf, x_list, y_list.ravel(), scoring='neg_root_mean_squared_error', cv=5, return_train_score = True)\n",
    "    cross_val_train.append(-sum(results['train_score'])/len(results['train_score']))\n",
    "    cross_val_test.append(-sum(results['test_score'])/len(results['test_score']))\n",
    "\n",
    "\n",
    "plt.plot(estimator_range, cross_val_train, 'bo-', label ='cross val training rmse')\n",
    "plt.plot(estimator_range, cross_val_test, 'ro-', label = 'cross val testing rmse')\n",
    "\n",
    "plt.xlabel('Min_estimator', fontsize='x-large')\n",
    "plt.ylabel('Root Mean Squared Error', fontsize='x-large')\n",
    "\n",
    "plt.legend(loc='best', shadow=True, fontsize='x-large')\n",
    "plt.show()"
   ]
  },
  {
   "cell_type": "code",
   "execution_count": 78,
   "metadata": {
    "scrolled": true
   },
   "outputs": [
    {
     "name": "stdout",
     "output_type": "stream",
     "text": [
      "train_score:  [-59.16999705 -58.29201806 -57.9923426  -57.53296181 -57.77414892]\n",
      "test_score:  [-55.8445374  -61.75583396 -61.7983576  -64.61378622 -63.91939271]\n",
      "cross val training root mean squared error (RMSE) is: 58.15229368712254\n",
      "cross val testing root mean squared error (RMSE) is: 61.58638157909354\n"
     ]
    }
   ],
   "source": [
    "# Create Random Forest Model\n",
    "rf_reg = RandomForestRegressor(random_state = 6, n_jobs=-1, max_features = 'log2', min_samples_split = 5,\n",
    "                               min_samples_leaf = 64, max_depth = 25, n_estimators = 950)\n",
    "# Y_train is a 1D array, use ravel() to change the shape of Y_train to (n_samples,) before feed it into fit function\n",
    "rf_reg.fit(x_train, y_train.ravel()) \n",
    "\n",
    "# Evaluate the Model using K-folds Cross validation\n",
    "# Create Random Forest Model\n",
    "rf_reg = RandomForestRegressor(random_state = 6, n_jobs=-1, max_features = 'log2', min_samples_split = 5,\n",
    "                               min_samples_leaf = 64, max_depth = 25, n_estimators = 950)\n",
    "# Y_train is a 1D array, use ravel() to change the shape of Y_train to (n_samples,) before feed it into fit function\n",
    "rf_reg.fit(x_train, y_train.ravel()) \n",
    "results  = (cross_validate(rf_reg, x_list, y_list.ravel(), scoring='neg_root_mean_squared_error', cv=5, return_train_score = True))\n",
    "print('train_score: ', results['train_score'])\n",
    "print('test_score: ', results['test_score'])\n",
    "print('cross val training root mean squared error (RMSE) is:', sum(-results['train_score'])/len(results['train_score']))\n",
    "print('cross val testing root mean squared error (RMSE) is:', sum(-results['test_score'])/len(results['test_score']))"
   ]
  },
  {
   "cell_type": "markdown",
   "metadata": {},
   "source": [
    "XGBOOST"
   ]
  },
  {
   "cell_type": "code",
   "execution_count": 112,
   "metadata": {},
   "outputs": [
    {
     "name": "stdout",
     "output_type": "stream",
     "text": [
      "[17:19:48] WARNING: src/objective/regression_obj.cu:152: reg:linear is now deprecated in favor of reg:squarederror.\n",
      "-54.679361450172465\n",
      "{'colsample_bytree': 0.8, 'gamma': 0.1, 'learning_rate': 0.01, 'max_depth': 10, 'min_child_weight': 5, 'n_estimators': 700, 'subsample': 0.6}\n"
     ]
    }
   ],
   "source": [
    "\n",
    "xgb = XGBRegressor(random_state = 6)\n",
    "\n",
    "param_grid = { \"n_estimators\" : [200,400,700],\n",
    "            \"max_depth\": [1,5,10,15],\n",
    "            \"min_child_weight\": [1,5,10],\n",
    "            \"gamma\": [10,1,0.1,0.01],\n",
    "            \"subsample\": [0.4,0.6,0.8],\n",
    "            \"colsample_bytree\": [0.4,0.6,0.8],\n",
    "            \"learning_rate\": [0.01,0.1]}\n",
    "\n",
    "\n",
    "gs = GridSearchCV(estimator=xgb, param_grid=param_grid, scoring='neg_root_mean_squared_error', cv=5, n_jobs=-1)\n",
    "\n",
    "gs = gs.fit(x_list, y_list)\n",
    "print(gs.best_score_)\n",
    "print(gs.best_params_)"
   ]
  },
  {
   "cell_type": "code",
   "execution_count": 113,
   "metadata": {},
   "outputs": [
    {
     "name": "stdout",
     "output_type": "stream",
     "text": [
      "[17:22:19] WARNING: src/objective/regression_obj.cu:152: reg:linear is now deprecated in favor of reg:squarederror.\n",
      "-54.69728071631563\n",
      "{'colsample_bytree': 0.8, 'gamma': 0.01, 'learning_rate': 0.01, 'n_estimators': 700, 'subsample': 0.6}\n"
     ]
    }
   ],
   "source": [
    "xgb = XGBRegressor(random_state = 6, max_depth = 10, min_child_weight = 5)\n",
    "\n",
    "param_grid = { \"n_estimators\" : [700,1000,1250],\n",
    "            \"gamma\": [0.01,0.001],\n",
    "            \"subsample\": [0.6,1],\n",
    "            \"colsample_bytree\": [0.8,1],\n",
    "            \"learning_rate\": [0.01,0.001]}\n",
    "\n",
    "\n",
    "gs = GridSearchCV(estimator=xgb, param_grid=param_grid, scoring='neg_root_mean_squared_error', cv=5, n_jobs=-1)\n",
    "\n",
    "gs = gs.fit(x_list, y_list)\n",
    "print(gs.best_score_)\n",
    "print(gs.best_params_)"
   ]
  },
  {
   "cell_type": "code",
   "execution_count": 81,
   "metadata": {},
   "outputs": [
    {
     "name": "stdout",
     "output_type": "stream",
     "text": [
      "[23:43:33] WARNING: src/objective/regression_obj.cu:152: reg:linear is now deprecated in favor of reg:squarederror.\n",
      "-54.68352006110014\n",
      "{'n_estimators': 605}\n"
     ]
    }
   ],
   "source": [
    "xgb = XGBRegressor(random_state = 6, max_depth = 10, min_child_weight = 5, gamma = 0.01,\n",
    "                   learning_rate = 0.01, subsample = 0.6, colsample_bytree = 0.8)\n",
    "\n",
    "param_grid = { \"n_estimators\" : [500,550,575,585,595,600,605,615,625,650]}\n",
    "\n",
    "gs = GridSearchCV(estimator=xgb, param_grid=param_grid, scoring='neg_root_mean_squared_error', cv=5, n_jobs=-1)\n",
    "\n",
    "gs = gs.fit(x_list, y_list)\n",
    "print(gs.best_score_)\n",
    "print(gs.best_params_)"
   ]
  },
  {
   "cell_type": "code",
   "execution_count": 17,
   "metadata": {
    "scrolled": false
   },
   "outputs": [
    {
     "data": {
      "image/png": "[encoded data removed]",
      "text/plain": [
       "<Figure size 432x288 with 1 Axes>"
      ]
     },
     "metadata": {
      "needs_background": "light"
     },
     "output_type": "display_data"
    }
   ],
   "source": [
    "depth_range = range(1,15)\n",
    "\n",
    "train_acc = []\n",
    "test_acc = []\n",
    "cross_val_train =[]\n",
    "cross_val_test =[]\n",
    "\n",
    "for d in depth_range:\n",
    "    xgb = XGBRegressor(random_state = 6, n_estimators = 605, max_depth = d, min_child_weight = 5,\n",
    "                       gamma = 0.01, learning_rate = 0.01, subsample = 0.6, colsample_bytree = 0.8, objective = 'reg:squarederror')\n",
    "    xgb.fit(x_train, y_train.ravel()) \n",
    "    train_acc.append(sqrt(mean_squared_error(xgb.predict(x_train), y_train.ravel())))\n",
    "    test_acc.append(sqrt(mean_squared_error(xgb.predict(x_test), y_test.ravel())))\n",
    "    \n",
    "    results  = cross_validate(xgb, x_list, y_list.ravel(), scoring='neg_root_mean_squared_error', cv=5, return_train_score = True)\n",
    "    cross_val_train.append(-sum(results['train_score'])/len(results['train_score']))\n",
    "    cross_val_test.append(-sum(results['test_score'])/len(results['test_score']))\n",
    "\n",
    "plt.plot(depth_range, cross_val_train, 'bo-', label ='cross val training rmse')\n",
    "plt.plot(depth_range, cross_val_test, 'ro-', label = 'cross val testing rmse')\n",
    "\n",
    "plt.xlabel('Max Depth', fontsize='x-large')\n",
    "plt.ylabel('Root Mean Squared Error', fontsize='x-large')\n",
    "\n",
    "plt.legend(loc='best', shadow=True, fontsize='x-small')\n",
    "plt.show()"
   ]
  },
  {
   "cell_type": "code",
   "execution_count": 92,
   "metadata": {},
   "outputs": [
    {
     "name": "stdout",
     "output_type": "stream",
     "text": [
      "cross val training root mean squared error (RMSE) is: 60.52639494663798\n",
      "cross val testing root mean squared error (RMSE) is: 62.821865860314134\n"
     ]
    }
   ],
   "source": [
    "xgb = XGBRegressor(random_state = 6, n_estimators = 605, max_depth = 2, min_child_weight = 5, gamma = 0.01, learning_rate = 0.01, subsample = 0.6, colsample_bytree = 0.8, objective = 'reg:squarederror')\n",
    "xgb.fit(x_train, y_train.ravel()) \n",
    "results  = cross_validate(xgb, x_list, y_list.ravel(), scoring='neg_root_mean_squared_error', cv=5, return_train_score = True)\n",
    "print('cross val training root mean squared error (RMSE) is:', sum(-results['train_score'])/len(results['train_score']))\n",
    "print('cross val testing root mean squared error (RMSE) is:', sum(-results['test_score'])/len(results['test_score']))"
   ]
  },
  {
   "cell_type": "code",
   "execution_count": 19,
   "metadata": {},
   "outputs": [
    {
     "data": {
      "image/png": "[encoded data removed]",
      "text/plain": [
       "<Figure size 432x288 with 1 Axes>"
      ]
     },
     "metadata": {
      "needs_background": "light"
     },
     "output_type": "display_data"
    }
   ],
   "source": [
    "weight_range = range(1,10)\n",
    "\n",
    "train_acc = []\n",
    "test_acc = []\n",
    "cross_val_train =[]\n",
    "cross_val_test =[]\n",
    "\n",
    "for d in weight_range:\n",
    "    xgb = XGBRegressor(random_state = 6, n_estimators = 605, max_depth = 2 , min_child_weight = d, gamma = 0.01,\n",
    "                       learning_rate = 0.01, subsample = 0.6, colsample_bytree = 0.8, objective = 'reg:squarederror')\n",
    "    xgb.fit(x_train, y_train.ravel()) \n",
    "    train_acc.append(sqrt(mean_squared_error(xgb.predict(x_train), y_train.ravel())))\n",
    "    test_acc.append(sqrt(mean_squared_error(xgb.predict(x_test), y_test.ravel())))\n",
    "    \n",
    "    results  = cross_validate(xgb, x_list, y_list.ravel(), scoring='neg_root_mean_squared_error', cv=5, return_train_score = True)\n",
    "    cross_val_train.append(-sum(results['train_score'])/len(results['train_score']))\n",
    "    cross_val_test.append(-sum(results['test_score'])/len(results['test_score']))\n",
    "\n",
    "plt.plot(weight_range, cross_val_train, 'bo-', label ='cross val training rmse')\n",
    "plt.plot(weight_range, cross_val_test, 'ro-', label = 'cross val testing rmse')\n",
    "\n",
    "plt.xlabel('Min Child Weight', fontsize='x-large')\n",
    "plt.ylabel('Root Mean Squared Error', fontsize='x-large')\n",
    "\n",
    "plt.legend(loc='best', shadow=True, fontsize='x-large')\n",
    "plt.show()"
   ]
  },
  {
   "cell_type": "code",
   "execution_count": 22,
   "metadata": {
    "scrolled": true
   },
   "outputs": [
    {
     "data": {
      "image/png": "[encoded data removed]",
      "text/plain": [
       "<Figure size 432x288 with 1 Axes>"
      ]
     },
     "metadata": {
      "needs_background": "light"
     },
     "output_type": "display_data"
    }
   ],
   "source": [
    "gamma_range = np.arange(0.006,0.015,0.001)\n",
    "\n",
    "train_acc = []\n",
    "test_acc = []\n",
    "cross_val_train =[]\n",
    "cross_val_test =[]\n",
    "\n",
    "for d in gamma_range:\n",
    "    xgb = XGBRegressor(random_state = 6, n_estimators = 605, max_depth = 2 , min_child_weight = 5, gamma = d,\n",
    "                       learning_rate = 0.01, subsample = 0.6, colsample_bytree = 0.8, objective = 'reg:squarederror')\n",
    "    xgb.fit(x_train, y_train.ravel()) \n",
    "    train_acc.append(sqrt(mean_squared_error(xgb.predict(x_train), y_train.ravel())))\n",
    "    test_acc.append(sqrt(mean_squared_error(xgb.predict(x_test), y_test.ravel())))\n",
    "    \n",
    "    results  = cross_validate(xgb, x_list, y_list.ravel(), scoring='neg_root_mean_squared_error', cv=5, return_train_score = True)\n",
    "    cross_val_train.append(-sum(results['train_score'])/len(results['train_score']))\n",
    "    cross_val_test.append(-sum(results['test_score'])/len(results['test_score']))\n",
    "\n",
    "plt.plot(gamma_range, cross_val_train, 'bo-', label ='cross val training rmse')\n",
    "plt.plot(gamma_range, cross_val_test, 'ro-', label = 'cross val testing rmse')\n",
    "\n",
    "plt.xlabel('Gamma', fontsize='x-large')\n",
    "plt.ylabel('Root Mean Squared Error', fontsize='x-large')\n",
    "\n",
    "plt.legend(loc='best', shadow=True, fontsize='x-large')\n",
    "plt.show()"
   ]
  },
  {
   "cell_type": "code",
   "execution_count": 17,
   "metadata": {
    "scrolled": false
   },
   "outputs": [
    {
     "data": {
      "image/png": "[encoded data removed]",
      "text/plain": [
       "<Figure size 432x288 with 1 Axes>"
      ]
     },
     "metadata": {
      "needs_background": "light"
     },
     "output_type": "display_data"
    }
   ],
   "source": [
    "learning_range = np.arange(0.006,0.017,0.001)\n",
    "\n",
    "train_acc = []\n",
    "test_acc = []\n",
    "cross_val_train =[]\n",
    "cross_val_test =[]\n",
    "\n",
    "for d in learning_range:\n",
    "    xgb = XGBRegressor(random_state = 6, n_estimators = 605 ,max_depth = 2, min_child_weight = 5,gamma = 0.01,\n",
    "                       learning_rate = d, subsample = 0.6, colsample_bytree = 0.8, objective = 'reg:squarederror')\n",
    "    xgb.fit(x_train, y_train.ravel()) \n",
    "    train_acc.append(sqrt(mean_squared_error(xgb.predict(x_train), y_train.ravel())))\n",
    "    test_acc.append(sqrt(mean_squared_error(xgb.predict(x_test), y_test.ravel())))\n",
    "    \n",
    "    results  = cross_validate(xgb, x_list, y_list.ravel(), scoring='neg_root_mean_squared_error', cv=5, return_train_score = True)\n",
    "    cross_val_train.append(-sum(results['train_score'])/len(results['train_score']))\n",
    "    cross_val_test.append(-sum(results['test_score'])/len(results['test_score']))\n",
    "\n",
    "plt.plot(learning_range, cross_val_train, 'bo-', label ='cross val training rmse')\n",
    "plt.plot(learning_range, cross_val_test, 'ro-', label = 'cross val testing rmse')\n",
    "\n",
    "plt.xlabel('Learning range', fontsize='x-large')\n",
    "plt.ylabel('Root Mean Squared Error', fontsize='x-large')\n",
    "\n",
    "plt.legend(loc='best', shadow=True, fontsize='x-large')\n",
    "plt.show()"
   ]
  },
  {
   "cell_type": "code",
   "execution_count": 114,
   "metadata": {},
   "outputs": [
    {
     "name": "stdout",
     "output_type": "stream",
     "text": [
      "cross val training root mean squared error (RMSE) is: 58.39549366643956\n",
      "cross val testing root mean squared error (RMSE) is: 61.34415218914505\n"
     ]
    }
   ],
   "source": [
    "xgb = XGBRegressor(random_state = 6, n_estimators = 605, max_depth = 2, min_child_weight = 5, gamma = 0.01, learning_rate = 0.016, subsample = 0.6, colsample_bytree = 0.8, objective = 'reg:squarederror')\n",
    "xgb.fit(x_train, y_train.ravel()) \n",
    "results  = cross_validate(xgb, x_list, y_list.ravel(), scoring='neg_root_mean_squared_error', cv=5, return_train_score = True)\n",
    "print('cross val training root mean squared error (RMSE) is:', sum(-results['train_score'])/len(results['train_score']))\n",
    "print('cross val testing root mean squared error (RMSE) is:', sum(-results['test_score'])/len(results['test_score']))"
   ]
  },
  {
   "cell_type": "code",
   "execution_count": 26,
   "metadata": {},
   "outputs": [
    {
     "data": {
      "image/png": "[encoded data removed]",
      "text/plain": [
       "<Figure size 432x288 with 1 Axes>"
      ]
     },
     "metadata": {
      "needs_background": "light"
     },
     "output_type": "display_data"
    }
   ],
   "source": [
    "subsample_range = np.arange(0.5,0.71,0.05)\n",
    "\n",
    "train_acc = []\n",
    "test_acc = []\n",
    "cross_val_train =[]\n",
    "cross_val_test =[]\n",
    "\n",
    "for d in subsample_range:\n",
    "    xgb = XGBRegressor(random_state = 6, n_estimators = 605, max_depth = 2 , min_child_weight = 5, gamma = 0.01,\n",
    "                       learning_rate = 0.016, subsample = d, colsample_bytree = 0.8, objective = 'reg:squarederror')\n",
    "    xgb.fit(x_train, y_train.ravel()) \n",
    "    train_acc.append(sqrt(mean_squared_error(xgb.predict(x_train), y_train.ravel())))\n",
    "    test_acc.append(sqrt(mean_squared_error(xgb.predict(x_test), y_test.ravel())))\n",
    "    \n",
    "    results  = cross_validate(xgb, x_list, y_list.ravel(), scoring='neg_root_mean_squared_error', cv=5, return_train_score = True)\n",
    "    cross_val_train.append(-sum(results['train_score'])/len(results['train_score']))\n",
    "    cross_val_test.append(-sum(results['test_score'])/len(results['test_score']))\n",
    "\n",
    "plt.plot(subsample_range, cross_val_train, 'bo-', label ='cross val training rmse')\n",
    "plt.plot(subsample_range, cross_val_test, 'ro-', label = 'cross val testing rmse')\n",
    "\n",
    "plt.xlabel('Subsample range', fontsize='x-large')\n",
    "plt.ylabel('Root Mean Squared Error', fontsize='x-large')\n",
    "\n",
    "plt.legend(loc='best', shadow=True, fontsize='x-large')\n",
    "plt.show()"
   ]
  },
  {
   "cell_type": "code",
   "execution_count": 28,
   "metadata": {
    "scrolled": true
   },
   "outputs": [
    {
     "data": {
      "image/png": "[encoded data removed]",
      "text/plain": [
       "<Figure size 432x288 with 1 Axes>"
      ]
     },
     "metadata": {
      "needs_background": "light"
     },
     "output_type": "display_data"
    }
   ],
   "source": [
    "colsample_range = np.arange(0.7,0.91,0.05)\n",
    "\n",
    "train_acc = []\n",
    "test_acc = []\n",
    "cross_val_train =[]\n",
    "cross_val_test =[]\n",
    "\n",
    "for d in colsample_range:\n",
    "    xgb = XGBRegressor(random_state = 6, n_estimators = 605, max_depth = 2 , min_child_weight = 5, gamma = 0.01,\n",
    "                       learning_rate = 0.016, subsample = 0.6, colsample_bytree = d, objective = 'reg:squarederror')\n",
    "    xgb.fit(x_train, y_train.ravel()) \n",
    "    train_acc.append(sqrt(mean_squared_error(xgb.predict(x_train), y_train.ravel())))\n",
    "    test_acc.append(sqrt(mean_squared_error(xgb.predict(x_test), y_test.ravel())))\n",
    "    \n",
    "    results  = cross_validate(xgb, x_list, y_list.ravel(), scoring='neg_root_mean_squared_error', cv=5, return_train_score = True)\n",
    "    cross_val_train.append(-sum(results['train_score'])/len(results['train_score']))\n",
    "    cross_val_test.append(-sum(results['test_score'])/len(results['test_score']))\n",
    "\n",
    "plt.plot(colsample_range, cross_val_train, 'bo-', label ='cross val training rmse')\n",
    "plt.plot(colsample_range, cross_val_test, 'ro-', label = 'cross val testing rmse')\n",
    "\n",
    "plt.xlabel('Colsample range', fontsize='x-large')\n",
    "plt.ylabel('Root Mean Squared Error', fontsize='x-large')\n",
    "\n",
    "plt.legend(loc='best', shadow=True, fontsize='x-large')\n",
    "plt.show()"
   ]
  },
  {
   "cell_type": "code",
   "execution_count": 19,
   "metadata": {
    "scrolled": true
   },
   "outputs": [
    {
     "data": {
      "image/png": "[encoded data removed]",
      "text/plain": [
       "<Figure size 432x288 with 1 Axes>"
      ]
     },
     "metadata": {
      "needs_background": "light"
     },
     "output_type": "display_data"
    }
   ],
   "source": [
    "n_range = range(585,616)\n",
    "\n",
    "train_acc = []\n",
    "test_acc = []\n",
    "cross_val_train =[]\n",
    "cross_val_test =[]\n",
    "\n",
    "for d in n_range:\n",
    "    xgb = XGBRegressor(random_state = 6, n_estimators = d, max_depth = 2 , min_child_weight = 5, gamma = 0.01,\n",
    "                       learning_rate = 0.016, subsample = 0.6, colsample_bytree = 0.7, objective = 'reg:squarederror')\n",
    "    xgb.fit(x_train, y_train.ravel()) \n",
    "    train_acc.append(sqrt(mean_squared_error(xgb.predict(x_train), y_train.ravel())))\n",
    "    test_acc.append(sqrt(mean_squared_error(xgb.predict(x_test), y_test.ravel())))\n",
    "    \n",
    "    results  = cross_validate(xgb, x_list, y_list.ravel(), scoring='neg_root_mean_squared_error', cv=5, return_train_score = True)\n",
    "    cross_val_train.append(-sum(results['train_score'])/len(results['train_score']))\n",
    "    cross_val_test.append(-sum(results['test_score'])/len(results['test_score']))\n",
    "\n",
    "plt.plot(n_range, cross_val_train, 'bo-', label ='cross val training rmse')\n",
    "plt.plot(n_range, cross_val_test, 'ro-', label = 'cross val testing rmse')\n",
    "\n",
    "plt.xlabel('n_estimators', fontsize='x-large')\n",
    "plt.ylabel('Root Mean Squared Error', fontsize='x-large')\n",
    "\n",
    "plt.legend(loc='best', shadow=True, fontsize='x-large')\n",
    "plt.show()"
   ]
  },
  {
   "cell_type": "code",
   "execution_count": 117,
   "metadata": {
    "scrolled": true
   },
   "outputs": [
    {
     "name": "stdout",
     "output_type": "stream",
     "text": [
      "cross val training root mean squared error (RMSE) is: 58.42615140315477\n",
      "cross val testing root mean squared error (RMSE) is: 61.29473937295906\n"
     ]
    }
   ],
   "source": [
    "xgb = XGBRegressor(random_state = 6, n_estimators = 605, max_depth = 2, min_child_weight = 5, gamma = 0.01,\n",
    "                   learning_rate = 0.016, subsample = 0.6, colsample_bytree = 0.7, objective = 'reg:squarederror')\n",
    "xgb.fit(x_train, y_train.ravel()) \n",
    "results  = cross_validate(xgb, x_list, y_list.ravel(), scoring='neg_root_mean_squared_error', cv=5, return_train_score = True)\n",
    "print('cross val training root mean squared error (RMSE) is:', sum(-results['train_score'])/len(results['train_score']))\n",
    "print('cross val testing root mean squared error (RMSE) is:', sum(-results['test_score'])/len(results['test_score']))"
   ]
  },
  {
   "cell_type": "markdown",
   "metadata": {},
   "source": [
    "Scaling"
   ]
  },
  {
   "cell_type": "code",
   "execution_count": 20,
   "metadata": {
    "scrolled": false
   },
   "outputs": [
    {
     "data": {
      "text/html": [
       "<div>\n",
       "<style scoped>\n",
       "    .dataframe tbody tr th:only-of-type {\n",
       "        vertical-align: middle;\n",
       "    }\n",
       "\n",
       "    .dataframe tbody tr th {\n",
       "        vertical-align: top;\n",
       "    }\n",
       "\n",
       "    .dataframe thead th {\n",
       "        text-align: right;\n",
       "    }\n",
       "</style>\n",
       "<table border=\"1\" class=\"dataframe\">\n",
       "  <thead>\n",
       "    <tr style=\"text-align: right;\">\n",
       "      <th></th>\n",
       "      <th>neighbourhood</th>\n",
       "      <th>latitude</th>\n",
       "      <th>longitude</th>\n",
       "      <th>room_type</th>\n",
       "      <th>price</th>\n",
       "      <th>minimum_nights</th>\n",
       "      <th>number_of_reviews</th>\n",
       "      <th>last_review</th>\n",
       "      <th>reviews_per_month</th>\n",
       "      <th>calculated_host_listings_count</th>\n",
       "      <th>availability_365</th>\n",
       "    </tr>\n",
       "  </thead>\n",
       "  <tbody>\n",
       "    <tr>\n",
       "      <th>0</th>\n",
       "      <td>7</td>\n",
       "      <td>1.33235</td>\n",
       "      <td>103.78521</td>\n",
       "      <td>2</td>\n",
       "      <td>81</td>\n",
       "      <td>2.0</td>\n",
       "      <td>18</td>\n",
       "      <td>1</td>\n",
       "      <td>0.28</td>\n",
       "      <td>1</td>\n",
       "      <td>365</td>\n",
       "    </tr>\n",
       "    <tr>\n",
       "      <th>1</th>\n",
       "      <td>14</td>\n",
       "      <td>1.28875</td>\n",
       "      <td>103.80814</td>\n",
       "      <td>2</td>\n",
       "      <td>44</td>\n",
       "      <td>15.0</td>\n",
       "      <td>18</td>\n",
       "      <td>1</td>\n",
       "      <td>0.23</td>\n",
       "      <td>32</td>\n",
       "      <td>331</td>\n",
       "    </tr>\n",
       "    <tr>\n",
       "      <th>2</th>\n",
       "      <td>14</td>\n",
       "      <td>1.28837</td>\n",
       "      <td>103.81099</td>\n",
       "      <td>2</td>\n",
       "      <td>40</td>\n",
       "      <td>2.0</td>\n",
       "      <td>10</td>\n",
       "      <td>1</td>\n",
       "      <td>0.11</td>\n",
       "      <td>32</td>\n",
       "      <td>276</td>\n",
       "    </tr>\n",
       "    <tr>\n",
       "      <th>3</th>\n",
       "      <td>6</td>\n",
       "      <td>1.31125</td>\n",
       "      <td>103.83816</td>\n",
       "      <td>2</td>\n",
       "      <td>65</td>\n",
       "      <td>2.0</td>\n",
       "      <td>125</td>\n",
       "      <td>1</td>\n",
       "      <td>1.35</td>\n",
       "      <td>6</td>\n",
       "      <td>336</td>\n",
       "    </tr>\n",
       "    <tr>\n",
       "      <th>4</th>\n",
       "      <td>14</td>\n",
       "      <td>1.28976</td>\n",
       "      <td>103.80896</td>\n",
       "      <td>2</td>\n",
       "      <td>44</td>\n",
       "      <td>2.0</td>\n",
       "      <td>13</td>\n",
       "      <td>1</td>\n",
       "      <td>0.15</td>\n",
       "      <td>32</td>\n",
       "      <td>340</td>\n",
       "    </tr>\n",
       "  </tbody>\n",
       "</table>\n",
       "</div>"
      ],
      "text/plain": [
       "   neighbourhood  latitude  longitude  room_type  price  minimum_nights  \\\n",
       "0              7   1.33235  103.78521          2     81             2.0   \n",
       "1             14   1.28875  103.80814          2     44            15.0   \n",
       "2             14   1.28837  103.81099          2     40             2.0   \n",
       "3              6   1.31125  103.83816          2     65             2.0   \n",
       "4             14   1.28976  103.80896          2     44             2.0   \n",
       "\n",
       "   number_of_reviews  last_review  reviews_per_month  \\\n",
       "0                 18            1               0.28   \n",
       "1                 18            1               0.23   \n",
       "2                 10            1               0.11   \n",
       "3                125            1               1.35   \n",
       "4                 13            1               0.15   \n",
       "\n",
       "   calculated_host_listings_count  availability_365  \n",
       "0                               1               365  \n",
       "1                              32               331  \n",
       "2                              32               276  \n",
       "3                               6               336  \n",
       "4                              32               340  "
      ]
     },
     "execution_count": 20,
     "metadata": {},
     "output_type": "execute_result"
    }
   ],
   "source": [
    "# Load dataset into a DataFrame\n",
    "df = pd.read_csv('listings_new.csv')\n",
    "\n",
    "# Create a copy of the DataFrame\n",
    "df_scaled_list = df.copy()\n",
    "\n",
    "# Show overview of the dataset\n",
    "df_scaled_list.head()"
   ]
  },
  {
   "cell_type": "code",
   "execution_count": 31,
   "metadata": {},
   "outputs": [],
   "source": [
    "df_scaled_list[\"neighbourhood\"] = (df_scaled_list[\"neighbourhood\"] - df_scaled_list[\"neighbourhood\"].min()) / (df_scaled_list[\"neighbourhood\"].max()-df_scaled_list[\"neighbourhood\"].min())\n",
    "df_scaled_list[\"latitude\"] = (df_scaled_list[\"latitude\"] - df_scaled_list[\"latitude\"].min()) / (df_scaled_list[\"latitude\"].max()-df_scaled_list[\"latitude\"].min())\n",
    "df_scaled_list[\"longitude\"] = (df_scaled_list[\"longitude\"] - df_scaled_list[\"longitude\"].min()) / (df_scaled_list[\"longitude\"].max()-df_scaled_list[\"longitude\"].min())\n",
    "df_scaled_list[\"room_type\"] = (df_scaled_list[\"room_type\"] - df_scaled_list[\"room_type\"].min()) / (df_scaled_list[\"room_type\"].max()-df_scaled_list[\"room_type\"].min())\n",
    "df_scaled_list[\"minimum_nights\"] = (df_scaled_list[\"minimum_nights\"] - df_scaled_list[\"minimum_nights\"].min()) / (df_scaled_list[\"minimum_nights\"].max()-df_scaled_list[\"minimum_nights\"].min())\n",
    "df_scaled_list[\"number_of_reviews\"] = (df_scaled_list[\"number_of_reviews\"] - df_scaled_list[\"number_of_reviews\"].min()) / (df_scaled_list[\"number_of_reviews\"].max()-df_scaled_list[\"number_of_reviews\"].min())\n",
    "df_scaled_list[\"reviews_per_month\"] = (df_scaled_list[\"reviews_per_month\"] - df_scaled_list[\"reviews_per_month\"].min()) / (df_scaled_list[\"reviews_per_month\"].max()-df_scaled_list[\"reviews_per_month\"].min())\n",
    "df_scaled_list[\"calculated_host_listings_count\"] = (df_scaled_list[\"calculated_host_listings_count\"]\n",
    "                                                    - df_scaled_list[\"calculated_host_listings_count\"].min()) / (df_scaled_list[\"calculated_host_listings_count\"].max()\n",
    "                                                                                                                 -df_scaled_list[\"calculated_host_listings_count\"].min())\n",
    "df_scaled_list[\"availability_365\"] = (df_scaled_list[\"availability_365\"] - df_scaled_list[\"availability_365\"].min()) / (df_scaled_list[\"availability_365\"].max()-df_scaled_list[\"availability_365\"].min())\n",
    "\n",
    "y_scaled_list = df_scaled_list['price']\n",
    "x_scaled_list = df_scaled_list.drop(['price'], axis = 1)\n",
    "\n",
    "x_scaled_train, x_scaled_test, y_scaled_train, y_scaled_test = train_test_split(x_scaled_list, y_scaled_list, test_size=0.33, random_state=6)\n",
    "#test data"
   ]
  },
  {
   "cell_type": "code",
   "execution_count": 94,
   "metadata": {},
   "outputs": [
    {
     "name": "stdout",
     "output_type": "stream",
     "text": [
      "cross val training root mean squared error (RMSE) is: 58.42496523830495\n",
      "cross val testing root mean squared error (RMSE) is: 61.293259231792376\n"
     ]
    }
   ],
   "source": [
    "xgb = XGBRegressor(random_state = 6, n_estimators = 605, max_depth = 2, min_child_weight = 5, gamma = 0.01, learning_rate = 0.016, subsample = 0.6, colsample_bytree = 0.7, objective = 'reg:squarederror')\n",
    "xgb.fit(x_scaled_train, y_scaled_train.ravel()) \n",
    "results  = cross_validate(xgb, x_scaled_list, y_scaled_list.ravel(), scoring='neg_root_mean_squared_error', cv=5, return_train_score = True)\n",
    "print('cross val training root mean squared error (RMSE) is:', sum(-results['train_score'])/len(results['train_score']))\n",
    "print('cross val testing root mean squared error (RMSE) is:', sum(-results['test_score'])/len(results['test_score']))"
   ]
  },
  {
   "cell_type": "code",
   "execution_count": 95,
   "metadata": {},
   "outputs": [
    {
     "name": "stdout",
     "output_type": "stream",
     "text": [
      "train_score:  [-59.17004578 -58.29223778 -57.99243611 -57.53313031 -57.7738465 ]\n",
      "test_score:  [-55.84544261 -61.75199573 -61.80141066 -64.61443343 -63.91795009]\n",
      "cross val training root mean squared error (RMSE) is: 58.15233929490292\n",
      "cross val testing root mean squared error (RMSE) is: 61.58624650534485\n"
     ]
    }
   ],
   "source": [
    "# Create Random Forest Model\n",
    "rf_reg = RandomForestRegressor(random_state = 6, n_jobs=-1, max_features = 'log2', min_samples_split = 5, min_samples_leaf = 64, max_depth = 25, n_estimators = 950)\n",
    "# Y_train is a 1D array, use ravel() to change the shape of Y_train to (n_samples,) before feed it into fit function\n",
    "rf_reg.fit(x_scaled_train, y_scaled_train.ravel()) \n",
    "results  = (cross_validate(rf_reg, x_scaled_list, y_scaled_list.ravel(), scoring='neg_root_mean_squared_error', cv=5, return_train_score = True))\n",
    "print('train_score: ', results['train_score'])\n",
    "print('test_score: ', results['test_score'])\n",
    "print('cross val training root mean squared error (RMSE) is:', sum(-results['train_score'])/len(results['train_score']))\n",
    "print('cross val testing root mean squared error (RMSE) is:', sum(-results['test_score'])/len(results['test_score']))"
   ]
  },
  {
   "cell_type": "markdown",
   "metadata": {},
   "source": [
    "ANN\n",
    "1. The number of hidden neurons should be between the size of the input layer and the size of the output layer.\n",
    "\n",
    "2. The number of hidden neurons should be 2/3 the size of the input layer, plus the size of the output layer.\n",
    "\n",
    "3. The number of hidden neurons should be less than twice the size of the input layer.\n"
   ]
  },
  {
   "cell_type": "code",
   "execution_count": 190,
   "metadata": {
    "scrolled": true
   },
   "outputs": [
    {
     "name": "stderr",
     "output_type": "stream",
     "text": [
      "F:\\school\\anaconda\\envs\\myenv\\lib\\site-packages\\sklearn\\neural_network\\_multilayer_perceptron.py:585: ConvergenceWarning: Stochastic Optimizer: Maximum iterations (200) reached and the optimization hasn't converged yet.\n",
      "  % self.max_iter, ConvergenceWarning)\n"
     ]
    },
    {
     "data": {
      "text/plain": [
       "MLPRegressor(random_state=6)"
      ]
     },
     "execution_count": 190,
     "metadata": {},
     "output_type": "execute_result"
    }
   ],
   "source": [
    "mlp = MLPRegressor(random_state =6)\n",
    "mlp.fit(x_scaled_train,y_scaled_train.ravel())"
   ]
  },
  {
   "cell_type": "code",
   "execution_count": 191,
   "metadata": {
    "scrolled": false
   },
   "outputs": [
    {
     "name": "stderr",
     "output_type": "stream",
     "text": [
      "F:\\school\\anaconda\\envs\\myenv\\lib\\site-packages\\sklearn\\neural_network\\_multilayer_perceptron.py:585: ConvergenceWarning: Stochastic Optimizer: Maximum iterations (200) reached and the optimization hasn't converged yet.\n",
      "  % self.max_iter, ConvergenceWarning)\n",
      "F:\\school\\anaconda\\envs\\myenv\\lib\\site-packages\\sklearn\\neural_network\\_multilayer_perceptron.py:585: ConvergenceWarning: Stochastic Optimizer: Maximum iterations (200) reached and the optimization hasn't converged yet.\n",
      "  % self.max_iter, ConvergenceWarning)\n",
      "F:\\school\\anaconda\\envs\\myenv\\lib\\site-packages\\sklearn\\neural_network\\_multilayer_perceptron.py:585: ConvergenceWarning: Stochastic Optimizer: Maximum iterations (200) reached and the optimization hasn't converged yet.\n",
      "  % self.max_iter, ConvergenceWarning)\n",
      "F:\\school\\anaconda\\envs\\myenv\\lib\\site-packages\\sklearn\\neural_network\\_multilayer_perceptron.py:585: ConvergenceWarning: Stochastic Optimizer: Maximum iterations (200) reached and the optimization hasn't converged yet.\n",
      "  % self.max_iter, ConvergenceWarning)\n"
     ]
    },
    {
     "name": "stdout",
     "output_type": "stream",
     "text": [
      "train_score:  [-67.07410834 -66.37183822 -65.51430329 -64.72581086 -65.20435275]\n",
      "test_score:  [-61.03418791 -63.81891127 -67.05481559 -71.20087212 -68.74035743]\n",
      "cross val training root mean squared error (RMSE) is: 65.77808269426974\n",
      "cross val testing root mean squared error (RMSE) is: 66.36982886428933\n"
     ]
    },
    {
     "name": "stderr",
     "output_type": "stream",
     "text": [
      "F:\\school\\anaconda\\envs\\myenv\\lib\\site-packages\\sklearn\\neural_network\\_multilayer_perceptron.py:585: ConvergenceWarning: Stochastic Optimizer: Maximum iterations (200) reached and the optimization hasn't converged yet.\n",
      "  % self.max_iter, ConvergenceWarning)\n"
     ]
    }
   ],
   "source": [
    "# Evaluate the Model using K-folds Cross validation\n",
    "results  = (cross_validate(mlp, x_scaled_list, y_scaled_list.ravel(), scoring='neg_root_mean_squared_error', cv=5, return_train_score = True))\n",
    "print('train_score: ', results['train_score'])\n",
    "print('test_score: ', results['test_score'])\n",
    "print('cross val training root mean squared error (RMSE) is:', sum(-results['train_score'])/len(results['train_score']))\n",
    "print('cross val testing root mean squared error (RMSE) is:', sum(-results['test_score'])/len(results['test_score']))"
   ]
  },
  {
   "cell_type": "markdown",
   "metadata": {},
   "source": [
    "SVM"
   ]
  },
  {
   "cell_type": "code",
   "execution_count": 222,
   "metadata": {
    "scrolled": true
   },
   "outputs": [
    {
     "name": "stdout",
     "output_type": "stream",
     "text": [
      "train_score:  [-71.12843927 -70.00197491 -69.84822406 -68.64577718 -68.9850575 ]\n",
      "test_score:  [-61.6222284  -67.78585363 -73.08390845 -73.12715125 -76.23853057]\n",
      "cross val training root mean squared error (RMSE) is: 69.7218945844784\n",
      "cross val testing root mean squared error (RMSE) is: 70.37153446111486\n"
     ]
    }
   ],
   "source": [
    "svr = SVR()\n",
    "svr.fit(x_scaled_train,y_scaled_train.ravel())\n",
    "results  = (cross_validate(svr, x_scaled_list, y_scaled_list.ravel(), scoring='neg_root_mean_squared_error', cv=5, return_train_score = True))\n",
    "print('train_score: ', results['train_score'])\n",
    "print('test_score: ', results['test_score'])\n",
    "print('cross val training root mean squared error (RMSE) is:', sum(-results['train_score'])/len(results['train_score']))\n",
    "print('cross val testing root mean squared error (RMSE) is:', sum(-results['test_score'])/len(results['test_score']))"
   ]
  },
  {
   "cell_type": "code",
   "execution_count": 145,
   "metadata": {},
   "outputs": [
    {
     "name": "stdout",
     "output_type": "stream",
     "text": [
      "-63.68808185436524\n",
      "{'C': 1000, 'epsilon': 2, 'kernel': 'rbf'}\n"
     ]
    }
   ],
   "source": [
    "svr = SVR()\n",
    "\n",
    "param_grid = { \"C\" : [1,10,100,1000],\n",
    "              \"kernel\": ['rbf','poly','sigmoid'],\n",
    "              \"epsilon\": [0.01,0.1,0.5,1,2]}\n",
    "\n",
    "\n",
    "gs = GridSearchCV(estimator=svr, param_grid=param_grid, scoring='neg_root_mean_squared_error', cv=5, n_jobs=-1)\n",
    "\n",
    "gs = gs.fit(x_scaled_list, y_scaled_list)\n",
    "print(gs.best_score_)\n",
    "print(gs.best_params_)"
   ]
  },
  {
   "cell_type": "code",
   "execution_count": 34,
   "metadata": {},
   "outputs": [
    {
     "name": "stdout",
     "output_type": "stream",
     "text": [
      "-62.81965155090334\n",
      "{'C': 1000, 'epsilon': 8, 'gamma': 1}\n"
     ]
    }
   ],
   "source": [
    "svr = SVR(kernel = 'rbf')\n",
    "\n",
    "param_grid = { \"C\" : [700,1000,1300],\n",
    "              'epsilon': [2,4,6,8],\n",
    "              'gamma': [1000,100,10,1,0.1,0.01,0.001,0.0001,'scale','auto']}\n",
    "\n",
    "\n",
    "gs = GridSearchCV(estimator=svr, param_grid=param_grid, scoring='neg_root_mean_squared_error', cv=5, n_jobs=-1)\n",
    "\n",
    "gs = gs.fit(x_scaled_list, y_scaled_list)\n",
    "print(gs.best_score_)\n",
    "print(gs.best_params_)"
   ]
  },
  {
   "cell_type": "code",
   "execution_count": 224,
   "metadata": {},
   "outputs": [
    {
     "name": "stdout",
     "output_type": "stream",
     "text": [
      "-61.68482330667848\n",
      "{'C': 850, 'epsilon': 20, 'gamma': 3}\n"
     ]
    }
   ],
   "source": [
    "svr = SVR(kernel = 'rbf')\n",
    "\n",
    "param_grid = { \"C\" : [850,900,950,1000,1050,1100,1150],\n",
    "              'epsilon': [8,10,15,20],\n",
    "              'gamma': [0.5,1,3,5,7]}\n",
    "\n",
    "\n",
    "gs = GridSearchCV(estimator=svr, param_grid=param_grid, scoring='neg_root_mean_squared_error', cv=5, n_jobs=-1)\n",
    "\n",
    "gs = gs.fit(x_scaled_list, y_scaled_list)\n",
    "print(gs.best_score_)\n",
    "print(gs.best_params_)"
   ]
  },
  {
   "cell_type": "code",
   "execution_count": 17,
   "metadata": {},
   "outputs": [
    {
     "name": "stdout",
     "output_type": "stream",
     "text": [
      "-61.061422720896964\n",
      "{'C': 700, 'epsilon': 26}\n"
     ]
    }
   ],
   "source": [
    "svr = SVR(kernel = 'rbf', gamma = 3)\n",
    "\n",
    "param_grid = { \"C\" : [700,750,800,850,900,950],\n",
    "              'epsilon': [18,20,23,26]}\n",
    "\n",
    "\n",
    "gs = GridSearchCV(estimator=svr, param_grid=param_grid, scoring='neg_root_mean_squared_error', cv=5, n_jobs=-1)\n",
    "\n",
    "gs = gs.fit(x_scaled_list, y_scaled_list)\n",
    "print(gs.best_score_)\n",
    "print(gs.best_params_)"
   ]
  },
  {
   "cell_type": "code",
   "execution_count": 19,
   "metadata": {},
   "outputs": [
    {
     "name": "stdout",
     "output_type": "stream",
     "text": [
      "-60.2713457483557\n",
      "{'C': 200, 'epsilon': 34}\n"
     ]
    }
   ],
   "source": [
    "svr = SVR(kernel = 'rbf', gamma = 3)\n",
    "\n",
    "param_grid = { \"C\" : [200,250,300,350,400,450,500,550,600,650,700],\n",
    "              'epsilon': [26,30,34,38]}\n",
    "\n",
    "\n",
    "gs = GridSearchCV(estimator=svr, param_grid=param_grid, scoring='neg_root_mean_squared_error', cv=5, n_jobs=-1)\n",
    "\n",
    "gs = gs.fit(x_scaled_list, y_scaled_list)\n",
    "print(gs.best_score_)\n",
    "print(gs.best_params_)"
   ]
  },
  {
   "cell_type": "code",
   "execution_count": 20,
   "metadata": {},
   "outputs": [
    {
     "name": "stdout",
     "output_type": "stream",
     "text": [
      "-60.2713457483557\n",
      "{'C': 200}\n"
     ]
    }
   ],
   "source": [
    "svr = SVR(kernel = 'rbf', gamma = 3, epsilon = 34)\n",
    "\n",
    "param_grid = { \"C\" : [170,180,190,200,210,220,230]}\n",
    "\n",
    "\n",
    "gs = GridSearchCV(estimator=svr, param_grid=param_grid, scoring='neg_root_mean_squared_error', cv=5, n_jobs=-1)\n",
    "\n",
    "gs = gs.fit(x_scaled_list, y_scaled_list)\n",
    "print(gs.best_score_)\n",
    "print(gs.best_params_)"
   ]
  },
  {
   "cell_type": "code",
   "execution_count": 42,
   "metadata": {
    "scrolled": true
   },
   "outputs": [
    {
     "data": {
      "image/png": "[encoded data removed]",
      "text/plain": [
       "<Figure size 432x288 with 1 Axes>"
      ]
     },
     "metadata": {
      "needs_background": "light"
     },
     "output_type": "display_data"
    }
   ],
   "source": [
    "epsilon_range = range(31,47)\n",
    "\n",
    "train_acc = []\n",
    "test_acc = []\n",
    "cross_val_train =[]\n",
    "cross_val_test =[]\n",
    "\n",
    "for d in epsilon_range:\n",
    "    svr = SVR(kernel = 'rbf', C = 200, epsilon = d, gamma = 3)\n",
    "    svr.fit(x_scaled_train, y_scaled_train.ravel()) \n",
    "    train_acc.append(sqrt(mean_squared_error(svr.predict(x_scaled_train), y_scaled_train.ravel())))\n",
    "    test_acc.append(sqrt(mean_squared_error(svr.predict(x_scaled_test), y_scaled_test.ravel())))\n",
    "    \n",
    "    results  = cross_validate(svr, x_scaled_list, y_scaled_list.ravel(), scoring='neg_root_mean_squared_error', cv=5, return_train_score = True)\n",
    "    cross_val_train.append(-sum(results['train_score'])/len(results['train_score']))\n",
    "    cross_val_test.append(-sum(results['test_score'])/len(results['test_score']))\n",
    "\n",
    "plt.plot(epsilon_range, cross_val_train, 'bo-', label ='cross val training rmse')\n",
    "plt.plot(epsilon_range, cross_val_test, 'ro-', label = 'cross val testing rmse')\n",
    "\n",
    "plt.xlabel('Epsilon range', fontsize='x-large')\n",
    "plt.ylabel('Root Mean Squared Error', fontsize='x-large')\n",
    "\n",
    "plt.legend(loc='best', shadow=True, fontsize='x-large')\n",
    "plt.show()"
   ]
  },
  {
   "cell_type": "code",
   "execution_count": 50,
   "metadata": {
    "scrolled": true
   },
   "outputs": [
    {
     "name": "stdout",
     "output_type": "stream",
     "text": [
      "train_score:  [-58.44437022 -57.46957187 -56.84222724 -56.51554795 -56.83787937]\n",
      "test_score:  [-55.35502892 -60.34011935 -63.15673398 -63.76361944 -63.888818  ]\n",
      "cross val training root mean squared error (RMSE) is: 57.22191933073917\n",
      "cross val testing root mean squared error (RMSE) is: 61.30086393679319\n"
     ]
    }
   ],
   "source": [
    "svr = SVR(C = 200, kernel = 'rbf', epsilon = 44, gamma = 1.5)\n",
    "svr.fit(x_scaled_train,y_scaled_train.ravel())\n",
    "results  = (cross_validate(svr, x_scaled_list, y_scaled_list.ravel(), scoring='neg_root_mean_squared_error', cv=5, return_train_score = True))\n",
    "print('train_score: ', results['train_score'])\n",
    "print('test_score: ', results['test_score'])\n",
    "print('cross val training root mean squared error (RMSE) is:', sum(-results['train_score'])/len(results['train_score']))\n",
    "print('cross val testing root mean squared error (RMSE) is:', sum(-results['test_score'])/len(results['test_score']))"
   ]
  },
  {
   "cell_type": "code",
   "execution_count": 44,
   "metadata": {},
   "outputs": [
    {
     "data": {
      "image/png": "[encoded data removed]",
      "text/plain": [
       "<Figure size 432x288 with 1 Axes>"
      ]
     },
     "metadata": {
      "needs_background": "light"
     },
     "output_type": "display_data"
    }
   ],
   "source": [
    "gamma_range = [0.5,1,2,3,4,5,6,7,8]\n",
    "\n",
    "train_acc = []\n",
    "test_acc = []\n",
    "cross_val_train =[]\n",
    "cross_val_test =[]\n",
    "\n",
    "for d in gamma_range:\n",
    "    svr = SVR(kernel = 'rbf', C = 200, epsilon = 44, gamma = d)\n",
    "    svr.fit(x_scaled_train, y_scaled_train.ravel()) \n",
    "    train_acc.append(sqrt(mean_squared_error(svr.predict(x_scaled_train), y_scaled_train.ravel())))\n",
    "    test_acc.append(sqrt(mean_squared_error(svr.predict(x_scaled_test), y_scaled_test.ravel())))\n",
    "    \n",
    "    results  = cross_validate(svr, x_scaled_list, y_scaled_list.ravel(), scoring='neg_root_mean_squared_error', cv=5, return_train_score = True)\n",
    "    cross_val_train.append(-sum(results['train_score'])/len(results['train_score']))\n",
    "    cross_val_test.append(-sum(results['test_score'])/len(results['test_score']))\n",
    "\n",
    "plt.plot(gamma_range, cross_val_train, 'bo-', label ='cross val training rmse')\n",
    "plt.plot(gamma_range, cross_val_test, 'ro-', label = 'cross val testing rmse')\n",
    "\n",
    "plt.xlabel('Gamma range', fontsize='x-large')\n",
    "plt.ylabel('Root Mean Squared Error', fontsize='x-large')\n",
    "\n",
    "plt.legend(loc='best', shadow=True, fontsize='x-large')\n",
    "plt.show()"
   ]
  },
  {
   "cell_type": "code",
   "execution_count": 59,
   "metadata": {
    "scrolled": true
   },
   "outputs": [
    {
     "name": "stdout",
     "output_type": "stream",
     "text": [
      "-60.89095134726838\n",
      "{'C': 600}\n"
     ]
    }
   ],
   "source": [
    "svr = SVR(kernel = 'rbf', gamma = 1.5, epsilon = 44)\n",
    "\n",
    "param_grid = {\"C\" : [200,250,300,350,400,450,500,550,600,650,700]}\n",
    "\n",
    "\n",
    "gs = GridSearchCV(estimator=svr, param_grid=param_grid, scoring='neg_root_mean_squared_error', cv=5, n_jobs=-1)\n",
    "\n",
    "gs = gs.fit(x_scaled_list, y_scaled_list)\n",
    "print(gs.best_score_)\n",
    "print(gs.best_params_)"
   ]
  },
  {
   "cell_type": "code",
   "execution_count": 60,
   "metadata": {},
   "outputs": [
    {
     "name": "stdout",
     "output_type": "stream",
     "text": [
      "-60.888909713110706\n",
      "{'C': 580}\n"
     ]
    }
   ],
   "source": [
    "svr = SVR(kernel = 'rbf', gamma = 1.5, epsilon = 44)\n",
    "\n",
    "param_grid = {\"C\" : [580,590,600,610,620,630]}\n",
    "\n",
    "\n",
    "gs = GridSearchCV(estimator=svr, param_grid=param_grid, scoring='neg_root_mean_squared_error', cv=5, n_jobs=-1)\n",
    "\n",
    "gs = gs.fit(x_scaled_list, y_scaled_list)\n",
    "print(gs.best_score_)\n",
    "print(gs.best_params_)"
   ]
  },
  {
   "cell_type": "code",
   "execution_count": 46,
   "metadata": {
    "scrolled": true
   },
   "outputs": [
    {
     "data": {
      "image/png": "[encoded data removed]",
      "text/plain": [
       "<Figure size 432x288 with 1 Axes>"
      ]
     },
     "metadata": {
      "needs_background": "light"
     },
     "output_type": "display_data"
    }
   ],
   "source": [
    "C_range = range(570,590)\n",
    "\n",
    "train_acc = []\n",
    "test_acc = []\n",
    "cross_val_train =[]\n",
    "cross_val_test =[]\n",
    "\n",
    "for d in C_range:\n",
    "    svr = SVR(kernel = 'rbf', C = d, epsilon = 44, gamma = 1.5)\n",
    "    svr.fit(x_scaled_train, y_scaled_train.ravel()) \n",
    "    train_acc.append(sqrt(mean_squared_error(svr.predict(x_scaled_train), y_scaled_train.ravel())))\n",
    "    test_acc.append(sqrt(mean_squared_error(svr.predict(x_scaled_test), y_scaled_test.ravel())))\n",
    "    \n",
    "    results  = cross_validate(svr, x_scaled_list, y_scaled_list.ravel(), scoring='neg_root_mean_squared_error', cv=5, return_train_score = True)\n",
    "    cross_val_train.append(-sum(results['train_score'])/len(results['train_score']))\n",
    "    cross_val_test.append(-sum(results['test_score'])/len(results['test_score']))\n",
    "\n",
    "plt.plot(C_range, cross_val_train, 'bo-', label ='cross val training rmse')\n",
    "plt.plot(C_range, cross_val_test, 'ro-', label = 'cross val testing rmse')\n",
    "\n",
    "plt.xlabel('C', fontsize='x-large')\n",
    "plt.ylabel('Root Mean Squared Error', fontsize='x-large')\n",
    "\n",
    "plt.legend(loc='best', shadow=True, fontsize='x-large')\n",
    "plt.show()"
   ]
  },
  {
   "cell_type": "code",
   "execution_count": 63,
   "metadata": {},
   "outputs": [
    {
     "name": "stdout",
     "output_type": "stream",
     "text": [
      "-60.888898252855824\n",
      "{'C': 582}\n"
     ]
    }
   ],
   "source": [
    "svr = SVR(kernel = 'rbf', gamma = 1.5, epsilon = 44)\n",
    "\n",
    "param_grid = {\"C\" : range(570,590)}\n",
    "\n",
    "\n",
    "gs = GridSearchCV(estimator=svr, param_grid=param_grid, scoring='neg_root_mean_squared_error', cv=5, n_jobs=-1)\n",
    "\n",
    "gs = gs.fit(x_scaled_list, y_scaled_list)\n",
    "print(gs.best_score_)\n",
    "print(gs.best_params_)"
   ]
  },
  {
   "cell_type": "code",
   "execution_count": 35,
   "metadata": {},
   "outputs": [
    {
     "name": "stdout",
     "output_type": "stream",
     "text": [
      "train_score:  [-56.42628217 -55.81600606 -54.97658656 -54.59543424 -54.80344615]\n",
      "test_score:  [-55.94894562 -58.79350155 -62.88742932 -62.9143486  -63.90026616]\n",
      "cross val training root mean squared error (RMSE) is: 55.32355103764316\n",
      "cross val testing root mean squared error (RMSE) is: 60.888898252855824\n"
     ]
    }
   ],
   "source": [
    "svr = SVR(C = 582, kernel = 'rbf', epsilon = 44, gamma = 1.5)\n",
    "svr.fit(x_scaled_train,y_scaled_train.ravel())\n",
    "results  = (cross_validate(svr, x_scaled_list,\n",
    "                           y_scaled_list.ravel(),\n",
    "                           scoring='neg_root_mean_squared_error',\n",
    "                           cv=5,\n",
    "                           return_train_score = True))\n",
    "print('train_score: ', results['train_score'])\n",
    "print('test_score: ', results['test_score'])\n",
    "print('cross val training root mean squared error (RMSE) is:', sum(-results['train_score'])/len(results['train_score']))\n",
    "print('cross val testing root mean squared error (RMSE) is:', sum(-results['test_score'])/len(results['test_score']))"
   ]
  },
  {
   "cell_type": "markdown",
   "metadata": {},
   "source": [
    "P Value"
   ]
  },
  {
   "cell_type": "code",
   "execution_count": 18,
   "metadata": {},
   "outputs": [
    {
     "data": {
      "text/html": [
       "<table class=\"simpletable\">\n",
       "<caption>OLS Regression Results</caption>\n",
       "<tr>\n",
       "  <th>Dep. Variable:</th>          <td>price</td>      <th>  R-squared (uncentered):</th>      <td>   0.841</td> \n",
       "</tr>\n",
       "<tr>\n",
       "  <th>Model:</th>                   <td>OLS</td>       <th>  Adj. R-squared (uncentered):</th> <td>   0.840</td> \n",
       "</tr>\n",
       "<tr>\n",
       "  <th>Method:</th>             <td>Least Squares</td>  <th>  F-statistic:       </th>          <td>   2115.</td> \n",
       "</tr>\n",
       "<tr>\n",
       "  <th>Date:</th>             <td>Fri, 29 Jan 2021</td> <th>  Prob (F-statistic):</th>           <td>  0.00</td>  \n",
       "</tr>\n",
       "<tr>\n",
       "  <th>Time:</th>                 <td>00:03:51</td>     <th>  Log-Likelihood:    </th>          <td> -22577.</td> \n",
       "</tr>\n",
       "<tr>\n",
       "  <th>No. Observations:</th>      <td>  4015</td>      <th>  AIC:               </th>          <td>4.517e+04</td>\n",
       "</tr>\n",
       "<tr>\n",
       "  <th>Df Residuals:</th>          <td>  4005</td>      <th>  BIC:               </th>          <td>4.524e+04</td>\n",
       "</tr>\n",
       "<tr>\n",
       "  <th>Df Model:</th>              <td>    10</td>      <th>                     </th>              <td> </td>    \n",
       "</tr>\n",
       "<tr>\n",
       "  <th>Covariance Type:</th>      <td>nonrobust</td>    <th>                     </th>              <td> </td>    \n",
       "</tr>\n",
       "</table>\n",
       "<table class=\"simpletable\">\n",
       "<tr>\n",
       "                 <td></td>                   <th>coef</th>     <th>std err</th>      <th>t</th>      <th>P>|t|</th>  <th>[0.025</th>    <th>0.975]</th>  \n",
       "</tr>\n",
       "<tr>\n",
       "  <th>neighbourhood</th>                  <td>   -1.2410</td> <td>    0.250</td> <td>   -4.955</td> <td> 0.000</td> <td>   -1.732</td> <td>   -0.750</td>\n",
       "</tr>\n",
       "<tr>\n",
       "  <th>latitude</th>                       <td>  -45.8492</td> <td>   66.420</td> <td>   -0.690</td> <td> 0.490</td> <td> -176.070</td> <td>   84.371</td>\n",
       "</tr>\n",
       "<tr>\n",
       "  <th>longitude</th>                      <td>   -0.0868</td> <td>    0.829</td> <td>   -0.105</td> <td> 0.917</td> <td>   -1.713</td> <td>    1.539</td>\n",
       "</tr>\n",
       "<tr>\n",
       "  <th>room_type</th>                      <td>   89.5985</td> <td>    1.889</td> <td>   47.444</td> <td> 0.000</td> <td>   85.896</td> <td>   93.301</td>\n",
       "</tr>\n",
       "<tr>\n",
       "  <th>minimum_nights</th>                 <td>   -1.8405</td> <td>    0.258</td> <td>   -7.130</td> <td> 0.000</td> <td>   -2.347</td> <td>   -1.334</td>\n",
       "</tr>\n",
       "<tr>\n",
       "  <th>number_of_reviews</th>              <td>   -0.3073</td> <td>    0.050</td> <td>   -6.188</td> <td> 0.000</td> <td>   -0.405</td> <td>   -0.210</td>\n",
       "</tr>\n",
       "<tr>\n",
       "  <th>last_review</th>                    <td>   -7.5250</td> <td>    2.508</td> <td>   -3.001</td> <td> 0.003</td> <td>  -12.442</td> <td>   -2.608</td>\n",
       "</tr>\n",
       "<tr>\n",
       "  <th>reviews_per_month</th>              <td>    6.8120</td> <td>    1.336</td> <td>    5.100</td> <td> 0.000</td> <td>    4.193</td> <td>    9.431</td>\n",
       "</tr>\n",
       "<tr>\n",
       "  <th>calculated_host_listings_count</th> <td>   -0.0496</td> <td>    0.018</td> <td>   -2.789</td> <td> 0.005</td> <td>   -0.084</td> <td>   -0.015</td>\n",
       "</tr>\n",
       "<tr>\n",
       "  <th>availability_365</th>               <td>    0.0874</td> <td>    0.008</td> <td>   11.185</td> <td> 0.000</td> <td>    0.072</td> <td>    0.103</td>\n",
       "</tr>\n",
       "</table>\n",
       "<table class=\"simpletable\">\n",
       "<tr>\n",
       "  <th>Omnibus:</th>       <td>582.224</td> <th>  Durbin-Watson:     </th> <td>   2.028</td> \n",
       "</tr>\n",
       "<tr>\n",
       "  <th>Prob(Omnibus):</th> <td> 0.000</td>  <th>  Jarque-Bera (JB):  </th> <td> 893.747</td> \n",
       "</tr>\n",
       "<tr>\n",
       "  <th>Skew:</th>          <td> 1.026</td>  <th>  Prob(JB):          </th> <td>8.42e-195</td>\n",
       "</tr>\n",
       "<tr>\n",
       "  <th>Kurtosis:</th>      <td> 4.064</td>  <th>  Cond. No.          </th> <td>1.73e+04</td> \n",
       "</tr>\n",
       "</table><br/><br/>Notes:<br/>[1] R² is computed without centering (uncentered) since the model does not contain a constant.<br/>[2] Standard Errors assume that the covariance matrix of the errors is correctly specified.<br/>[3] The condition number is large, 1.73e+04. This might indicate that there are<br/>strong multicollinearity or other numerical problems."
      ],
      "text/plain": [
       "<class 'statsmodels.iolib.summary.Summary'>\n",
       "\"\"\"\n",
       "                                 OLS Regression Results                                \n",
       "=======================================================================================\n",
       "Dep. Variable:                  price   R-squared (uncentered):                   0.841\n",
       "Model:                            OLS   Adj. R-squared (uncentered):              0.840\n",
       "Method:                 Least Squares   F-statistic:                              2115.\n",
       "Date:                Fri, 29 Jan 2021   Prob (F-statistic):                        0.00\n",
       "Time:                        00:03:51   Log-Likelihood:                         -22577.\n",
       "No. Observations:                4015   AIC:                                  4.517e+04\n",
       "Df Residuals:                    4005   BIC:                                  4.524e+04\n",
       "Df Model:                          10                                                  \n",
       "Covariance Type:            nonrobust                                                  \n",
       "==================================================================================================\n",
       "                                     coef    std err          t      P>|t|      [0.025      0.975]\n",
       "--------------------------------------------------------------------------------------------------\n",
       "neighbourhood                     -1.2410      0.250     -4.955      0.000      -1.732      -0.750\n",
       "latitude                         -45.8492     66.420     -0.690      0.490    -176.070      84.371\n",
       "longitude                         -0.0868      0.829     -0.105      0.917      -1.713       1.539\n",
       "room_type                         89.5985      1.889     47.444      0.000      85.896      93.301\n",
       "minimum_nights                    -1.8405      0.258     -7.130      0.000      -2.347      -1.334\n",
       "number_of_reviews                 -0.3073      0.050     -6.188      0.000      -0.405      -0.210\n",
       "last_review                       -7.5250      2.508     -3.001      0.003     -12.442      -2.608\n",
       "reviews_per_month                  6.8120      1.336      5.100      0.000       4.193       9.431\n",
       "calculated_host_listings_count    -0.0496      0.018     -2.789      0.005      -0.084      -0.015\n",
       "availability_365                   0.0874      0.008     11.185      0.000       0.072       0.103\n",
       "==============================================================================\n",
       "Omnibus:                      582.224   Durbin-Watson:                   2.028\n",
       "Prob(Omnibus):                  0.000   Jarque-Bera (JB):              893.747\n",
       "Skew:                           1.026   Prob(JB):                    8.42e-195\n",
       "Kurtosis:                       4.064   Cond. No.                     1.73e+04\n",
       "==============================================================================\n",
       "\n",
       "Notes:\n",
       "[1] R² is computed without centering (uncentered) since the model does not contain a constant.\n",
       "[2] Standard Errors assume that the covariance matrix of the errors is correctly specified.\n",
       "[3] The condition number is large, 1.73e+04. This might indicate that there are\n",
       "strong multicollinearity or other numerical problems.\n",
       "\"\"\""
      ]
     },
     "execution_count": 18,
     "metadata": {},
     "output_type": "execute_result"
    }
   ],
   "source": [
    "lm2 = sm.OLS(y_train, x_train).fit()\n",
    "# Summary statistics from the model\n",
    "lm2.summary()"
   ]
  },
  {
   "cell_type": "code",
   "execution_count": 19,
   "metadata": {},
   "outputs": [
    {
     "data": {
      "text/html": [
       "<table class=\"simpletable\">\n",
       "<caption>OLS Regression Results</caption>\n",
       "<tr>\n",
       "  <th>Dep. Variable:</th>          <td>price</td>      <th>  R-squared (uncentered):</th>      <td>   0.840</td> \n",
       "</tr>\n",
       "<tr>\n",
       "  <th>Model:</th>                   <td>OLS</td>       <th>  Adj. R-squared (uncentered):</th> <td>   0.840</td> \n",
       "</tr>\n",
       "<tr>\n",
       "  <th>Method:</th>             <td>Least Squares</td>  <th>  F-statistic:       </th>          <td>   2108.</td> \n",
       "</tr>\n",
       "<tr>\n",
       "  <th>Date:</th>             <td>Fri, 29 Jan 2021</td> <th>  Prob (F-statistic):</th>           <td>  0.00</td>  \n",
       "</tr>\n",
       "<tr>\n",
       "  <th>Time:</th>                 <td>00:03:53</td>     <th>  Log-Likelihood:    </th>          <td> -22583.</td> \n",
       "</tr>\n",
       "<tr>\n",
       "  <th>No. Observations:</th>      <td>  4015</td>      <th>  AIC:               </th>          <td>4.519e+04</td>\n",
       "</tr>\n",
       "<tr>\n",
       "  <th>Df Residuals:</th>          <td>  4005</td>      <th>  BIC:               </th>          <td>4.525e+04</td>\n",
       "</tr>\n",
       "<tr>\n",
       "  <th>Df Model:</th>              <td>    10</td>      <th>                     </th>              <td> </td>    \n",
       "</tr>\n",
       "<tr>\n",
       "  <th>Covariance Type:</th>      <td>nonrobust</td>    <th>                     </th>              <td> </td>    \n",
       "</tr>\n",
       "</table>\n",
       "<table class=\"simpletable\">\n",
       "<tr>\n",
       "                 <td></td>                   <th>coef</th>     <th>std err</th>      <th>t</th>      <th>P>|t|</th>  <th>[0.025</th>    <th>0.975]</th>  \n",
       "</tr>\n",
       "<tr>\n",
       "  <th>neighbourhood</th>                  <td>  -16.5908</td> <td>    4.844</td> <td>   -3.425</td> <td> 0.001</td> <td>  -26.087</td> <td>   -7.095</td>\n",
       "</tr>\n",
       "<tr>\n",
       "  <th>latitude</th>                       <td>    8.3881</td> <td>    7.382</td> <td>    1.136</td> <td> 0.256</td> <td>   -6.085</td> <td>   22.861</td>\n",
       "</tr>\n",
       "<tr>\n",
       "  <th>longitude</th>                      <td>    2.6726</td> <td>    7.348</td> <td>    0.364</td> <td> 0.716</td> <td>  -11.734</td> <td>   17.079</td>\n",
       "</tr>\n",
       "<tr>\n",
       "  <th>room_type</th>                      <td>  184.9095</td> <td>    3.413</td> <td>   54.171</td> <td> 0.000</td> <td>  178.217</td> <td>  191.602</td>\n",
       "</tr>\n",
       "<tr>\n",
       "  <th>minimum_nights</th>                 <td>  -39.3261</td> <td>    5.427</td> <td>   -7.247</td> <td> 0.000</td> <td>  -49.965</td> <td>  -28.687</td>\n",
       "</tr>\n",
       "<tr>\n",
       "  <th>number_of_reviews</th>              <td>  -94.3429</td> <td>   15.283</td> <td>   -6.173</td> <td> 0.000</td> <td> -124.306</td> <td>  -64.380</td>\n",
       "</tr>\n",
       "<tr>\n",
       "  <th>last_review</th>                    <td>   -5.1827</td> <td>    2.417</td> <td>   -2.144</td> <td> 0.032</td> <td>   -9.922</td> <td>   -0.444</td>\n",
       "</tr>\n",
       "<tr>\n",
       "  <th>reviews_per_month</th>              <td>   87.1668</td> <td>   17.401</td> <td>    5.009</td> <td> 0.000</td> <td>   53.052</td> <td>  121.282</td>\n",
       "</tr>\n",
       "<tr>\n",
       "  <th>calculated_host_listings_count</th> <td>  -16.3265</td> <td>    4.801</td> <td>   -3.400</td> <td> 0.001</td> <td>  -25.740</td> <td>   -6.913</td>\n",
       "</tr>\n",
       "<tr>\n",
       "  <th>availability_365</th>               <td>   35.1437</td> <td>    2.697</td> <td>   13.029</td> <td> 0.000</td> <td>   29.855</td> <td>   40.432</td>\n",
       "</tr>\n",
       "</table>\n",
       "<table class=\"simpletable\">\n",
       "<tr>\n",
       "  <th>Omnibus:</th>       <td>570.997</td> <th>  Durbin-Watson:     </th> <td>   2.028</td> \n",
       "</tr>\n",
       "<tr>\n",
       "  <th>Prob(Omnibus):</th> <td> 0.000</td>  <th>  Jarque-Bera (JB):  </th> <td> 874.850</td> \n",
       "</tr>\n",
       "<tr>\n",
       "  <th>Skew:</th>          <td> 1.008</td>  <th>  Prob(JB):          </th> <td>1.07e-190</td>\n",
       "</tr>\n",
       "<tr>\n",
       "  <th>Kurtosis:</th>      <td> 4.080</td>  <th>  Cond. No.          </th> <td>    31.9</td> \n",
       "</tr>\n",
       "</table><br/><br/>Notes:<br/>[1] R² is computed without centering (uncentered) since the model does not contain a constant.<br/>[2] Standard Errors assume that the covariance matrix of the errors is correctly specified."
      ],
      "text/plain": [
       "<class 'statsmodels.iolib.summary.Summary'>\n",
       "\"\"\"\n",
       "                                 OLS Regression Results                                \n",
       "=======================================================================================\n",
       "Dep. Variable:                  price   R-squared (uncentered):                   0.840\n",
       "Model:                            OLS   Adj. R-squared (uncentered):              0.840\n",
       "Method:                 Least Squares   F-statistic:                              2108.\n",
       "Date:                Fri, 29 Jan 2021   Prob (F-statistic):                        0.00\n",
       "Time:                        00:03:53   Log-Likelihood:                         -22583.\n",
       "No. Observations:                4015   AIC:                                  4.519e+04\n",
       "Df Residuals:                    4005   BIC:                                  4.525e+04\n",
       "Df Model:                          10                                                  \n",
       "Covariance Type:            nonrobust                                                  \n",
       "==================================================================================================\n",
       "                                     coef    std err          t      P>|t|      [0.025      0.975]\n",
       "--------------------------------------------------------------------------------------------------\n",
       "neighbourhood                    -16.5908      4.844     -3.425      0.001     -26.087      -7.095\n",
       "latitude                           8.3881      7.382      1.136      0.256      -6.085      22.861\n",
       "longitude                          2.6726      7.348      0.364      0.716     -11.734      17.079\n",
       "room_type                        184.9095      3.413     54.171      0.000     178.217     191.602\n",
       "minimum_nights                   -39.3261      5.427     -7.247      0.000     -49.965     -28.687\n",
       "number_of_reviews                -94.3429     15.283     -6.173      0.000    -124.306     -64.380\n",
       "last_review                       -5.1827      2.417     -2.144      0.032      -9.922      -0.444\n",
       "reviews_per_month                 87.1668     17.401      5.009      0.000      53.052     121.282\n",
       "calculated_host_listings_count   -16.3265      4.801     -3.400      0.001     -25.740      -6.913\n",
       "availability_365                  35.1437      2.697     13.029      0.000      29.855      40.432\n",
       "==============================================================================\n",
       "Omnibus:                      570.997   Durbin-Watson:                   2.028\n",
       "Prob(Omnibus):                  0.000   Jarque-Bera (JB):              874.850\n",
       "Skew:                           1.008   Prob(JB):                    1.07e-190\n",
       "Kurtosis:                       4.080   Cond. No.                         31.9\n",
       "==============================================================================\n",
       "\n",
       "Notes:\n",
       "[1] R² is computed without centering (uncentered) since the model does not contain a constant.\n",
       "[2] Standard Errors assume that the covariance matrix of the errors is correctly specified.\n",
       "\"\"\""
      ]
     },
     "execution_count": 19,
     "metadata": {},
     "output_type": "execute_result"
    }
   ],
   "source": [
    "lm2 = sm.OLS(y_scaled_train, x_scaled_train).fit()\n",
    "# Summary statistics from the model\n",
    "lm2.summary()"
   ]
  },
  {
   "cell_type": "code",
   "execution_count": 22,
   "metadata": {},
   "outputs": [],
   "source": [
    "x_new = df_list.drop(['latitude','longitude','price'], axis = 1)\n",
    "x_scaled_new = df_scaled_list.drop(['latitude','longitude','price'], axis = 1)"
   ]
  },
  {
   "cell_type": "code",
   "execution_count": 23,
   "metadata": {},
   "outputs": [
    {
     "data": {
      "text/html": [
       "<div>\n",
       "<style scoped>\n",
       "    .dataframe tbody tr th:only-of-type {\n",
       "        vertical-align: middle;\n",
       "    }\n",
       "\n",
       "    .dataframe tbody tr th {\n",
       "        vertical-align: top;\n",
       "    }\n",
       "\n",
       "    .dataframe thead th {\n",
       "        text-align: right;\n",
       "    }\n",
       "</style>\n",
       "<table border=\"1\" class=\"dataframe\">\n",
       "  <thead>\n",
       "    <tr style=\"text-align: right;\">\n",
       "      <th></th>\n",
       "      <th>neighbourhood</th>\n",
       "      <th>room_type</th>\n",
       "      <th>minimum_nights</th>\n",
       "      <th>number_of_reviews</th>\n",
       "      <th>last_review</th>\n",
       "      <th>reviews_per_month</th>\n",
       "      <th>calculated_host_listings_count</th>\n",
       "      <th>availability_365</th>\n",
       "    </tr>\n",
       "  </thead>\n",
       "  <tbody>\n",
       "    <tr>\n",
       "      <th>0</th>\n",
       "      <td>0.333333</td>\n",
       "      <td>0.5</td>\n",
       "      <td>0.047619</td>\n",
       "      <td>0.058632</td>\n",
       "      <td>1</td>\n",
       "      <td>0.021538</td>\n",
       "      <td>0.000000</td>\n",
       "      <td>1.000000</td>\n",
       "    </tr>\n",
       "    <tr>\n",
       "      <th>1</th>\n",
       "      <td>0.722222</td>\n",
       "      <td>0.5</td>\n",
       "      <td>0.666667</td>\n",
       "      <td>0.058632</td>\n",
       "      <td>1</td>\n",
       "      <td>0.017692</td>\n",
       "      <td>0.113553</td>\n",
       "      <td>0.906849</td>\n",
       "    </tr>\n",
       "    <tr>\n",
       "      <th>2</th>\n",
       "      <td>0.722222</td>\n",
       "      <td>0.5</td>\n",
       "      <td>0.047619</td>\n",
       "      <td>0.032573</td>\n",
       "      <td>1</td>\n",
       "      <td>0.008462</td>\n",
       "      <td>0.113553</td>\n",
       "      <td>0.756164</td>\n",
       "    </tr>\n",
       "    <tr>\n",
       "      <th>3</th>\n",
       "      <td>0.277778</td>\n",
       "      <td>0.5</td>\n",
       "      <td>0.047619</td>\n",
       "      <td>0.407166</td>\n",
       "      <td>1</td>\n",
       "      <td>0.103846</td>\n",
       "      <td>0.018315</td>\n",
       "      <td>0.920548</td>\n",
       "    </tr>\n",
       "    <tr>\n",
       "      <th>4</th>\n",
       "      <td>0.722222</td>\n",
       "      <td>0.5</td>\n",
       "      <td>0.047619</td>\n",
       "      <td>0.042345</td>\n",
       "      <td>1</td>\n",
       "      <td>0.011538</td>\n",
       "      <td>0.113553</td>\n",
       "      <td>0.931507</td>\n",
       "    </tr>\n",
       "  </tbody>\n",
       "</table>\n",
       "</div>"
      ],
      "text/plain": [
       "   neighbourhood  room_type  minimum_nights  number_of_reviews  last_review  \\\n",
       "0       0.333333        0.5        0.047619           0.058632            1   \n",
       "1       0.722222        0.5        0.666667           0.058632            1   \n",
       "2       0.722222        0.5        0.047619           0.032573            1   \n",
       "3       0.277778        0.5        0.047619           0.407166            1   \n",
       "4       0.722222        0.5        0.047619           0.042345            1   \n",
       "\n",
       "   reviews_per_month  calculated_host_listings_count  availability_365  \n",
       "0           0.021538                        0.000000          1.000000  \n",
       "1           0.017692                        0.113553          0.906849  \n",
       "2           0.008462                        0.113553          0.756164  \n",
       "3           0.103846                        0.018315          0.920548  \n",
       "4           0.011538                        0.113553          0.931507  "
      ]
     },
     "execution_count": 23,
     "metadata": {},
     "output_type": "execute_result"
    }
   ],
   "source": [
    "x_train_new, x_test_new, y_train_new, y_test_new = train_test_split(x_new, y_list, test_size=0.33, random_state=6)\n",
    "x_scaled_train_new, x_scaled_test_new, y_scaled_train_new, y_scaled_test_new = train_test_split(x_scaled_new, y_scaled_list, test_size=0.33, random_state=6)\n",
    "#test data\n",
    "x_scaled_new.head()"
   ]
  },
  {
   "cell_type": "markdown",
   "metadata": {},
   "source": [
    "SVM"
   ]
  },
  {
   "cell_type": "code",
   "execution_count": 24,
   "metadata": {
    "scrolled": false
   },
   "outputs": [
    {
     "name": "stdout",
     "output_type": "stream",
     "text": [
      "train_score:  [-61.29562998 -60.10624063 -59.30886017 -58.87055994 -59.49166475]\n",
      "test_score:  [-57.90797346 -63.43142203 -66.06398028 -67.07772291 -65.50181224]\n",
      "cross val training root mean squared error (RMSE) is: 59.814591095329305\n",
      "cross val testing root mean squared error (RMSE) is: 63.99658218207255\n"
     ]
    }
   ],
   "source": [
    "svr = SVR(C = 582, kernel = 'rbf', epsilon = 44, gamma = 1.5)\n",
    "svr.fit(x_scaled_train_new,y_scaled_train_new.ravel())\n",
    "results  = (cross_validate(svr, x_scaled_new, y_scaled_list.ravel(), scoring='neg_root_mean_squared_error', cv=5, return_train_score = True))\n",
    "print('train_score: ', results['train_score'])\n",
    "print('test_score: ', results['test_score'])\n",
    "print('cross val training root mean squared error (RMSE) is:', sum(-results['train_score'])/len(results['train_score']))\n",
    "print('cross val testing root mean squared error (RMSE) is:', sum(-results['test_score'])/len(results['test_score']))"
   ]
  },
  {
   "cell_type": "markdown",
   "metadata": {},
   "source": [
    "XGB"
   ]
  },
  {
   "cell_type": "code",
   "execution_count": 25,
   "metadata": {},
   "outputs": [
    {
     "name": "stdout",
     "output_type": "stream",
     "text": [
      "cross val training root mean squared error (RMSE) is: 59.70274100959866\n",
      "cross val testing root mean squared error (RMSE) is: 62.06335246904015\n"
     ]
    }
   ],
   "source": [
    "xgb = XGBRegressor(random_state = 6, n_estimators = 605, max_depth = 2, min_child_weight = 5, gamma = 0.01, learning_rate = 0.016,\n",
    "                   subsample = 0.6, colsample_bytree = 0.7, objective = 'reg:squarederror')\n",
    "xgb.fit(x_train_new, y_train_new.ravel()) \n",
    "results  = cross_validate(xgb, x_new, y_list.ravel(), scoring='neg_root_mean_squared_error', cv=5, return_train_score = True)\n",
    "print('cross val training root mean squared error (RMSE) is:', sum(-results['train_score'])/len(results['train_score']))\n",
    "print('cross val testing root mean squared error (RMSE) is:', sum(-results['test_score'])/len(results['test_score']))"
   ]
  },
  {
   "cell_type": "markdown",
   "metadata": {},
   "source": [
    "RF"
   ]
  },
  {
   "cell_type": "code",
   "execution_count": 26,
   "metadata": {
    "scrolled": true
   },
   "outputs": [
    {
     "name": "stdout",
     "output_type": "stream",
     "text": [
      "train_score:  [-60.24001261 -59.44287861 -59.03068597 -58.28158138 -58.77366611]\n",
      "test_score:  [-56.68090771 -61.91677678 -62.64030361 -65.76980853 -64.32385478]\n",
      "cross val training root mean squared error (RMSE) is: 59.15376493578265\n",
      "cross val testing root mean squared error (RMSE) is: 62.26633028174329\n"
     ]
    }
   ],
   "source": [
    "# Create Random Forest Model\n",
    "rf_reg = RandomForestRegressor(random_state = 6, n_jobs=-1, max_features = 'log2', min_samples_split = 5, min_samples_leaf = 64,\n",
    "                               max_depth = 25, n_estimators = 950)\n",
    "# Y_train is a 1D array, use ravel() to change the shape of Y_train to (n_samples,) before feed it into fit function\n",
    "rf_reg.fit(x_train_new, y_train_new.ravel())\n",
    "results  = (cross_validate(rf_reg, x_new, y_list.ravel(), scoring='neg_root_mean_squared_error', cv=5, return_train_score = True))\n",
    "print('train_score: ', results['train_score'])\n",
    "print('test_score: ', results['test_score'])\n",
    "print('cross val training root mean squared error (RMSE) is:', sum(-results['train_score'])/len(results['train_score']))\n",
    "print('cross val testing root mean squared error (RMSE) is:', sum(-results['test_score'])/len(results['test_score']))"
   ]
  }
 ],
 "metadata": {
  "kernelspec": {
   "display_name": "Python 3",
   "language": "python",
   "name": "python3"
  },
  "language_info": {
   "codemirror_mode": {
    "name": "ipython",
    "version": 3
   },
   "file_extension": ".py",
   "mimetype": "text/x-python",
   "name": "python",
   "nbconvert_exporter": "python",
   "pygments_lexer": "ipython3",
   "version": "3.8.5"
  }
 },
 "nbformat": 4,
 "nbformat_minor": 2
}
